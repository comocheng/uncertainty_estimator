{
 "cells": [
  {
   "cell_type": "code",
   "execution_count": 1,
   "id": "5395ebc1",
   "metadata": {},
   "outputs": [],
   "source": [
    "# A script for me to explain the correlation between thermo and kinetics to myself"
   ]
  },
  {
   "cell_type": "markdown",
   "id": "c3748a8f",
   "metadata": {},
   "source": [
    "## (Some) reaction rates depend on species thermo\n",
    "\n",
    "$k=AT^be^{-E_a/RT}$\n",
    "\n",
    "For BEP relations, $E_a$ is a function of the enthalpy of reaction, which depends on species enthalpies\n",
    "\n",
    "$E_a$ = $E_a(\\Delta H_{rxn}) = E_0 + \\alpha \\Delta H_{rxn} = E_0 + \\alpha \\sum_i {\\nu_i} H_{i}$\n",
    "\n",
    "Where ${\\nu_i}$ is the stoichiometric coefficient and $H_{i}$ is the enthalpy for species $i$.\n",
    "\n",
    "We can rewrite this as a sum using properties of logs\n",
    "\n",
    "$\\ln k=\\ln A +b\\ln T - \\frac{E_0}{RT} - \\alpha \\frac{\\sum_i {\\nu_i} H_{i}}{RT}$"
   ]
  },
  {
   "cell_type": "markdown",
   "id": "bd416008",
   "metadata": {},
   "source": [
    "# Each term is an independent source of uncertainty"
   ]
  },
  {
   "cell_type": "markdown",
   "id": "6aa4511f",
   "metadata": {},
   "source": [
    "(This isn't entirely accurate because species calculated using the same DFT method will have correlated/systematic errors, but it's the best we can do without digging into the details of\n",
    "the BEEF-vdW results. Also, if the reactions are part of the same family, the $E_0$s are probably also correlated.)\n",
    "\n",
    "We assume each term is independent of the others: $A, b, E_0, H_i$\n",
    "\n",
    "(Assuming here that $\\alpha$ isn't uncertain)\n",
    "\n",
    "So, if we have two reactions:\n",
    "\n",
    "$$\\ln k_1=\\ln A_1 +b_1\\ln T - \\frac{E_{0,1}}{RT} - \\alpha_1 \\frac{\\sum_i {\\nu_i} H_{i}}{RT}$$\n",
    "\n",
    "$$\\ln k_2=\\ln A_2 +b_2\\ln T - \\frac{E_{0,2}}{RT} - \\alpha_2 \\frac{\\sum_i {\\nu_i} H_{i}}{RT}$$\n",
    "\n",
    "and want to know the covariance between them $cov(\\ln k_1, \\ln k_2)$\n",
    "\n",
    "The assumptions of independence mean that the only the $\\alpha_1 \\frac{{\\nu_i} H_{i}}{RT}$ terms will be nonzero, and only when the same species appears in both reactions."
   ]
  },
  {
   "cell_type": "markdown",
   "id": "3af5a5a1",
   "metadata": {},
   "source": [
    "# Let's look at an example in RMG"
   ]
  },
  {
   "cell_type": "code",
   "execution_count": 9,
   "id": "035e6b15",
   "metadata": {},
   "outputs": [],
   "source": [
    "import os\n",
    "import numpy as np\n",
    "import rmgpy.data.thermo\n",
    "import matplotlib.pyplot as plt\n",
    "%matplotlib inline"
   ]
  },
  {
   "cell_type": "markdown",
   "id": "c861d86a",
   "metadata": {},
   "source": [
    "### Load the database"
   ]
  },
  {
   "cell_type": "code",
   "execution_count": 10,
   "id": "184680aa",
   "metadata": {},
   "outputs": [
    {
     "name": "stderr",
     "output_type": "stream",
     "text": [
      "WARNING:root:An instance of RMGDatabase already exists. Re-initializing it.\n"
     ]
    }
   ],
   "source": [
    "# Load the database\n",
    "database = rmgpy.data.rmg.RMGDatabase()\n",
    "database.load(\n",
    "    path = rmgpy.settings['database.directory'],\n",
    "    thermo_libraries = ['surfaceThermoPt111', 'primaryThermoLibrary'],\n",
    "    reaction_libraries = ['Surface/CPOX_Pt/Deutschmann2006_adjusted'],\n",
    "    kinetics_families = ['Surface_Abstraction'],\n",
    "    kinetics_depositories = ['training'],\n",
    "    depository = True,\n",
    ")"
   ]
  },
  {
   "cell_type": "markdown",
   "id": "d8b3e68e",
   "metadata": {},
   "source": [
    "### Define/display our example reactions"
   ]
  },
  {
   "cell_type": "markdown",
   "id": "3138af02",
   "metadata": {},
   "source": [
    "Reaction 1: CH2X + HOX <=> CH3X + OX\n",
    "\n",
    "Reaction 2: CHX + HOX <=> CH2X + OX\n"
   ]
  },
  {
   "cell_type": "code",
   "execution_count": 41,
   "id": "583660e6",
   "metadata": {},
   "outputs": [
    {
     "name": "stdout",
     "output_type": "stream",
     "text": [
      "Reaction 1:\n"
     ]
    },
    {
     "data": {
      "image/png": "[encoded data removed]",
      "text/plain": [
       "Reaction(reactants=[Species(label=\"CH2X_1\", molecule=[Molecule(smiles=\"C=[Pt]\")], molecular_weight=(14.0266,'amu')), Species(label=\"HOX_3\", molecule=[Molecule(smiles=\"O[Pt]\")], molecular_weight=(17.0074,'amu'))], products=[Species(label=\"CH3X_4\", molecule=[Molecule(smiles=\"C[Pt]\")], molecular_weight=(15.0346,'amu')), Species(label=\"OX_5\", molecule=[Molecule(smiles=\"O=[Pt]\")], molecular_weight=(15.9994,'amu'))],)"
      ]
     },
     "metadata": {},
     "output_type": "display_data"
    },
    {
     "name": "stdout",
     "output_type": "stream",
     "text": [
      "\n",
      "Reaction 2:\n"
     ]
    },
    {
     "data": {
      "image/png": "[encoded data removed]",
      "text/plain": [
       "Reaction(reactants=[Species(label=\"CHX_1\", molecule=[Molecule(smiles=\"C#[Pt]\")], molecular_weight=(13.0186,'amu')), Species(label=\"HOX_3\", molecule=[Molecule(smiles=\"O[Pt]\")], molecular_weight=(17.0074,'amu'))], products=[Species(label=\"CH2X_4\", molecule=[Molecule(smiles=\"C=[Pt]\")], molecular_weight=(14.0266,'amu')), Species(label=\"OX_5\", molecule=[Molecule(smiles=\"O=[Pt]\")], molecular_weight=(15.9994,'amu'))],)"
      ]
     },
     "metadata": {},
     "output_type": "display_data"
    },
    {
     "name": "stdout",
     "output_type": "stream",
     "text": [
      "\n",
      "Reaction 3:\n"
     ]
    },
    {
     "data": {
      "image/png": "[encoded data removed]",
      "text/plain": [
       "Reaction(reactants=[Species(label=\"CX_1\", molecule=[Molecule(smiles=\"C$[Pt]\")], molecular_weight=(12.0106,'amu')), Species(label=\"HOX_3\", molecule=[Molecule(smiles=\"O[Pt]\")], molecular_weight=(17.0074,'amu'))], products=[Species(label=\"CHX_4\", molecule=[Molecule(smiles=\"C#[Pt]\")], molecular_weight=(13.0186,'amu')), Species(label=\"OX_5\", molecule=[Molecule(smiles=\"O=[Pt]\")], molecular_weight=(15.9994,'amu'))],)"
      ]
     },
     "metadata": {},
     "output_type": "display_data"
    },
    {
     "name": "stdout",
     "output_type": "stream",
     "text": [
      "\n",
      "Reaction 4:\n"
     ]
    },
    {
     "data": {
      "image/png": "[encoded data removed]",
      "text/plain": [
       "Reaction(reactants=[Species(label=\"OX_1\", molecule=[Molecule(smiles=\"O=[Pt]\")], molecular_weight=(15.9994,'amu')), Species(label=\"HCOX_3\", molecule=[Molecule(smiles=\"O=C[Pt]\")], molecular_weight=(29.018,'amu'))], products=[Species(label=\"HOX_4\", molecule=[Molecule(smiles=\"O[Pt]\")], molecular_weight=(17.0074,'amu')), Species(label=\"COX_5\", molecule=[Molecule(smiles=\"O=C=[Pt]\")], molecular_weight=(28.01,'amu'))],)"
      ]
     },
     "metadata": {},
     "output_type": "display_data"
    },
    {
     "name": "stdout",
     "output_type": "stream",
     "text": [
      "\n"
     ]
    }
   ],
   "source": [
    "family = 'Surface_Abstraction'\n",
    "training_depository = database.kinetics.families[family].get_training_depository()\n",
    "my_reactions = []\n",
    "for i, entry in enumerate(training_depository.entries):\n",
    "    print(f'Reaction {i + 1}:')\n",
    "    display(training_depository.entries[entry].item)\n",
    "    my_reactions.append(training_depository.entries[entry].item)\n",
    "    print()"
   ]
  },
  {
   "cell_type": "markdown",
   "id": "a6e38232",
   "metadata": {},
   "source": [
    "### Look up the BEP kinetics corresponding to each reaction\n",
    "\n",
    "Note that the training reactions themselves have regular Arrhenius kinetics.\n",
    "We need to use RMG's kinetics decision tree to get the BEP version."
   ]
  },
  {
   "cell_type": "code",
   "execution_count": 45,
   "id": "1e5816c2",
   "metadata": {},
   "outputs": [
    {
     "name": "stdout",
     "output_type": "stream",
     "text": [
      "Reaction 1:\n",
      "SurfaceArrheniusBEP(A=(4.18e+17,'m^2/(mol*s)'), n=0, alpha=0.37, E0=(99.3,'kJ/mol'), Tmin=(200,'K'), Tmax=(3000,'K'), comment=\"\"\"Estimated using template [Abstracting;*R-H] for rate rule [C=*;*OH]\n",
      "Euclidian distance = 2.23606797749979\n",
      "family: Surface_Abstraction\"\"\")\n",
      "\n",
      "Reaction 2:\n",
      "SurfaceArrheniusBEP(A=(4.18e+17,'m^2/(mol*s)'), n=0, alpha=0.37, E0=(99.3,'kJ/mol'), Tmin=(200,'K'), Tmax=(3000,'K'), comment=\"\"\"Estimated using template [Abstracting;*R-H] for rate rule [C#*;*OH]\n",
      "Euclidian distance = 2.23606797749979\n",
      "family: Surface_Abstraction\"\"\")\n",
      "\n",
      "Reaction 3:\n",
      "SurfaceArrheniusBEP(A=(4.18e+17,'m^2/(mol*s)'), n=0, alpha=0.37, E0=(99.3,'kJ/mol'), Tmin=(200,'K'), Tmax=(3000,'K'), comment=\"\"\"Estimated using template [Abstracting;*R-H] for rate rule [C$*;*OH]\n",
      "Euclidian distance = 2.23606797749979\n",
      "family: Surface_Abstraction\"\"\")\n",
      "\n",
      "Reaction 4:\n",
      "SurfaceArrheniusBEP(A=(4.18e+17,'m^2/(mol*s)'), n=0, alpha=0.94, E0=(129.3,'kJ/mol'), Tmin=(200,'K'), Tmax=(3000,'K'), comment=\"\"\"Estimated using template [O;*C-H] for rate rule [O;*-C-H]\n",
      "Euclidian distance = 1.0\n",
      "family: Surface_Abstraction\"\"\")\n",
      "\n"
     ]
    }
   ],
   "source": [
    "# Get the kinetics from the RMG family's decision tree\n",
    "for i, rxn in enumerate(my_reactions):\n",
    "    print(f'Reaction {i + 1}:')\n",
    "    \n",
    "    template_labels = database.kinetics.families[family].get_reaction_template_labels(rxn)\n",
    "    template = database.kinetics.families[family].retrieve_template(template_labels)\n",
    "    kinetics = database.kinetics.families[family].get_kinetics_for_template(template, degeneracy=rxn.degeneracy)[0]\n",
    "    my_reactions[i].kinetics = kinetics\n",
    "    print(kinetics)\n",
    "    print()"
   ]
  },
  {
   "cell_type": "markdown",
   "id": "990aa892",
   "metadata": {},
   "source": [
    "Note that 3/4 of the examples have identical BEP parameters, but will have different $\\ln k$\n",
    "because of the dependence on $\\Delta H_{rxn}$"
   ]
  },
  {
   "cell_type": "markdown",
   "id": "f2201c27",
   "metadata": {},
   "source": [
    "### Grab the species thermo from the database so we can calculate $\\Delta H_{rxn}$"
   ]
  },
  {
   "cell_type": "code",
   "execution_count": 56,
   "id": "c874ac55",
   "metadata": {},
   "outputs": [],
   "source": [
    "lib = database.thermo.libraries['surfaceThermoPt111']\n",
    "for i, rxn in enumerate(my_reactions):\n",
    "    for j in range(len(rxn.reactants)):\n",
    "        my_reactions[i].reactants[j].thermo = database.thermo.get_thermo_data_from_library(\n",
    "            my_reactions[i].reactants[j],\n",
    "            lib\n",
    "        )[0]\n",
    "    for j in range(len(rxn.products)):\n",
    "        my_reactions[i].products[j].thermo = database.thermo.get_thermo_data_from_library(\n",
    "            my_reactions[i].products[j],\n",
    "            lib\n",
    "        )[0]"
   ]
  },
  {
   "cell_type": "code",
   "execution_count": null,
   "id": "ea095c3d",
   "metadata": {},
   "outputs": [],
   "source": []
  },
  {
   "cell_type": "code",
   "execution_count": 47,
   "id": "1a077718",
   "metadata": {},
   "outputs": [],
   "source": [
    "my_reactions[0].reactants[0].thermo"
   ]
  },
  {
   "cell_type": "markdown",
   "id": "78829a17",
   "metadata": {},
   "source": [
    "# Plot the kinetics for comparison"
   ]
  },
  {
   "cell_type": "code",
   "execution_count": 34,
   "id": "e3021518",
   "metadata": {},
   "outputs": [],
   "source": [
    "def plot_kinetics(rxns, labels=None):\n",
    "    \"\"\"Function for plotting reaction kinetics\n",
    "    Takes in a list of RMG reactions (rmgpy.reaction.Reaction) or a single reaction\n",
    "    \"\"\"\n",
    "    plt.xlabel('1000 / T (K^-1)')\n",
    "    plt.ylabel('log(k)')\n",
    "\n",
    "    if type(rxns) != list:\n",
    "        rxns = [rxns]\n",
    "\n",
    "    T = np.linspace(300, 3000, 1001)\n",
    "    for rxn in rxns:\n",
    "        k = np.zeros(len(T))\n",
    "        for i in range(0, len(T)):\n",
    "            k[i] = rxn.get_rate_coefficient(T[i], 101325)\n",
    "        plt.plot(1000.0 / T, np.log10(k))\n",
    "\n",
    "    if labels:\n",
    "        plt.legend(labels)\n",
    "    plt.show()"
   ]
  },
  {
   "cell_type": "code",
   "execution_count": null,
   "id": "3f97ffa4",
   "metadata": {},
   "outputs": [],
   "source": []
  },
  {
   "cell_type": "code",
   "execution_count": null,
   "id": "1595f7c5",
   "metadata": {},
   "outputs": [],
   "source": []
  },
  {
   "cell_type": "code",
   "execution_count": null,
   "id": "731d5a41",
   "metadata": {},
   "outputs": [],
   "source": [
    "database.kinetics.families['Surface_Abstraction']"
   ]
  },
  {
   "cell_type": "code",
   "execution_count": null,
   "id": "ae79def0",
   "metadata": {},
   "outputs": [],
   "source": []
  },
  {
   "cell_type": "code",
   "execution_count": null,
   "id": "05ef9bea",
   "metadata": {},
   "outputs": [],
   "source": []
  },
  {
   "cell_type": "code",
   "execution_count": 20,
   "id": "7de1019f",
   "metadata": {},
   "outputs": [
    {
     "data": {
      "text/plain": [
       "rmgpy.kinetics.surface.SurfaceArrhenius"
      ]
     },
     "execution_count": 20,
     "metadata": {},
     "output_type": "execute_result"
    }
   ],
   "source": [
    "type(training_depository.entries[24].data)"
   ]
  },
  {
   "cell_type": "code",
   "execution_count": null,
   "id": "db0fc4b7",
   "metadata": {},
   "outputs": [],
   "source": []
  },
  {
   "cell_type": "code",
   "execution_count": 4,
   "id": "c1f17b99",
   "metadata": {},
   "outputs": [],
   "source": []
  },
  {
   "cell_type": "code",
   "execution_count": 5,
   "id": "767aa901",
   "metadata": {},
   "outputs": [],
   "source": [
    "train = database.kinetics.families['Surface_Abstraction'].get_training_depository()"
   ]
  },
  {
   "cell_type": "code",
   "execution_count": 11,
   "id": "325cad9a",
   "metadata": {},
   "outputs": [
    {
     "data": {
      "text/plain": [
       "'CH2X_1 + HOX_3 <=> CH3X_4 + OX_5'"
      ]
     },
     "execution_count": 11,
     "metadata": {},
     "output_type": "execute_result"
    }
   ],
   "source": [
    "str(train.entries[24].item)"
   ]
  },
  {
   "cell_type": "code",
   "execution_count": 12,
   "id": "d3e702a2",
   "metadata": {},
   "outputs": [
    {
     "data": {
      "text/plain": [
       "'CHX_1 + HOX_3 <=> CH2X_4 + OX_5'"
      ]
     },
     "execution_count": 12,
     "metadata": {},
     "output_type": "execute_result"
    }
   ],
   "source": [
    "str(train.entries[26].item)"
   ]
  },
  {
   "cell_type": "code",
   "execution_count": null,
   "id": "4fe8beff",
   "metadata": {},
   "outputs": [],
   "source": [
    "train.entries[28].item"
   ]
  },
  {
   "cell_type": "code",
   "execution_count": 15,
   "id": "56196139",
   "metadata": {},
   "outputs": [
    {
     "data": {
      "image/png": "[encoded data removed]",
      "text/plain": [
       "Reaction(reactants=[Species(label=\"OX_1\", molecule=[Molecule(smiles=\"O=[Pt]\")], molecular_weight=(15.9994,'amu')), Species(label=\"HCOX_3\", molecule=[Molecule(smiles=\"O=C[Pt]\")], molecular_weight=(29.018,'amu'))], products=[Species(label=\"HOX_4\", molecule=[Molecule(smiles=\"O[Pt]\")], molecular_weight=(17.0074,'amu')), Species(label=\"COX_5\", molecule=[Molecule(smiles=\"O=C=[Pt]\")], molecular_weight=(28.01,'amu'))],)"
      ]
     },
     "execution_count": 15,
     "metadata": {},
     "output_type": "execute_result"
    }
   ],
   "source": [
    "train.entries[39].item"
   ]
  },
  {
   "cell_type": "code",
   "execution_count": null,
   "id": "3657a479",
   "metadata": {},
   "outputs": [],
   "source": []
  },
  {
   "cell_type": "code",
   "execution_count": null,
   "id": "882b1535",
   "metadata": {},
   "outputs": [],
   "source": [
    "train.entries"
   ]
  },
  {
   "cell_type": "code",
   "execution_count": null,
   "id": "8418bf29",
   "metadata": {},
   "outputs": [],
   "source": [
    "train.entries[39].item.reactants[0]"
   ]
  },
  {
   "cell_type": "code",
   "execution_count": null,
   "id": "17ebf48a",
   "metadata": {},
   "outputs": [],
   "source": [
    "print(train.entries[39].item.reactants[0].to_adjacency_list())"
   ]
  },
  {
   "cell_type": "code",
   "execution_count": null,
   "id": "62c02df3",
   "metadata": {},
   "outputs": [],
   "source": [
    "train.entries[24].item.products[1]"
   ]
  },
  {
   "cell_type": "code",
   "execution_count": null,
   "id": "c0ac40b1",
   "metadata": {},
   "outputs": [],
   "source": [
    "print(train.entries[24].item.products[1].to_adjacency_list())"
   ]
  },
  {
   "cell_type": "code",
   "execution_count": null,
   "id": "e8acfc97",
   "metadata": {},
   "outputs": [],
   "source": []
  },
  {
   "cell_type": "code",
   "execution_count": null,
   "id": "3619c755",
   "metadata": {},
   "outputs": [],
   "source": []
  }
 ],
 "metadata": {
  "kernelspec": {
   "display_name": "Python 3 (ipykernel)",
   "language": "python",
   "name": "python3"
  },
  "language_info": {
   "codemirror_mode": {
    "name": "ipython",
    "version": 3
   },
   "file_extension": ".py",
   "mimetype": "text/x-python",
   "name": "python",
   "nbconvert_exporter": "python",
   "pygments_lexer": "ipython3",
   "version": "3.7.12"
  }
 },
 "nbformat": 4,
 "nbformat_minor": 5
}
