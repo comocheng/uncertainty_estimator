{
 "cells": [
  {
   "cell_type": "code",
   "execution_count": 1,
   "id": "c0e3bcc2",
   "metadata": {},
   "outputs": [],
   "source": [
    "# A script for me to explain the correlation between thermo and kinetics to myself"
   ]
  },
  {
   "cell_type": "markdown",
   "id": "22af422d",
   "metadata": {},
   "source": [
    "## (Some) reaction rates depend on species thermo\n",
    "\n",
    "$k=AT^be^{-E_a/RT}$\n",
    "\n",
    "For BEP relations, $E_a$ is a function of the enthalpy of reaction, which depends on species enthalpies\n",
    "\n",
    "$E_a$ = $E_a(\\Delta H_{rxn}) = E_0 + \\alpha \\Delta H_{rxn} = E_0 + \\alpha \\sum_i {\\nu_i} H_{i}$\n",
    "\n",
    "Where ${\\nu_i}$ is the stoichiometric coefficient and $H_{i}$ is the enthalpy for species $i$.\n",
    "\n",
    "We can rewrite this as a sum using properties of logs\n",
    "\n",
    "$\\ln k=\\ln A +b\\ln T - \\frac{E_0}{RT} - \\alpha \\frac{\\sum_i {\\nu_i} H_{i}}{RT}$"
   ]
  },
  {
   "cell_type": "markdown",
   "id": "e0641358",
   "metadata": {},
   "source": [
    "# Each term is an independent source of uncertainty"
   ]
  },
  {
   "cell_type": "markdown",
   "id": "a396a754",
   "metadata": {},
   "source": [
    "(This isn't entirely accurate because species calculated using the same DFT method will have correlated/systematic errors, but it's the best we can do without digging into the details of\n",
    "the BEEF-vdW results. Also, if the reactions are part of the same family, the $E_0$s are probably also correlated.)\n",
    "\n",
    "We assume each term is independent of the others: $A, b, E_0, H_i$\n",
    "\n",
    "(Assuming here that $\\alpha$ isn't uncertain)\n",
    "\n",
    "So, if we have two reactions:\n",
    "\n",
    "$$\\ln k_1=\\ln A_1 +b_1\\ln T - \\frac{E_{0,1}}{RT} - \\alpha_1 \\frac{\\sum_i {\\nu_i} H_{i}}{RT}$$\n",
    "\n",
    "$$\\ln k_2=\\ln A_2 +b_2\\ln T - \\frac{E_{0,2}}{RT} - \\alpha_2 \\frac{\\sum_i {\\nu_i} H_{i}}{RT}$$\n",
    "\n",
    "and want to know the covariance between them $cov(\\ln k_1, \\ln k_2)$\n",
    "\n",
    "The assumptions of independence mean that the only the $\\alpha_1 \\frac{{\\nu_i} H_{i}}{RT}$ terms will be nonzero, and only when the same species appears in both reactions."
   ]
  },
  {
   "cell_type": "markdown",
   "id": "4308376e",
   "metadata": {},
   "source": [
    "# Let's look at an example in RMG"
   ]
  },
  {
   "cell_type": "code",
   "execution_count": 9,
   "id": "0f82f058",
   "metadata": {},
   "outputs": [],
   "source": [
    "import os\n",
    "import numpy as np\n",
    "import rmgpy.data.thermo\n",
    "import matplotlib.pyplot as plt\n",
    "%matplotlib inline"
   ]
  },
  {
   "cell_type": "markdown",
   "id": "98b590be",
   "metadata": {},
   "source": [
    "### Load the database"
   ]
  },
  {
   "cell_type": "code",
   "execution_count": 10,
   "id": "10ef9aa1",
   "metadata": {},
   "outputs": [
    {
     "name": "stderr",
     "output_type": "stream",
     "text": [
      "WARNING:root:An instance of RMGDatabase already exists. Re-initializing it.\n"
     ]
    }
   ],
   "source": [
    "# Load the database\n",
    "database = rmgpy.data.rmg.RMGDatabase()\n",
    "database.load(\n",
    "    path = rmgpy.settings['database.directory'],\n",
    "    thermo_libraries = ['surfaceThermoPt111', 'primaryThermoLibrary'],\n",
    "    reaction_libraries = ['Surface/CPOX_Pt/Deutschmann2006_adjusted'],\n",
    "    kinetics_families = ['Surface_Abstraction'],\n",
    "    kinetics_depositories = ['training'],\n",
    "    depository = True,\n",
    ")"
   ]
  },
  {
   "cell_type": "markdown",
   "id": "e50d12c1",
   "metadata": {},
   "source": [
    "### Define/display our example reactions"
   ]
  },
  {
   "cell_type": "markdown",
   "id": "4451b4ac",
   "metadata": {},
   "source": [
    "Reaction 1: CH2X + HOX <=> CH3X + OX\n",
    "\n",
    "Reaction 2: CHX + HOX <=> CH2X + OX\n"
   ]
  },
  {
   "cell_type": "code",
   "execution_count": 41,
   "id": "6c6e8960",
   "metadata": {},
   "outputs": [
    {
     "name": "stdout",
     "output_type": "stream",
     "text": [
      "Reaction 1:\n"
     ]
    },
    {
     "data": {
      "image/png": "[encoded data removed]",
      "text/plain": [
       "Reaction(reactants=[Species(label=\"CH2X_1\", molecule=[Molecule(smiles=\"C=[Pt]\")], molecular_weight=(14.0266,'amu')), Species(label=\"HOX_3\", molecule=[Molecule(smiles=\"O[Pt]\")], molecular_weight=(17.0074,'amu'))], products=[Species(label=\"CH3X_4\", molecule=[Molecule(smiles=\"C[Pt]\")], molecular_weight=(15.0346,'amu')), Species(label=\"OX_5\", molecule=[Molecule(smiles=\"O=[Pt]\")], molecular_weight=(15.9994,'amu'))],)"
      ]
     },
     "metadata": {},
     "output_type": "display_data"
    },
    {
     "name": "stdout",
     "output_type": "stream",
     "text": [
      "\n",
      "Reaction 2:\n"
     ]
    },
    {
     "data": {
      "image/png": "[encoded data removed]",
      "text/plain": [
       "Reaction(reactants=[Species(label=\"CHX_1\", molecule=[Molecule(smiles=\"C#[Pt]\")], molecular_weight=(13.0186,'amu')), Species(label=\"HOX_3\", molecule=[Molecule(smiles=\"O[Pt]\")], molecular_weight=(17.0074,'amu'))], products=[Species(label=\"CH2X_4\", molecule=[Molecule(smiles=\"C=[Pt]\")], molecular_weight=(14.0266,'amu')), Species(label=\"OX_5\", molecule=[Molecule(smiles=\"O=[Pt]\")], molecular_weight=(15.9994,'amu'))],)"
      ]
     },
     "metadata": {},
     "output_type": "display_data"
    },
    {
     "name": "stdout",
     "output_type": "stream",
     "text": [
      "\n",
      "Reaction 3:\n"
     ]
    },
    {
     "data": {
      "image/png": "[encoded data removed]",
      "text/plain": [
       "Reaction(reactants=[Species(label=\"CX_1\", molecule=[Molecule(smiles=\"C$[Pt]\")], molecular_weight=(12.0106,'amu')), Species(label=\"HOX_3\", molecule=[Molecule(smiles=\"O[Pt]\")], molecular_weight=(17.0074,'amu'))], products=[Species(label=\"CHX_4\", molecule=[Molecule(smiles=\"C#[Pt]\")], molecular_weight=(13.0186,'amu')), Species(label=\"OX_5\", molecule=[Molecule(smiles=\"O=[Pt]\")], molecular_weight=(15.9994,'amu'))],)"
      ]
     },
     "metadata": {},
     "output_type": "display_data"
    },
    {
     "name": "stdout",
     "output_type": "stream",
     "text": [
      "\n",
      "Reaction 4:\n"
     ]
    },
    {
     "data": {
      "image/png": "[encoded data removed]",
      "text/plain": [
       "Reaction(reactants=[Species(label=\"OX_1\", molecule=[Molecule(smiles=\"O=[Pt]\")], molecular_weight=(15.9994,'amu')), Species(label=\"HCOX_3\", molecule=[Molecule(smiles=\"O=C[Pt]\")], molecular_weight=(29.018,'amu'))], products=[Species(label=\"HOX_4\", molecule=[Molecule(smiles=\"O[Pt]\")], molecular_weight=(17.0074,'amu')), Species(label=\"COX_5\", molecule=[Molecule(smiles=\"O=C=[Pt]\")], molecular_weight=(28.01,'amu'))],)"
      ]
     },
     "metadata": {},
     "output_type": "display_data"
    },
    {
     "name": "stdout",
     "output_type": "stream",
     "text": [
      "\n"
     ]
    }
   ],
   "source": [
    "family = 'Surface_Abstraction'\n",
    "training_depository = database.kinetics.families[family].get_training_depository()\n",
    "my_reactions = []\n",
    "for i, entry in enumerate(training_depository.entries):\n",
    "    print(f'Reaction {i + 1}:')\n",
    "    display(training_depository.entries[entry].item)\n",
    "    my_reactions.append(training_depository.entries[entry].item)\n",
    "    print()"
   ]
  },
  {
   "cell_type": "markdown",
   "id": "c8b4bb04",
   "metadata": {},
   "source": [
    "### Look up the BEP kinetics corresponding to each reaction\n",
    "\n",
    "Note that the training reactions themselves have regular Arrhenius kinetics.\n",
    "We need to use RMG's kinetics decision tree to get the BEP version."
   ]
  },
  {
   "cell_type": "code",
   "execution_count": 45,
   "id": "c0def7ae",
   "metadata": {},
   "outputs": [
    {
     "name": "stdout",
     "output_type": "stream",
     "text": [
      "Reaction 1:\n",
      "SurfaceArrheniusBEP(A=(4.18e+17,'m^2/(mol*s)'), n=0, alpha=0.37, E0=(99.3,'kJ/mol'), Tmin=(200,'K'), Tmax=(3000,'K'), comment=\"\"\"Estimated using template [Abstracting;*R-H] for rate rule [C=*;*OH]\n",
      "Euclidian distance = 2.23606797749979\n",
      "family: Surface_Abstraction\"\"\")\n",
      "\n",
      "Reaction 2:\n",
      "SurfaceArrheniusBEP(A=(4.18e+17,'m^2/(mol*s)'), n=0, alpha=0.37, E0=(99.3,'kJ/mol'), Tmin=(200,'K'), Tmax=(3000,'K'), comment=\"\"\"Estimated using template [Abstracting;*R-H] for rate rule [C#*;*OH]\n",
      "Euclidian distance = 2.23606797749979\n",
      "family: Surface_Abstraction\"\"\")\n",
      "\n",
      "Reaction 3:\n",
      "SurfaceArrheniusBEP(A=(4.18e+17,'m^2/(mol*s)'), n=0, alpha=0.37, E0=(99.3,'kJ/mol'), Tmin=(200,'K'), Tmax=(3000,'K'), comment=\"\"\"Estimated using template [Abstracting;*R-H] for rate rule [C$*;*OH]\n",
      "Euclidian distance = 2.23606797749979\n",
      "family: Surface_Abstraction\"\"\")\n",
      "\n",
      "Reaction 4:\n",
      "SurfaceArrheniusBEP(A=(4.18e+17,'m^2/(mol*s)'), n=0, alpha=0.94, E0=(129.3,'kJ/mol'), Tmin=(200,'K'), Tmax=(3000,'K'), comment=\"\"\"Estimated using template [O;*C-H] for rate rule [O;*-C-H]\n",
      "Euclidian distance = 1.0\n",
      "family: Surface_Abstraction\"\"\")\n",
      "\n"
     ]
    }
   ],
   "source": [
    "# Get the kinetics from the RMG family's decision tree\n",
    "for i, rxn in enumerate(my_reactions):\n",
    "    print(f'Reaction {i + 1}:')\n",
    "    \n",
    "    template_labels = database.kinetics.families[family].get_reaction_template_labels(rxn)\n",
    "    template = database.kinetics.families[family].retrieve_template(template_labels)\n",
    "    kinetics = database.kinetics.families[family].get_kinetics_for_template(template, degeneracy=rxn.degeneracy)[0]\n",
    "    my_reactions[i].kinetics = kinetics\n",
    "    print(kinetics)\n",
    "    print()"
   ]
  },
  {
   "cell_type": "markdown",
   "id": "2d7c13d4",
   "metadata": {},
   "source": [
    "Note that 3/4 of the examples have identical BEP parameters, but will have different $\\ln k$\n",
    "because of the dependence on $\\Delta H_{rxn}$"
   ]
  },
  {
   "cell_type": "markdown",
   "id": "a501f9c0",
   "metadata": {},
   "source": [
    "### Grab the species thermo from the database so we can calculate $\\Delta H_{rxn}$"
   ]
  },
  {
   "cell_type": "code",
   "execution_count": 56,
   "id": "0570a52a",
   "metadata": {},
   "outputs": [],
   "source": [
    "lib = database.thermo.libraries['surfaceThermoPt111']\n",
    "for i, rxn in enumerate(my_reactions):\n",
    "    for j in range(len(rxn.reactants)):\n",
    "        my_reactions[i].reactants[j].thermo = database.thermo.get_thermo_data_from_library(\n",
    "            my_reactions[i].reactants[j],\n",
    "            lib\n",
    "        )[0]\n",
    "    for j in range(len(rxn.products)):\n",
    "        my_reactions[i].products[j].thermo = database.thermo.get_thermo_data_from_library(\n",
    "            my_reactions[i].products[j],\n",
    "            lib\n",
    "        )[0]"
   ]
  },
  {
   "cell_type": "markdown",
   "id": "5d853ddd",
   "metadata": {},
   "source": [
    "# Plot the kinetics to see what they are"
   ]
  },
  {
   "cell_type": "code",
   "execution_count": 117,
   "id": "0485f811",
   "metadata": {},
   "outputs": [],
   "source": [
    "def plot_kinetics(rxns, labels=None, title=None):\n",
    "    \"\"\"Function for plotting reaction kinetics\n",
    "    Takes in a list of RMG reactions (rmgpy.reaction.Reaction) or a single reaction\n",
    "    \"\"\"\n",
    "    plt.xlabel('1000 / T (K^-1)')\n",
    "    plt.ylabel('log10(k)')\n",
    "    linestyles = ['solid', 'dashed', 'dotted', 'solid']\n",
    "    if type(rxns) != list:\n",
    "        rxns = [rxns]\n",
    "    P = 101325\n",
    "    T = np.linspace(300, 3000, 1001)\n",
    "    for j, rxn in enumerate(rxns):\n",
    "        Tmax = max(T)\n",
    "        if hasattr(rxn, 'reactants'):\n",
    "            Tmax = min([sp.thermo.Tmax.value_si for sp in rxn.reactants + rxn.products])\n",
    "        k = np.zeros(len(T)) * np.nan\n",
    "        for i in range(0, len(T)):\n",
    "            if T[i] > Tmax:\n",
    "                break\n",
    "            if type(rxn) == rmgpy.kinetics.surface.SurfaceArrhenius:\n",
    "                k[i] = rxn.get_rate_coefficient(T[i], P)\n",
    "            else:\n",
    "                my_reactions[0].reactants[0].thermo.Tmax.value_si\n",
    "                k[i] = rxn.kinetics.get_rate_coefficient(T[i], dHrxn=rxn.get_enthalpy_of_reaction(T[i]))\n",
    "\n",
    "            \n",
    "        plt.plot(1000.0 / T, np.log10(k), linestyle=linestyles[j % len(linestyles)])\n",
    "\n",
    "    if labels:\n",
    "        plt.legend(labels)\n",
    "    if title:\n",
    "        plt.title(title)\n",
    "#     plt.show()"
   ]
  },
  {
   "cell_type": "code",
   "execution_count": 120,
   "id": "22eac2d0",
   "metadata": {},
   "outputs": [
    {
     "data": {
      "image/png": "[encoded data removed]",
      "text/plain": [
       "<Figure size 640x480 with 1 Axes>"
      ]
     },
     "metadata": {},
     "output_type": "display_data"
    }
   ],
   "source": [
    "# show kinetics\n",
    "plot_kinetics(my_reactions, labels=[f'Reaction {i}' for i in range(1, 5)], title='Decision Tree')\n"
   ]
  },
  {
   "cell_type": "code",
   "execution_count": 122,
   "id": "556860d5",
   "metadata": {},
   "outputs": [],
   "source": [
    "# # Shows that training reaction kinetics don't necessary match decision tree kinetics exactly\n",
    "# training_kinetics = [training_depository.entries[entry].data for entry in training_depository.entries]\n",
    "# plot_kinetics(my_reactions + training_kinetics, labels=[f'Decision {i}' for i in range(1, 5)] + [f'Training {i}' for i in range(1, 5)])"
   ]
  },
  {
   "cell_type": "markdown",
   "id": "e88d9c43",
   "metadata": {},
   "source": [
    "# Do the theoretical calculation and see how it compares to random sampling"
   ]
  },
  {
   "cell_type": "markdown",
   "id": "7111ed2b",
   "metadata": {},
   "source": [
    "For simplicity, I will assume all the uncertainty is in the species enthalpies.\n",
    "\n",
    "We can add in the uncertainty from A, b, and E0 later\n",
    "\n",
    "We have already assumed those are all uncorrelated to each other (or at least uncorrelated to the values in other nodes in the decision tree)"
   ]
  },
  {
   "cell_type": "markdown",
   "id": "9c10f164",
   "metadata": {},
   "source": [
    "## Define our species indices and uncertainties"
   ]
  },
  {
   "cell_type": "code",
   "execution_count": 126,
   "id": "3701643c",
   "metadata": {},
   "outputs": [
    {
     "name": "stdout",
     "output_type": "stream",
     "text": [
      "0\n"
     ]
    },
    {
     "data": {
      "image/png": "[encoded data removed]",
      "text/plain": [
       "Species(label=\"CH2X_1\", thermo=NASA(polynomials=[NASAPolynomial(coeffs=[-2.23007,0.0292223,-4.33155e-05,3.31428e-08,-9.96471e-12,-222.256,8.30173], Tmin=(298,'K'), Tmax=(1000,'K')), NASAPolynomial(coeffs=[6.8346,-0.00514926,9.15491e-06,-4.84917e-09,8.63767e-13,-2258.98,-36.2215], Tmin=(1000,'K'), Tmax=(2000,'K'))], Tmin=(298,'K'), Tmax=(2000,'K'), Cp0=(0.01,'J/(mol*K)'), CpInf=(99.7737,'J/(mol*K)'), label=\"\"\"XCH2\"\"\"), molecule=[Molecule(smiles=\"C=[Pt]\")], molecular_weight=(14.0266,'amu'))"
      ]
     },
     "metadata": {},
     "output_type": "display_data"
    },
    {
     "name": "stdout",
     "output_type": "stream",
     "text": [
      "\n",
      "1\n"
     ]
    },
    {
     "data": {
      "image/png": "[encoded data removed]",
      "text/plain": [
       "Species(label=\"HOX_3\", thermo=NASA(polynomials=[NASAPolynomial(coeffs=[1.4236,0.015783,-2.91659e-05,2.50433e-08,-8.04088e-12,-18999.3,-3.1523], Tmin=(298,'K'), Tmax=(1000,'K')), NASAPolynomial(coeffs=[5.03574,-0.00134422,2.25916e-06,-1.08548e-09,1.77876e-13,-19634.4,-20.0345], Tmin=(1000,'K'), Tmax=(2000,'K'))], Tmin=(298,'K'), Tmax=(2000,'K'), Cp0=(0.01,'J/(mol*K)'), CpInf=(74.8302,'J/(mol*K)'), label=\"\"\"XOH\"\"\"), molecule=[Molecule(smiles=\"O[Pt]\")], molecular_weight=(17.0074,'amu'))"
      ]
     },
     "metadata": {},
     "output_type": "display_data"
    },
    {
     "name": "stdout",
     "output_type": "stream",
     "text": [
      "\n",
      "2\n"
     ]
    },
    {
     "data": {
      "image/png": "[encoded data removed]",
      "text/plain": [
       "Species(label=\"CH3X_4\", thermo=NASA(polynomials=[NASAPolynomial(coeffs=[-0.0444549,0.0194368,-1.91029e-05,1.11269e-08,-2.73736e-12,-6388.04,-0.173376], Tmin=(298,'K'), Tmax=(1000,'K')), NASAPolynomial(coeffs=[8.65705,-0.00790308,1.401e-05,-7.40016e-09,1.31517e-12,-8635.99,-44.3353], Tmin=(1000,'K'), Tmax=(2000,'K'))], Tmin=(298,'K'), Tmax=(2000,'K'), Cp0=(0.01,'J/(mol*K)'), CpInf=(124.717,'J/(mol*K)'), label=\"\"\"XCH3\"\"\"), molecule=[Molecule(smiles=\"C[Pt]\")], molecular_weight=(15.0346,'amu'))"
      ]
     },
     "metadata": {},
     "output_type": "display_data"
    },
    {
     "name": "stdout",
     "output_type": "stream",
     "text": [
      "\n",
      "3\n"
     ]
    },
    {
     "data": {
      "image/png": "[encoded data removed]",
      "text/plain": [
       "Species(label=\"OX_5\", thermo=NASA(polynomials=[NASAPolynomial(coeffs=[-0.294476,0.0144163,-2.61323e-05,2.19006e-08,-6.98019e-12,-16461.9,-0.199446], Tmin=(298,'K'), Tmax=(1000,'K')), NASAPolynomial(coeffs=[2.90245,-0.000338584,6.43373e-07,-3.66327e-10,6.90094e-14,-17049.7,-15.256], Tmin=(1000,'K'), Tmax=(2000,'K'))], Tmin=(298,'K'), Tmax=(2000,'K'), Cp0=(0.01,'J/(mol*K)'), CpInf=(49.8868,'J/(mol*K)'), label=\"\"\"XO\"\"\"), molecule=[Molecule(smiles=\"O=[Pt]\")], molecular_weight=(15.9994,'amu'))"
      ]
     },
     "metadata": {},
     "output_type": "display_data"
    },
    {
     "name": "stdout",
     "output_type": "stream",
     "text": [
      "\n",
      "4\n"
     ]
    },
    {
     "data": {
      "image/png": "[encoded data removed]",
      "text/plain": [
       "Species(label=\"CHX_1\", thermo=NASA(polynomials=[NASAPolynomial(coeffs=[-2.66805,0.0290693,-4.82654e-05,3.87589e-08,-1.19749e-11,-2918.16,9.72941], Tmin=(298,'K'), Tmax=(1000,'K')), NASAPolynomial(coeffs=[4.9043,-0.00263865,4.71729e-06,-2.51267e-09,4.49659e-13,-4464.41,-26.7108], Tmin=(1000,'K'), Tmax=(2000,'K'))], Tmin=(298,'K'), Tmax=(2000,'K'), Cp0=(0.01,'J/(mol*K)'), CpInf=(74.8302,'J/(mol*K)'), label=\"\"\"XCH\"\"\"), molecule=[Molecule(smiles=\"C#[Pt]\")], molecular_weight=(13.0186,'amu'))"
      ]
     },
     "metadata": {},
     "output_type": "display_data"
    },
    {
     "name": "stdout",
     "output_type": "stream",
     "text": [
      "\n",
      "5\n"
     ]
    },
    {
     "data": {
      "image/png": "[encoded data removed]",
      "text/plain": [
       "Species(label=\"CX_1\", thermo=NASA(polynomials=[NASAPolynomial(coeffs=[-1.94351,0.0197767,-3.36337e-05,2.69027e-08,-8.27959e-12,7000.57,7.1747], Tmin=(298,'K'), Tmax=(1000,'K')), NASAPolynomial(coeffs=[2.81347,-0.000693952,1.30308e-06,-7.387e-10,1.38796e-13,6060.03,-15.5738], Tmin=(1000,'K'), Tmax=(2000,'K'))], Tmin=(298,'K'), Tmax=(2000,'K'), Cp0=(0.01,'J/(mol*K)'), CpInf=(49.8868,'J/(mol*K)'), label=\"\"\"XC\"\"\"), molecule=[Molecule(smiles=\"C$[Pt]\")], molecular_weight=(12.0106,'amu'))"
      ]
     },
     "metadata": {},
     "output_type": "display_data"
    },
    {
     "name": "stdout",
     "output_type": "stream",
     "text": [
      "\n",
      "6\n"
     ]
    },
    {
     "data": {
      "image/png": "[encoded data removed]",
      "text/plain": [
       "Species(label=\"HCOX_3\", thermo=NASA(polynomials=[NASAPolynomial(coeffs=[1.33925,0.0156188,-1.78706e-05,1.16103e-08,-3.20827e-12,-28040.2,-4.27823], Tmin=(298,'K'), Tmax=(1000,'K')), NASAPolynomial(coeffs=[7.4725,-0.00425652,7.6724e-06,-4.15094e-09,7.52057e-13,-29601.9,-35.2777], Tmin=(1000,'K'), Tmax=(2000,'K'))], Tmin=(298,'K'), Tmax=(2000,'K'), Cp0=(0.01,'J/(mol*K)'), CpInf=(99.7737,'J/(mol*K)'), label=\"\"\"XCHO\"\"\"), molecule=[Molecule(smiles=\"O=C[Pt]\")], molecular_weight=(29.018,'amu'))"
      ]
     },
     "metadata": {},
     "output_type": "display_data"
    },
    {
     "name": "stdout",
     "output_type": "stream",
     "text": [
      "\n",
      "7\n"
     ]
    },
    {
     "data": {
      "image/png": "[encoded data removed]",
      "text/plain": [
       "Species(label=\"COX_5\", thermo=NASA(polynomials=[NASAPolynomial(coeffs=[1.42895,0.0140375,-2.21179e-05,1.7866e-08,-5.71479e-12,-34568.8,-7.78266], Tmin=(298,'K'), Tmax=(1000,'K')), NASAPolynomial(coeffs=[5.48656,-0.00168119,3.0903e-06,-1.71187e-09,3.15865e-13,-35481.5,-27.6788], Tmin=(1000,'K'), Tmax=(2000,'K'))], Tmin=(298,'K'), Tmax=(2000,'K'), Cp0=(0.01,'J/(mol*K)'), CpInf=(74.8302,'J/(mol*K)'), label=\"\"\"XCO\"\"\"), molecule=[Molecule(smiles=\"O=C=[Pt]\")], molecular_weight=(28.01,'amu'))"
      ]
     },
     "metadata": {},
     "output_type": "display_data"
    },
    {
     "name": "stdout",
     "output_type": "stream",
     "text": [
      "\n"
     ]
    }
   ],
   "source": [
    "def species_in_list(new_species, species_list):\n",
    "    for sp in species_list:\n",
    "        if new_species.is_isomorphic(sp):\n",
    "            return True\n",
    "    return False\n",
    "\n",
    "def get_species_index(query_species, species_list):\n",
    "    for i in range(len(species_list)):\n",
    "        if query_species.is_isomorphic(species_list[i]):\n",
    "            return i\n",
    "    return -1\n",
    "\n",
    "species = []\n",
    "\n",
    "for rxn in my_reactions:\n",
    "    for s in rxn.reactants + rxn.products:\n",
    "        if not species_in_list(s, species):\n",
    "            species.append(s)\n",
    "for i in range(len(species)):\n",
    "    print(i)\n",
    "    display(species[i])\n",
    "    print()"
   ]
  },
  {
   "cell_type": "markdown",
   "id": "93cca907",
   "metadata": {},
   "source": [
    "Recall we had\n",
    "\n",
    "$$\\ln k_m=\\ln A_m +b_m\\ln T - \\frac{E_{0,m}}{RT} - \\alpha_m \\frac{\\sum_i {\\nu_i} H_{i}}{RT}$$\n",
    "\n",
    "Variance of $\\ln k_m$ is denoted as $Var(\\ln k_m)$ and sometimes ${(\\Delta \\ln k_m)}^2$\n",
    "\n",
    "Standard deviation of $\\ln k_m$ is denoted as $Std(\\ln k_m)$ and sometimes $\\Delta \\ln k_m$\n",
    "\n",
    "Covariance of $\\ln k_m$ and $\\ln k_n$, or $Cov(\\ln k_m, \\ln k_n)$ will be a sum of variance terms where the $\\alpha_m \\frac{ {\\nu_i} H_{i}}{RT}$ parts match up\n",
    "\n",
    "$$Cov(\\ln k_m, \\ln k_n) = \\frac{\\alpha_m \\alpha_n}{{(RT)}^2} \\sum_i^{rxn_m} \\sum_j^{rxn_n} \\delta_{sp,i}\\delta_{sp,j} \\nu_i \\nu_j {Var(H_i)}$$\n"
   ]
  },
  {
   "cell_type": "markdown",
   "id": "21acee3e",
   "metadata": {},
   "source": [
    "## Build the Covariance Matrix"
   ]
  },
  {
   "cell_type": "code",
   "execution_count": 128,
   "id": "833fe75b",
   "metadata": {},
   "outputs": [],
   "source": [
    "cov_matrix_theory = np.zeros((len(my_reactions), len(my_reactions)))"
   ]
  },
  {
   "cell_type": "code",
   "execution_count": 134,
   "id": "680935c5",
   "metadata": {},
   "outputs": [
    {
     "data": {
      "text/plain": [
       "8.314472"
      ]
     },
     "execution_count": 134,
     "metadata": {},
     "output_type": "execute_result"
    }
   ],
   "source": [
    "rmgpy.constants.R"
   ]
  },
  {
   "cell_type": "code",
   "execution_count": 142,
   "id": "234a39e9",
   "metadata": {},
   "outputs": [],
   "source": [
    "varH = np.float_power(6.918, 2.0) ## 0.3 eV squared\n",
    "R = 8.314472\n",
    "T = 1000.0\n",
    "for i in range(len(my_reactions)):\n",
    "    for j in range(len(my_reactions)):\n",
    "        rxn_i = my_reactions[i]\n",
    "        rxn_j = my_reactions[j]\n",
    "        for k in range(len(species)):\n",
    "            if species_in_list(species[k], rxn_i.reactants):\n",
    "                nu_i = -1\n",
    "            elif species_in_list(species[k], rxn_i.products):\n",
    "                nu_i = 1\n",
    "            else:\n",
    "                nu_i = 0\n",
    "                \n",
    "            if species_in_list(species[k], rxn_j.reactants):\n",
    "                nu_j = -1\n",
    "            elif species_in_list(species[k], rxn_j.products):\n",
    "                nu_j = 1\n",
    "            else:\n",
    "                nu_j = 0\n",
    "            \n",
    "            alpha_i = my_reactions[i].kinetics.alpha.value_si\n",
    "            alpha_j = my_reactions[j].kinetics.alpha.value_si\n",
    "            cov_matrix_theory[i, j] += nu_i * nu_j * alpha_i * alpha_j * varH / np.float_power(R * T, 2.0)"
   ]
  },
  {
   "cell_type": "code",
   "execution_count": 144,
   "id": "4c2fe8eb",
   "metadata": {},
   "outputs": [
    {
     "data": {
      "text/plain": [
       "<matplotlib.colorbar.Colorbar at 0x7f2eb9d4f390>"
      ]
     },
     "execution_count": 144,
     "metadata": {},
     "output_type": "execute_result"
    },
    {
     "data": {
      "image/png": "[encoded data removed]",
      "text/plain": [
       "<Figure size 480x480 with 2 Axes>"
      ]
     },
     "metadata": {},
     "output_type": "display_data"
    }
   ],
   "source": [
    "plt.matshow(cov_matrix_theory)\n",
    "plt.colorbar()\n"
   ]
  },
  {
   "cell_type": "code",
   "execution_count": null,
   "id": "86792767",
   "metadata": {},
   "outputs": [],
   "source": []
  },
  {
   "cell_type": "markdown",
   "id": "afbe9252",
   "metadata": {},
   "source": [
    "## Start with $Cov(\\ln k_1, \\ln k_1) = Var(\\ln k_1)$"
   ]
  },
  {
   "cell_type": "markdown",
   "id": "b9f1995e",
   "metadata": {},
   "source": [
    "### Get the species indices"
   ]
  },
  {
   "cell_type": "code",
   "execution_count": 127,
   "id": "9300bb74",
   "metadata": {},
   "outputs": [
    {
     "data": {
      "image/png": "[encoded data removed]",
      "text/plain": [
       "Reaction(reactants=[Species(label=\"CH2X_1\", thermo=NASA(polynomials=[NASAPolynomial(coeffs=[-2.23007,0.0292223,-4.33155e-05,3.31428e-08,-9.96471e-12,-222.256,8.30173], Tmin=(298,'K'), Tmax=(1000,'K')), NASAPolynomial(coeffs=[6.8346,-0.00514926,9.15491e-06,-4.84917e-09,8.63767e-13,-2258.98,-36.2215], Tmin=(1000,'K'), Tmax=(2000,'K'))], Tmin=(298,'K'), Tmax=(2000,'K'), Cp0=(0.01,'J/(mol*K)'), CpInf=(99.7737,'J/(mol*K)'), label=\"\"\"XCH2\"\"\"), molecule=[Molecule(smiles=\"C=[Pt]\")], molecular_weight=(14.0266,'amu')), Species(label=\"HOX_3\", thermo=NASA(polynomials=[NASAPolynomial(coeffs=[1.4236,0.015783,-2.91659e-05,2.50433e-08,-8.04088e-12,-18999.3,-3.1523], Tmin=(298,'K'), Tmax=(1000,'K')), NASAPolynomial(coeffs=[5.03574,-0.00134422,2.25916e-06,-1.08548e-09,1.77876e-13,-19634.4,-20.0345], Tmin=(1000,'K'), Tmax=(2000,'K'))], Tmin=(298,'K'), Tmax=(2000,'K'), Cp0=(0.01,'J/(mol*K)'), CpInf=(74.8302,'J/(mol*K)'), label=\"\"\"XOH\"\"\"), molecule=[Molecule(smiles=\"O[Pt]\")], molecular_weight=(17.0074,'amu'))], products=[Species(label=\"CH3X_4\", thermo=NASA(polynomials=[NASAPolynomial(coeffs=[-0.0444549,0.0194368,-1.91029e-05,1.11269e-08,-2.73736e-12,-6388.04,-0.173376], Tmin=(298,'K'), Tmax=(1000,'K')), NASAPolynomial(coeffs=[8.65705,-0.00790308,1.401e-05,-7.40016e-09,1.31517e-12,-8635.99,-44.3353], Tmin=(1000,'K'), Tmax=(2000,'K'))], Tmin=(298,'K'), Tmax=(2000,'K'), Cp0=(0.01,'J/(mol*K)'), CpInf=(124.717,'J/(mol*K)'), label=\"\"\"XCH3\"\"\"), molecule=[Molecule(smiles=\"C[Pt]\")], molecular_weight=(15.0346,'amu')), Species(label=\"OX_5\", thermo=NASA(polynomials=[NASAPolynomial(coeffs=[-0.294476,0.0144163,-2.61323e-05,2.19006e-08,-6.98019e-12,-16461.9,-0.199446], Tmin=(298,'K'), Tmax=(1000,'K')), NASAPolynomial(coeffs=[2.90245,-0.000338584,6.43373e-07,-3.66327e-10,6.90094e-14,-17049.7,-15.256], Tmin=(1000,'K'), Tmax=(2000,'K'))], Tmin=(298,'K'), Tmax=(2000,'K'), Cp0=(0.01,'J/(mol*K)'), CpInf=(49.8868,'J/(mol*K)'), label=\"\"\"XO\"\"\"), molecule=[Molecule(smiles=\"O=[Pt]\")], molecular_weight=(15.9994,'amu'))], kinetics=SurfaceArrheniusBEP(A=(4.18e+17,'m^2/(mol*s)'), n=0, alpha=0.37, E0=(99.3,'kJ/mol'), Tmin=(200,'K'), Tmax=(3000,'K'), comment=\"\"\"Estimated using template [Abstracting;*R-H] for rate rule [C=*;*OH]\n",
       "Euclidian distance = 2.23606797749979\n",
       "family: Surface_Abstraction\"\"\"),)"
      ]
     },
     "execution_count": 127,
     "metadata": {},
     "output_type": "execute_result"
    }
   ],
   "source": [
    "rxn_i = my_reactions[0]\n",
    "rxn_j = my_reactions[0]\n",
    "\n",
    "for i in range(len(species)):\n",
    "    \n",
    "\n",
    "my_reactions[0]"
   ]
  },
  {
   "cell_type": "code",
   "execution_count": 125,
   "id": "62c83039",
   "metadata": {},
   "outputs": [
    {
     "data": {
      "image/png": "[encoded data removed]",
      "text/plain": [
       "Reaction(reactants=[Species(label=\"CH2X_1\", thermo=NASA(polynomials=[NASAPolynomial(coeffs=[-2.23007,0.0292223,-4.33155e-05,3.31428e-08,-9.96471e-12,-222.256,8.30173], Tmin=(298,'K'), Tmax=(1000,'K')), NASAPolynomial(coeffs=[6.8346,-0.00514926,9.15491e-06,-4.84917e-09,8.63767e-13,-2258.98,-36.2215], Tmin=(1000,'K'), Tmax=(2000,'K'))], Tmin=(298,'K'), Tmax=(2000,'K'), Cp0=(0.01,'J/(mol*K)'), CpInf=(99.7737,'J/(mol*K)'), label=\"\"\"XCH2\"\"\"), molecule=[Molecule(smiles=\"C=[Pt]\")], molecular_weight=(14.0266,'amu')), Species(label=\"HOX_3\", thermo=NASA(polynomials=[NASAPolynomial(coeffs=[1.4236,0.015783,-2.91659e-05,2.50433e-08,-8.04088e-12,-18999.3,-3.1523], Tmin=(298,'K'), Tmax=(1000,'K')), NASAPolynomial(coeffs=[5.03574,-0.00134422,2.25916e-06,-1.08548e-09,1.77876e-13,-19634.4,-20.0345], Tmin=(1000,'K'), Tmax=(2000,'K'))], Tmin=(298,'K'), Tmax=(2000,'K'), Cp0=(0.01,'J/(mol*K)'), CpInf=(74.8302,'J/(mol*K)'), label=\"\"\"XOH\"\"\"), molecule=[Molecule(smiles=\"O[Pt]\")], molecular_weight=(17.0074,'amu'))], products=[Species(label=\"CH3X_4\", thermo=NASA(polynomials=[NASAPolynomial(coeffs=[-0.0444549,0.0194368,-1.91029e-05,1.11269e-08,-2.73736e-12,-6388.04,-0.173376], Tmin=(298,'K'), Tmax=(1000,'K')), NASAPolynomial(coeffs=[8.65705,-0.00790308,1.401e-05,-7.40016e-09,1.31517e-12,-8635.99,-44.3353], Tmin=(1000,'K'), Tmax=(2000,'K'))], Tmin=(298,'K'), Tmax=(2000,'K'), Cp0=(0.01,'J/(mol*K)'), CpInf=(124.717,'J/(mol*K)'), label=\"\"\"XCH3\"\"\"), molecule=[Molecule(smiles=\"C[Pt]\")], molecular_weight=(15.0346,'amu')), Species(label=\"OX_5\", thermo=NASA(polynomials=[NASAPolynomial(coeffs=[-0.294476,0.0144163,-2.61323e-05,2.19006e-08,-6.98019e-12,-16461.9,-0.199446], Tmin=(298,'K'), Tmax=(1000,'K')), NASAPolynomial(coeffs=[2.90245,-0.000338584,6.43373e-07,-3.66327e-10,6.90094e-14,-17049.7,-15.256], Tmin=(1000,'K'), Tmax=(2000,'K'))], Tmin=(298,'K'), Tmax=(2000,'K'), Cp0=(0.01,'J/(mol*K)'), CpInf=(49.8868,'J/(mol*K)'), label=\"\"\"XO\"\"\"), molecule=[Molecule(smiles=\"O=[Pt]\")], molecular_weight=(15.9994,'amu'))], kinetics=SurfaceArrheniusBEP(A=(4.18e+17,'m^2/(mol*s)'), n=0, alpha=0.37, E0=(99.3,'kJ/mol'), Tmin=(200,'K'), Tmax=(3000,'K'), comment=\"\"\"Estimated using template [Abstracting;*R-H] for rate rule [C=*;*OH]\n",
       "Euclidian distance = 2.23606797749979\n",
       "family: Surface_Abstraction\"\"\"),)"
      ]
     },
     "execution_count": 125,
     "metadata": {},
     "output_type": "execute_result"
    }
   ],
   "source": [
    "my_reactions[0]"
   ]
  },
  {
   "cell_type": "code",
   "execution_count": null,
   "id": "11ad8df9",
   "metadata": {},
   "outputs": [],
   "source": []
  },
  {
   "cell_type": "code",
   "execution_count": null,
   "id": "80f7030b",
   "metadata": {},
   "outputs": [],
   "source": []
  },
  {
   "cell_type": "code",
   "execution_count": null,
   "id": "76b03594",
   "metadata": {},
   "outputs": [],
   "source": []
  },
  {
   "cell_type": "code",
   "execution_count": null,
   "id": "7f2f6908",
   "metadata": {},
   "outputs": [],
   "source": [
    "# Each of the species comes from a surface library assumed to have 0.3eV for 1 std dev in uncertainty\n",
    "\n",
    "\n"
   ]
  },
  {
   "cell_type": "code",
   "execution_count": null,
   "id": "1210353c",
   "metadata": {},
   "outputs": [],
   "source": []
  },
  {
   "cell_type": "code",
   "execution_count": null,
   "id": "011c3f40",
   "metadata": {},
   "outputs": [],
   "source": []
  },
  {
   "cell_type": "code",
   "execution_count": null,
   "id": "bbed7241",
   "metadata": {},
   "outputs": [],
   "source": []
  },
  {
   "cell_type": "code",
   "execution_count": 20,
   "id": "1b3edc29",
   "metadata": {},
   "outputs": [
    {
     "data": {
      "text/plain": [
       "rmgpy.kinetics.surface.SurfaceArrhenius"
      ]
     },
     "execution_count": 20,
     "metadata": {},
     "output_type": "execute_result"
    }
   ],
   "source": [
    "type(training_depository.entries[24].data)"
   ]
  },
  {
   "cell_type": "code",
   "execution_count": null,
   "id": "cbf69c2f",
   "metadata": {},
   "outputs": [],
   "source": []
  },
  {
   "cell_type": "code",
   "execution_count": 4,
   "id": "37bc7416",
   "metadata": {},
   "outputs": [],
   "source": []
  },
  {
   "cell_type": "code",
   "execution_count": 5,
   "id": "d5c5e79c",
   "metadata": {},
   "outputs": [],
   "source": [
    "train = database.kinetics.families['Surface_Abstraction'].get_training_depository()"
   ]
  },
  {
   "cell_type": "code",
   "execution_count": 11,
   "id": "dcbbef7c",
   "metadata": {},
   "outputs": [
    {
     "data": {
      "text/plain": [
       "'CH2X_1 + HOX_3 <=> CH3X_4 + OX_5'"
      ]
     },
     "execution_count": 11,
     "metadata": {},
     "output_type": "execute_result"
    }
   ],
   "source": [
    "str(train.entries[24].item)"
   ]
  },
  {
   "cell_type": "code",
   "execution_count": 12,
   "id": "5791e785",
   "metadata": {},
   "outputs": [
    {
     "data": {
      "text/plain": [
       "'CHX_1 + HOX_3 <=> CH2X_4 + OX_5'"
      ]
     },
     "execution_count": 12,
     "metadata": {},
     "output_type": "execute_result"
    }
   ],
   "source": [
    "str(train.entries[26].item)"
   ]
  },
  {
   "cell_type": "code",
   "execution_count": null,
   "id": "e5ef36c4",
   "metadata": {},
   "outputs": [],
   "source": [
    "train.entries[28].item"
   ]
  },
  {
   "cell_type": "code",
   "execution_count": 15,
   "id": "be4e591b",
   "metadata": {},
   "outputs": [
    {
     "data": {
      "image/png": "[encoded data removed]",
      "text/plain": [
       "Reaction(reactants=[Species(label=\"OX_1\", molecule=[Molecule(smiles=\"O=[Pt]\")], molecular_weight=(15.9994,'amu')), Species(label=\"HCOX_3\", molecule=[Molecule(smiles=\"O=C[Pt]\")], molecular_weight=(29.018,'amu'))], products=[Species(label=\"HOX_4\", molecule=[Molecule(smiles=\"O[Pt]\")], molecular_weight=(17.0074,'amu')), Species(label=\"COX_5\", molecule=[Molecule(smiles=\"O=C=[Pt]\")], molecular_weight=(28.01,'amu'))],)"
      ]
     },
     "execution_count": 15,
     "metadata": {},
     "output_type": "execute_result"
    }
   ],
   "source": [
    "train.entries[39].item"
   ]
  },
  {
   "cell_type": "code",
   "execution_count": null,
   "id": "7581703e",
   "metadata": {},
   "outputs": [],
   "source": []
  },
  {
   "cell_type": "code",
   "execution_count": null,
   "id": "4184d20b",
   "metadata": {},
   "outputs": [],
   "source": [
    "train.entries"
   ]
  },
  {
   "cell_type": "code",
   "execution_count": null,
   "id": "e00c996d",
   "metadata": {},
   "outputs": [],
   "source": [
    "train.entries[39].item.reactants[0]"
   ]
  },
  {
   "cell_type": "code",
   "execution_count": null,
   "id": "6c0a8d45",
   "metadata": {},
   "outputs": [],
   "source": [
    "print(train.entries[39].item.reactants[0].to_adjacency_list())"
   ]
  },
  {
   "cell_type": "code",
   "execution_count": null,
   "id": "6e490499",
   "metadata": {},
   "outputs": [],
   "source": [
    "train.entries[24].item.products[1]"
   ]
  },
  {
   "cell_type": "code",
   "execution_count": null,
   "id": "e6293300",
   "metadata": {},
   "outputs": [],
   "source": [
    "print(train.entries[24].item.products[1].to_adjacency_list())"
   ]
  },
  {
   "cell_type": "code",
   "execution_count": null,
   "id": "e2e0530f",
   "metadata": {},
   "outputs": [],
   "source": []
  },
  {
   "cell_type": "code",
   "execution_count": null,
   "id": "5b4d3ee7",
   "metadata": {},
   "outputs": [],
   "source": []
  }
 ],
 "metadata": {
  "kernelspec": {
   "display_name": "Python 3 (ipykernel)",
   "language": "python",
   "name": "python3"
  },
  "language_info": {
   "codemirror_mode": {
    "name": "ipython",
    "version": 3
   },
   "file_extension": ".py",
   "mimetype": "text/x-python",
   "name": "python",
   "nbconvert_exporter": "python",
   "pygments_lexer": "ipython3",
   "version": "3.7.12"
  }
 },
 "nbformat": 4,
 "nbformat_minor": 5
}
