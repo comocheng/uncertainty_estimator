{
 "cells": [
  {
   "cell_type": "code",
   "execution_count": 194,
   "id": "80a62117",
   "metadata": {},
   "outputs": [],
   "source": [
    "# A script to export the reactions from an RMG mechanism and the database\n",
    "# produces 3 files:\n",
    "\n",
    "# make a dict entry for index\n",
    "\n",
    "# species_dict_file = 'species_dict.pickle'\n",
    "# reaction_dict_file = 'reaction_dict.pickle'\n",
    "\n",
    "# correlated_uncertainty_file = 'correlated_uncertainty.pickle'\n"
   ]
  },
  {
   "cell_type": "code",
   "execution_count": 2,
   "id": "9530a79e",
   "metadata": {},
   "outputs": [],
   "source": [
    "# example script to show how to unpack information in pickled files\n",
    "import pickle\n",
    "import numpy as np"
   ]
  },
  {
   "cell_type": "code",
   "execution_count": 195,
   "id": "0adadf4a",
   "metadata": {},
   "outputs": [
    {
     "data": {
      "text/plain": [
       "<module 'rmgpy.tools.uncertainty' from '/home/moon/rmg/RMG-Py/rmgpy/tools/uncertainty.py'>"
      ]
     },
     "execution_count": 195,
     "metadata": {},
     "output_type": "execute_result"
    }
   ],
   "source": [
    "import os\n",
    "import copy\n",
    "import itertools\n",
    "import numpy as np\n",
    "import scipy.stats\n",
    "import rmgpy.data.thermo\n",
    "import rmgpy.data.rmg\n",
    "import rmgpy.chemkin\n",
    "import rmgpy.exceptions\n",
    "\n",
    "import rmgpy.tools.uncertainty\n",
    "import matplotlib.pyplot as plt\n",
    "%matplotlib inline\n",
    "\n",
    "\n",
    "import importlib\n",
    "importlib.reload(rmgpy.tools.uncertainty)"
   ]
  },
  {
   "cell_type": "code",
   "execution_count": 4,
   "id": "3d2c686b",
   "metadata": {},
   "outputs": [],
   "source": [
    "# load example \n",
    "\n",
    "gas_chemkin = '/home/moon/uncertainty_estimator/cpox_pt/cpox_pt_20241020/chem_annotated-gas.inp'\n",
    "gas_surface = '/home/moon/uncertainty_estimator/cpox_pt/cpox_pt_20241020/chem_annotated-surface.inp'\n",
    "sp_dict = '/home/moon/uncertainty_estimator/cpox_pt/cpox_pt_20241020/species_dictionary.txt'\n",
    "test_species_list, test_reaction_list = rmgpy.chemkin.load_chemkin_file(gas_chemkin, sp_dict, surface_path=gas_surface)"
   ]
  },
  {
   "cell_type": "code",
   "execution_count": 5,
   "id": "924e8d3f",
   "metadata": {},
   "outputs": [
    {
     "data": {
      "text/plain": [
       "rmgpy.data.kinetics.family.TemplateReaction"
      ]
     },
     "execution_count": 5,
     "metadata": {},
     "output_type": "execute_result"
    }
   ],
   "source": [
    "type(test_reaction_list[-1])"
   ]
  },
  {
   "cell_type": "code",
   "execution_count": 113,
   "id": "e21a17b5",
   "metadata": {},
   "outputs": [
    {
     "name": "stderr",
     "output_type": "stream",
     "text": [
      "WARNING:root:An instance of RMGDatabase already exists. Re-initializing it.\n"
     ]
    }
   ],
   "source": [
    "# Load the database\n",
    "database = rmgpy.data.rmg.RMGDatabase()\n",
    "database.load(\n",
    "    path = rmgpy.settings['database.directory'],\n",
    "    thermo_libraries = ['surfaceThermoPt111', 'primaryThermoLibrary'],\n",
    "    reaction_libraries = ['Surface/CPOX_Pt/Deutschmann2006_adjusted'],\n",
    "#     kinetics_families = ['Surface_Abstraction'],\n",
    "    kinetics_families = ['surface'],\n",
    "    kinetics_depositories = ['training'],\n",
    "    depository = True,\n",
    ")"
   ]
  },
  {
   "cell_type": "code",
   "execution_count": 114,
   "id": "32c9e179",
   "metadata": {},
   "outputs": [],
   "source": [
    "def get_i_thing(thing, thing_list):\n",
    "    for i in range(len(thing_list)):\n",
    "        if thing.is_isomorphic(thing_list[i]):\n",
    "            return i\n",
    "    return -1"
   ]
  },
  {
   "cell_type": "code",
   "execution_count": null,
   "id": "536d10b8",
   "metadata": {},
   "outputs": [],
   "source": []
  },
  {
   "cell_type": "code",
   "execution_count": 115,
   "id": "0493b899",
   "metadata": {
    "scrolled": true
   },
   "outputs": [
    {
     "name": "stdout",
     "output_type": "stream",
     "text": [
      "44\n"
     ]
    }
   ],
   "source": [
    "# Collect all of the training reactions\n",
    "\n",
    "reaction_list = []\n",
    "species_list = []  # build this up as you go to make sure all reactions use the same species object\n",
    "for family in database.kinetics.families.keys():\n",
    "#     print(family)\n",
    "    training_depository = database.kinetics.families[family].get_training_depository()\n",
    "    for i, entry in enumerate(training_depository.entries):\n",
    "#         print(f'Reaction {i + 1}:')\n",
    "#         display(training_depository.entries[entry].item)\n",
    "        \n",
    "        my_reaction = rmgpy.data.kinetics.family.TemplateReaction()\n",
    "        my_reaction.reactants = training_depository.entries[entry].item.reactants\n",
    "        my_reaction.products = training_depository.entries[entry].item.products\n",
    "        my_reaction.family = family\n",
    "#         my_reaction = training_depository.entries[entry].item\n",
    "        \n",
    "        \n",
    "#         for j in range(len(my_reaction.reactants)):\n",
    "#             i_thing = get_i_thing(my_reaction.reactants[j], species_list)\n",
    "#             if i_thing < 0:\n",
    "#                 my_reaction.reactants[j].thermo = database.thermo.get_thermo_data(my_reaction.reactants[j])\n",
    "#                 species_list.append(my_reaction.reactants[j])\n",
    "#             else:\n",
    "#                 my_reaction.reactants[j] = species_list[i_thing]  # reuse species objects\n",
    "            \n",
    "# #             my_reaction.reactants[j].thermo = database.thermo.get_thermo_data(my_reaction.reactants[j])\n",
    "#         for j in range(len(my_reaction.products)):\n",
    "#             i_thing = get_i_thing(my_reaction.products[j], species_list)\n",
    "#             if i_thing < 0:\n",
    "#                 my_reaction.products[j].thermo = database.thermo.get_thermo_data(my_reaction.products[j])\n",
    "#                 species_list.append(my_reaction.products[j])\n",
    "#             else:\n",
    "#                 my_reaction.products[j] = species_list[i_thing]  # reuse species objects\n",
    "        \n",
    "        \n",
    "#             my_reaction.products[j].thermo = database.thermo.get_thermo_data(my_reaction.products[j])\n",
    "        \n",
    "        \n",
    "        \n",
    "#         my_reactions.append(training_depository.entries[entry].item)\n",
    "        \n",
    "        try:\n",
    "            template_labels = database.kinetics.families[family].get_reaction_template_labels(my_reaction)\n",
    "            template = database.kinetics.families[family].retrieve_template(template_labels)\n",
    "            kinetics = database.kinetics.families[family].get_kinetics_for_template(template, degeneracy=my_reaction.degeneracy)[0]\n",
    "            my_reaction.kinetics = kinetics\n",
    "        except:\n",
    "            continue\n",
    "        reaction_list.append(my_reaction)\n",
    "print(len(reaction_list))\n"
   ]
  },
  {
   "cell_type": "code",
   "execution_count": 116,
   "id": "b27ff27a",
   "metadata": {},
   "outputs": [],
   "source": [
    "species_list = []\n",
    "\n",
    "\n",
    "for i in range(len(reaction_list)):\n",
    "     for j in range(len(reaction_list[i].reactants)):\n",
    "        i_thing = get_i_thing(reaction_list[i].reactants[j], species_list)\n",
    "        if i_thing < 0:\n",
    "            reaction_list[i].reactants[j].thermo = database.thermo.get_thermo_data(reaction_list[i].reactants[j])\n",
    "            species_list.append(reaction_list[i].reactants[j])\n",
    "        else:\n",
    "            reaction_list[i].reactants[j] = species_list[i_thing]  # reuse species objects\n",
    "\n",
    "for i in range(len(reaction_list)):\n",
    "    for j in range(len(reaction_list[i].products)):\n",
    "        i_thing = get_i_thing(reaction_list[i].products[j], species_list)\n",
    "        if i_thing < 0:\n",
    "            reaction_list[i].products[j].thermo = database.thermo.get_thermo_data(reaction_list[i].products[j])\n",
    "            species_list.append(reaction_list[i].products[j])\n",
    "        else:\n",
    "            reaction_list[i].products[j] = species_list[i_thing]  # reuse species objects\n",
    "        "
   ]
  },
  {
   "cell_type": "code",
   "execution_count": 12,
   "id": "2282a338",
   "metadata": {},
   "outputs": [
    {
     "data": {
      "text/plain": [
       "48"
      ]
     },
     "execution_count": 12,
     "metadata": {},
     "output_type": "execute_result"
    }
   ],
   "source": [
    "len(species_list)"
   ]
  },
  {
   "cell_type": "code",
   "execution_count": null,
   "id": "ce348142",
   "metadata": {},
   "outputs": [],
   "source": []
  },
  {
   "cell_type": "code",
   "execution_count": null,
   "id": "06387bb2",
   "metadata": {},
   "outputs": [],
   "source": []
  },
  {
   "cell_type": "code",
   "execution_count": null,
   "id": "11005f42",
   "metadata": {},
   "outputs": [],
   "source": []
  },
  {
   "cell_type": "code",
   "execution_count": 13,
   "id": "bcb7ae1a",
   "metadata": {},
   "outputs": [
    {
     "data": {
      "text/plain": [
       "NASA(polynomials=[NASAPolynomial(coeffs=[0,0,0,0,0,0,0], Tmin=(298,'K'), Tmax=(1000,'K')), NASAPolynomial(coeffs=[0,0,0,0,0,0,0], Tmin=(1000,'K'), Tmax=(3000,'K'))], Tmin=(298,'K'), Tmax=(3000,'K'), Cp0=(0.01,'J/(mol*K)'), CpInf=(24.9434,'J/(mol*K)'), label=\"\"\"vacant\"\"\", comment=\"\"\"Thermo library: surfaceThermoPt111\"\"\")"
      ]
     },
     "execution_count": 13,
     "metadata": {},
     "output_type": "execute_result"
    }
   ],
   "source": [
    "species_list[9].thermo"
   ]
  },
  {
   "cell_type": "code",
   "execution_count": null,
   "id": "b72e136f",
   "metadata": {},
   "outputs": [],
   "source": []
  },
  {
   "cell_type": "code",
   "execution_count": 14,
   "id": "0a88bd54",
   "metadata": {},
   "outputs": [
    {
     "data": {
      "text/plain": [
       "48"
      ]
     },
     "execution_count": 14,
     "metadata": {},
     "output_type": "execute_result"
    }
   ],
   "source": [
    "len(species_list)"
   ]
  },
  {
   "cell_type": "code",
   "execution_count": 15,
   "id": "049cc1c1",
   "metadata": {},
   "outputs": [
    {
     "ename": "NameError",
     "evalue": "name 'include_species_list' is not defined",
     "output_type": "error",
     "traceback": [
      "\u001b[0;31m---------------------------------------------------------------------------\u001b[0m",
      "\u001b[0;31mNameError\u001b[0m                                 Traceback (most recent call last)",
      "\u001b[0;32m/tmp/ipykernel_10678/2731811039.py\u001b[0m in \u001b[0;36m<module>\u001b[0;34m\u001b[0m\n\u001b[0;32m----> 1\u001b[0;31m \u001b[0mlen\u001b[0m\u001b[0;34m(\u001b[0m\u001b[0minclude_species_list\u001b[0m\u001b[0;34m)\u001b[0m\u001b[0;34m\u001b[0m\u001b[0;34m\u001b[0m\u001b[0m\n\u001b[0m",
      "\u001b[0;31mNameError\u001b[0m: name 'include_species_list' is not defined"
     ]
    }
   ],
   "source": [
    "len(include_species_list)"
   ]
  },
  {
   "cell_type": "code",
   "execution_count": null,
   "id": "13d5f320",
   "metadata": {},
   "outputs": [],
   "source": [
    "# for i in range(len(reaction_list)):\n",
    "#     print(reaction_list[i].is_surface_reaction(), reaction_list[i])"
   ]
  },
  {
   "cell_type": "code",
   "execution_count": null,
   "id": "a26bc8a8",
   "metadata": {},
   "outputs": [],
   "source": []
  },
  {
   "cell_type": "code",
   "execution_count": 117,
   "id": "8dc62627",
   "metadata": {},
   "outputs": [],
   "source": [
    "# Trim the set to just surface reactions and the species reacting in them\n",
    "# Per Joy's request, make sure to only include species involved in reactions\n",
    "surface_only = True\n",
    "\n",
    "reacting_species_set = set()\n",
    "for i in range(len(reaction_list)):\n",
    "    if surface_only and not reaction_list[i].is_surface_reaction():\n",
    "        continue\n",
    "    for sp in reaction_list[i].reactants + reaction_list[i].products:\n",
    "        reacting_species_set.add(species_list.index(sp))\n",
    "include_species_list = [species_list[i] for i in reacting_species_set]\n",
    "\n",
    "\n",
    "\n",
    "include_reactions_set = set()\n",
    "for i in range(len(reaction_list)):\n",
    "    if surface_only and not reaction_list[i].is_surface_reaction():\n",
    "        continue\n",
    "    include_reactions_set.add(i)\n",
    "include_reactions_list = [reaction_list[i] for i in include_reactions_set]\n",
    "\n"
   ]
  },
  {
   "cell_type": "markdown",
   "id": "befc14c9",
   "metadata": {},
   "source": [
    "# Fill out the species dictionary"
   ]
  },
  {
   "cell_type": "code",
   "execution_count": 118,
   "id": "cb434a33",
   "metadata": {},
   "outputs": [
    {
     "name": "stdout",
     "output_type": "stream",
     "text": [
      "0 CH2X_1\n",
      "1 HOX_3\n",
      "2 CHX_1\n",
      "3 CX_1\n",
      "4 OX_1\n",
      "5 HCOX_3\n",
      "6 H2O*\n",
      "7 CH4*\n",
      "8 HCCH\n",
      "9 X_3\n",
      "10 H2CCH2\n",
      "11 H2CO\n",
      "12 H2\n",
      "13 NO\n",
      "14 H2O\n",
      "15 CO2\n",
      "16 CH4\n",
      "17 CC_2X\n",
      "18 CCH_2X\n",
      "19 HCCH_2X\n",
      "20 HCCH2_2X\n",
      "21 HOCXO_1\n",
      "22 NH2_X\n",
      "23 NHX_2\n",
      "24 HCOO*\n",
      "25 CH3O2*\n",
      "26 H2CCH2_2X\n",
      "27 H2CO_2X\n",
      "28 HCOOH*\n",
      "29 H2CCH3_X\n",
      "30 HCCH3_X\n",
      "31 NH3_X\n",
      "32 XCCH2\n",
      "33 XCHCH2\n",
      "34 HCCHX_vdW\n",
      "35 H2CCH2X_vdW\n",
      "36 H2COX_vdW\n",
      "37 CH3X_4\n",
      "38 COX_5\n",
      "39 HCCH_2X\n",
      "40 HX_3\n",
      "41 NO_X\n",
      "42 CO2X\n",
      "43 NX\n",
      "44 CH2OH*_2\n",
      "45 HCO_2X\n",
      "46 XCXCH2_3\n",
      "47 HCOH*\n"
     ]
    }
   ],
   "source": [
    "species_dict = {}\n",
    "for i in range(len(include_species_list)):\n",
    "    print(i, include_species_list[i])\n",
    "    species_label = include_species_list[i].to_chemkin()\n",
    "    \n",
    "    if type(include_species_list[i].thermo) == rmgpy.thermo.thermodata.ThermoData:\n",
    "        include_species_list[i].thermo = include_species_list[i].thermo.to_nasa(\n",
    "            np.min(include_species_list[i].thermo.Tdata.value_si),\n",
    "            np.max(include_species_list[i].thermo.Tdata.value_si),\n",
    "            np.mean(include_species_list[i].thermo.Tdata.value_si)\n",
    "        )\n",
    "    \n",
    "    species_entry = {\n",
    "        'index': i,\n",
    "        'RMG_adjacency_list': include_species_list[i].to_adjacency_list(),\n",
    "        'NASA0': {\n",
    "            'coeffs': include_species_list[i].thermo.polynomials[0].coeffs,\n",
    "            'Tmin': include_species_list[i].thermo.polynomials[0].Tmin.value_si,\n",
    "            'Tmax': include_species_list[i].thermo.polynomials[0].Tmax.value_si\n",
    "        },\n",
    "        'NASA1': {\n",
    "            'coeffs': include_species_list[i].thermo.polynomials[1].coeffs,\n",
    "            'Tmin': include_species_list[i].thermo.polynomials[1].Tmin.value_si,\n",
    "            'Tmax': include_species_list[i].thermo.polynomials[1].Tmax.value_si\n",
    "        },\n",
    "        'comment': include_species_list[i].thermo.comment\n",
    "    }\n",
    "    \n",
    "    species_dict[species_label] = species_entry\n",
    "\n"
   ]
  },
  {
   "cell_type": "code",
   "execution_count": 119,
   "id": "6d40da16",
   "metadata": {},
   "outputs": [],
   "source": [
    "species_dict_file = 'species_dict.pickle'\n",
    "with open(species_dict_file, 'wb') as f:\n",
    "    pickle.dump(species_dict, f)"
   ]
  },
  {
   "cell_type": "code",
   "execution_count": 120,
   "id": "1956cac0",
   "metadata": {},
   "outputs": [],
   "source": [
    "# read back in to check\n",
    "with open(species_dict_file, 'rb') as f:\n",
    "    my_data = pickle.load(f)\n"
   ]
  },
  {
   "cell_type": "markdown",
   "id": "af9b99bd",
   "metadata": {},
   "source": [
    "# Fill out the reaction dictionary"
   ]
  },
  {
   "cell_type": "code",
   "execution_count": 121,
   "id": "faf25083",
   "metadata": {},
   "outputs": [],
   "source": [
    "reaction_dict = {}\n",
    "N = len(species_dict)\n",
    "for i in range(len(include_reactions_list)):\n",
    "    reaction_label = str(include_reactions_list[i])\n",
    "    \n",
    "    \n",
    "    if type(include_reactions_list[i].kinetics) in [rmgpy.kinetics.surface.SurfaceArrheniusBEP, rmgpy.kinetics.surface.StickingCoefficientBEP]:\n",
    "        kinetic_entry = {\n",
    "            'A': include_reactions_list[i].kinetics.A.value,\n",
    "            'n': include_reactions_list[i].kinetics.n.value,\n",
    "            'alpha': include_reactions_list[i].kinetics.alpha.value,\n",
    "            'E0': include_reactions_list[i].kinetics.E0.value,\n",
    "            'A_units': include_reactions_list[i].kinetics.A.units,\n",
    "            'E0_units': include_reactions_list[i].kinetics.E0.units\n",
    "        }\n",
    "    elif type(include_reactions_list[i].kinetics) in [rmgpy.kinetics.surface.SurfaceArrhenius, rmgpy.kinetics.surface.StickingCoefficient]:\n",
    "        kinetic_entry = {\n",
    "            'A': include_reactions_list[i].kinetics.A.value,\n",
    "            'n': include_reactions_list[i].kinetics.n.value,\n",
    "            'Ea': include_reactions_list[i].kinetics.Ea.value,\n",
    "            'A_units': include_reactions_list[i].kinetics.A.units,\n",
    "            'Ea_units': include_reactions_list[i].kinetics.Ea.units\n",
    "        }\n",
    "    \n",
    "    reaction_entry = {\n",
    "        'index': N + i,\n",
    "        'parameterization': str(type(include_reactions_list[i].kinetics)),\n",
    "        'kinetics': kinetic_entry,\n",
    "        'comment': include_reactions_list[i].kinetics.comment,\n",
    "        'reactants': [str(include_reactions_list[i].reactants[j].to_chemkin()) for j in range(len(include_reactions_list[i].reactants))],\n",
    "        'products': [str(include_reactions_list[i].products[j].to_chemkin()) for j in range(len(include_reactions_list[i].products))],\n",
    "    }\n",
    "    \n",
    "    reaction_dict[reaction_label] = reaction_entry\n"
   ]
  },
  {
   "cell_type": "code",
   "execution_count": 122,
   "id": "67e9d7e4",
   "metadata": {},
   "outputs": [],
   "source": [
    "reaction_dict_file = 'reaction_dict.pickle'\n",
    "with open(reaction_dict_file, 'wb') as f:\n",
    "    pickle.dump(reaction_dict, f)"
   ]
  },
  {
   "cell_type": "code",
   "execution_count": 123,
   "id": "ee145f1b",
   "metadata": {},
   "outputs": [],
   "source": [
    "# read back in to check\n",
    "with open(reaction_dict_file, 'rb') as f:\n",
    "    my_data = pickle.load(f)\n"
   ]
  },
  {
   "cell_type": "code",
   "execution_count": 124,
   "id": "05a35785",
   "metadata": {},
   "outputs": [
    {
     "data": {
      "text/plain": [
       "{'CH2X_1 + HOX_3 <=> CH3X_4 + OX_1': {'index': 47,\n",
       "  'parameterization': \"<class 'rmgpy.kinetics.surface.SurfaceArrheniusBEP'>\",\n",
       "  'kinetics': {'A': 4.18e+17,\n",
       "   'n': 0.0,\n",
       "   'alpha': 0.37,\n",
       "   'E0': 99.3,\n",
       "   'A_units': 'm^2/(mol*s)',\n",
       "   'E0_units': 'kJ/mol'},\n",
       "  'comment': 'Estimated using template [Abstracting;*R-H] for rate rule [C=*;*OH]\\nEuclidian distance = 2.23606797749979\\nfamily: Surface_Abstraction',\n",
       "  'reactants': ['CH2X_1', 'HOX_3'],\n",
       "  'products': ['CH3X_4', 'OX_1']},\n",
       " 'CHX_1 + HOX_3 <=> CH2X_1 + OX_1': {'index': 48,\n",
       "  'parameterization': \"<class 'rmgpy.kinetics.surface.SurfaceArrheniusBEP'>\",\n",
       "  'kinetics': {'A': 4.18e+17,\n",
       "   'n': 0.0,\n",
       "   'alpha': 0.37,\n",
       "   'E0': 99.3,\n",
       "   'A_units': 'm^2/(mol*s)',\n",
       "   'E0_units': 'kJ/mol'},\n",
       "  'comment': 'Estimated using template [Abstracting;*R-H] for rate rule [C#*;*OH]\\nEuclidian distance = 2.23606797749979\\nfamily: Surface_Abstraction',\n",
       "  'reactants': ['CHX_1', 'HOX_3'],\n",
       "  'products': ['CH2X_1', 'OX_1']},\n",
       " 'CX_1 + HOX_3 <=> CHX_1 + OX_1': {'index': 49,\n",
       "  'parameterization': \"<class 'rmgpy.kinetics.surface.SurfaceArrheniusBEP'>\",\n",
       "  'kinetics': {'A': 4.18e+17,\n",
       "   'n': 0.0,\n",
       "   'alpha': 0.37,\n",
       "   'E0': 99.3,\n",
       "   'A_units': 'm^2/(mol*s)',\n",
       "   'E0_units': 'kJ/mol'},\n",
       "  'comment': 'Estimated using template [Abstracting;*R-H] for rate rule [C$*;*OH]\\nEuclidian distance = 2.23606797749979\\nfamily: Surface_Abstraction',\n",
       "  'reactants': ['CX_1', 'HOX_3'],\n",
       "  'products': ['CHX_1', 'OX_1']},\n",
       " 'OX_1 + HCOX_3 <=> HOX_3 + COX_5': {'index': 50,\n",
       "  'parameterization': \"<class 'rmgpy.kinetics.surface.SurfaceArrheniusBEP'>\",\n",
       "  'kinetics': {'A': 4.18e+17,\n",
       "   'n': 0.0,\n",
       "   'alpha': 0.94,\n",
       "   'E0': 129.3,\n",
       "   'A_units': 'm^2/(mol*s)',\n",
       "   'E0_units': 'kJ/mol'},\n",
       "  'comment': 'Estimated using template [O;*C-H] for rate rule [O;*-C-H]\\nEuclidian distance = 1.0\\nfamily: Surface_Abstraction',\n",
       "  'reactants': ['OX_1', 'HCOX_3'],\n",
       "  'products': ['HOX_3', 'COX_5']},\n",
       " 'H2O* + OX_1 <=> HOX_3 + HOX_3': {'index': 51,\n",
       "  'parameterization': \"<class 'rmgpy.kinetics.surface.SurfaceArrheniusBEP'>\",\n",
       "  'kinetics': {'A': 4.18e+17,\n",
       "   'n': 0.0,\n",
       "   'alpha': 0.94,\n",
       "   'E0': 129.3,\n",
       "   'A_units': 'm^2/(mol*s)',\n",
       "   'E0_units': 'kJ/mol'},\n",
       "  'comment': 'Estimated using template [AdsorbateVdW;Adsorbate1] for rate rule [O-R;*=O]\\nEuclidian distance = 1.4142135623730951\\nfamily: Surface_Abstraction_vdW',\n",
       "  'reactants': ['H2O*', 'OX_1'],\n",
       "  'products': ['HOX_3', 'HOX_3']},\n",
       " 'CH4* + OX_1 <=> CH3X_4 + HOX_3': {'index': 52,\n",
       "  'parameterization': \"<class 'rmgpy.kinetics.surface.SurfaceArrheniusBEP'>\",\n",
       "  'kinetics': {'A': 4.18e+17,\n",
       "   'n': 0.0,\n",
       "   'alpha': 0.94,\n",
       "   'E0': 129.3,\n",
       "   'A_units': 'm^2/(mol*s)',\n",
       "   'E0_units': 'kJ/mol'},\n",
       "  'comment': 'Estimated using template [AdsorbateVdW;Adsorbate1] for rate rule [C-R;*=O]\\nEuclidian distance = 1.4142135623730951\\nfamily: Surface_Abstraction_vdW',\n",
       "  'reactants': ['CH4*', 'OX_1'],\n",
       "  'products': ['CH3X_4', 'HOX_3']},\n",
       " 'HCCH + X_3 + X_3 <=> HCCH_2X': {'index': 53,\n",
       "  'parameterization': \"<class 'rmgpy.kinetics.surface.StickingCoefficientBEP'>\",\n",
       "  'kinetics': {'A': 0.2,\n",
       "   'n': 0.0,\n",
       "   'alpha': 0.0,\n",
       "   'E0': 0.0,\n",
       "   'A_units': '',\n",
       "   'E0_units': 'kcal/mol'},\n",
       "  'comment': 'Exact match found for rate rule [Adsorbate;VacantSite1;VacantSite2]\\nEuclidian distance = 0\\nfamily: Surface_Adsorption_Bidentate',\n",
       "  'reactants': ['HCCH', 'X_3', 'X_3'],\n",
       "  'products': ['HCCH_2X']},\n",
       " 'H2CCH2 + X_3 + X_3 <=> H2CCH2_2X': {'index': 54,\n",
       "  'parameterization': \"<class 'rmgpy.kinetics.surface.StickingCoefficientBEP'>\",\n",
       "  'kinetics': {'A': 0.2,\n",
       "   'n': 0.0,\n",
       "   'alpha': 0.0,\n",
       "   'E0': 0.0,\n",
       "   'A_units': '',\n",
       "   'E0_units': 'kcal/mol'},\n",
       "  'comment': 'Exact match found for rate rule [Adsorbate;VacantSite1;VacantSite2]\\nEuclidian distance = 0\\nfamily: Surface_Adsorption_Bidentate',\n",
       "  'reactants': ['H2CCH2', 'X_3', 'X_3'],\n",
       "  'products': ['H2CCH2_2X']},\n",
       " 'H2CO + X_3 + X_3 <=> H2CO_2X': {'index': 55,\n",
       "  'parameterization': \"<class 'rmgpy.kinetics.surface.StickingCoefficientBEP'>\",\n",
       "  'kinetics': {'A': 0.2,\n",
       "   'n': 0.0,\n",
       "   'alpha': 0.0,\n",
       "   'E0': 0.0,\n",
       "   'A_units': '',\n",
       "   'E0_units': 'kcal/mol'},\n",
       "  'comment': 'Exact match found for rate rule [Adsorbate;VacantSite1;VacantSite2]\\nEuclidian distance = 0\\nfamily: Surface_Adsorption_Bidentate',\n",
       "  'reactants': ['H2CO', 'X_3', 'X_3'],\n",
       "  'products': ['H2CO_2X']},\n",
       " 'H2 + X_3 + X_3 <=> HX_3 + HX_3': {'index': 57,\n",
       "  'parameterization': \"<class 'rmgpy.kinetics.surface.StickingCoefficientBEP'>\",\n",
       "  'kinetics': {'A': 0.1,\n",
       "   'n': 0.0,\n",
       "   'alpha': 0.0,\n",
       "   'E0': 3.800000000000001,\n",
       "   'A_units': '',\n",
       "   'E0_units': 'kJ/mol'},\n",
       "  'comment': 'Exact match found for rate rule [H2;VacantSite1;VacantSite2]\\nEuclidian distance = 0\\nfamily: Surface_Adsorption_Dissociative',\n",
       "  'reactants': ['H2', 'X_3', 'X_3'],\n",
       "  'products': ['HX_3', 'HX_3']},\n",
       " 'NO + X_3 <=> NO_X': {'index': 58,\n",
       "  'parameterization': \"<class 'rmgpy.kinetics.surface.StickingCoefficientBEP'>\",\n",
       "  'kinetics': {'A': 0.1,\n",
       "   'n': 0.0,\n",
       "   'alpha': 0.0,\n",
       "   'E0': 0.0,\n",
       "   'A_units': '',\n",
       "   'E0_units': 'kcal/mol'},\n",
       "  'comment': 'Estimated using template [Adsorbate;VacantSite] for rate rule [N=O;VacantSite]\\nEuclidian distance = 2.0\\nfamily: Surface_Adsorption_Single',\n",
       "  'reactants': ['NO', 'X_3'],\n",
       "  'products': ['NO_X']},\n",
       " 'H2O + X_3 <=> H2O*': {'index': 59,\n",
       "  'parameterization': \"<class 'rmgpy.kinetics.surface.StickingCoefficientBEP'>\",\n",
       "  'kinetics': {'A': 0.1,\n",
       "   'n': 0.0,\n",
       "   'alpha': 0.0,\n",
       "   'E0': 0.0,\n",
       "   'A_units': '',\n",
       "   'E0_units': 'kcal/mol'},\n",
       "  'comment': 'Estimated using template [Adsorbate;VacantSite] for rate rule [H2O;VacantSite]\\nEuclidian distance = 3.0\\nfamily: Surface_Adsorption_vdW',\n",
       "  'reactants': ['H2O', 'X_3'],\n",
       "  'products': ['H2O*']},\n",
       " 'CO2 + X_3 <=> CO2X': {'index': 60,\n",
       "  'parameterization': \"<class 'rmgpy.kinetics.surface.StickingCoefficientBEP'>\",\n",
       "  'kinetics': {'A': 0.1,\n",
       "   'n': 0.0,\n",
       "   'alpha': 0.0,\n",
       "   'E0': 0.0,\n",
       "   'A_units': '',\n",
       "   'E0_units': 'kcal/mol'},\n",
       "  'comment': 'Estimated using template [Adsorbate;VacantSite] for rate rule [CO2;VacantSite]\\nEuclidian distance = 4.0\\nfamily: Surface_Adsorption_vdW',\n",
       "  'reactants': ['CO2', 'X_3'],\n",
       "  'products': ['CO2X']},\n",
       " 'CH4 + X_3 <=> CH4*': {'index': 61,\n",
       "  'parameterization': \"<class 'rmgpy.kinetics.surface.StickingCoefficientBEP'>\",\n",
       "  'kinetics': {'A': 0.1,\n",
       "   'n': 0.0,\n",
       "   'alpha': 0.0,\n",
       "   'E0': 0.0,\n",
       "   'A_units': '',\n",
       "   'E0_units': 'kcal/mol'},\n",
       "  'comment': 'Exact match found for rate rule [Adsorbate;VacantSite]\\nEuclidian distance = 0\\nfamily: Surface_Adsorption_vdW',\n",
       "  'reactants': ['CH4', 'X_3'],\n",
       "  'products': ['CH4*']},\n",
       " 'CC_2X <=> CX_1 + CX_1': {'index': 62,\n",
       "  'parameterization': \"<class 'rmgpy.kinetics.surface.SurfaceArrheniusBEP'>\",\n",
       "  'kinetics': {'A': 1187000000000.0,\n",
       "   'n': 0.0,\n",
       "   'alpha': 0.842,\n",
       "   'E0': 145.69,\n",
       "   'A_units': '1/s',\n",
       "   'E0_units': 'kJ/mol'},\n",
       "  'comment': 'Exact match found for rate rule [Combined]\\nEuclidian distance = 0\\nfamily: Surface_Bidentate_Dissociation',\n",
       "  'reactants': ['CC_2X'],\n",
       "  'products': ['CX_1', 'CX_1']},\n",
       " 'CCH_2X <=> CX_1 + CHX_1': {'index': 63,\n",
       "  'parameterization': \"<class 'rmgpy.kinetics.surface.SurfaceArrheniusBEP'>\",\n",
       "  'kinetics': {'A': 1187000000000.0,\n",
       "   'n': 0.0,\n",
       "   'alpha': 0.842,\n",
       "   'E0': 145.69,\n",
       "   'A_units': '1/s',\n",
       "   'E0_units': 'kJ/mol'},\n",
       "  'comment': 'Exact match found for rate rule [Combined]\\nEuclidian distance = 0\\nfamily: Surface_Bidentate_Dissociation',\n",
       "  'reactants': ['CCH_2X'],\n",
       "  'products': ['CX_1', 'CHX_1']},\n",
       " 'HCCH_2X <=> CHX_1 + CHX_1': {'index': 64,\n",
       "  'parameterization': \"<class 'rmgpy.kinetics.surface.SurfaceArrheniusBEP'>\",\n",
       "  'kinetics': {'A': 1187000000000.0,\n",
       "   'n': 0.0,\n",
       "   'alpha': 0.842,\n",
       "   'E0': 145.69,\n",
       "   'A_units': '1/s',\n",
       "   'E0_units': 'kJ/mol'},\n",
       "  'comment': 'Exact match found for rate rule [Combined]\\nEuclidian distance = 0\\nfamily: Surface_Bidentate_Dissociation',\n",
       "  'reactants': ['HCCH_2X'],\n",
       "  'products': ['CHX_1', 'CHX_1']},\n",
       " 'HCCH2_2X <=> CHX_1 + CH2X_1': {'index': 65,\n",
       "  'parameterization': \"<class 'rmgpy.kinetics.surface.SurfaceArrheniusBEP'>\",\n",
       "  'kinetics': {'A': 1187000000000.0,\n",
       "   'n': 0.0,\n",
       "   'alpha': 0.842,\n",
       "   'E0': 145.69,\n",
       "   'A_units': '1/s',\n",
       "   'E0_units': 'kJ/mol'},\n",
       "  'comment': 'Exact match found for rate rule [Combined]\\nEuclidian distance = 0\\nfamily: Surface_Bidentate_Dissociation',\n",
       "  'reactants': ['HCCH2_2X'],\n",
       "  'products': ['CHX_1', 'CH2X_1']},\n",
       " 'HOCXO_1 + X_3 <=> COX_5 + HOX_3': {'index': 66,\n",
       "  'parameterization': \"<class 'rmgpy.kinetics.surface.SurfaceArrheniusBEP'>\",\n",
       "  'kinetics': {'A': 4.18e+17,\n",
       "   'n': 0.0,\n",
       "   'alpha': 0.58,\n",
       "   'E0': 117.7,\n",
       "   'A_units': 'm^2/(mol*s)',\n",
       "   'E0_units': 'kJ/mol'},\n",
       "  'comment': 'Exact match found for rate rule [C-OH;VacantSite]\\nEuclidian distance = 0\\nfamily: Surface_Dissociation',\n",
       "  'reactants': ['HOCXO_1', 'X_3'],\n",
       "  'products': ['COX_5', 'HOX_3']},\n",
       " 'NH2_X + X_3 <=> NHX_2 + HX_3': {'index': 67,\n",
       "  'parameterization': \"<class 'rmgpy.kinetics.surface.SurfaceArrheniusBEP'>\",\n",
       "  'kinetics': {'A': 4.18e+17,\n",
       "   'n': 0.0,\n",
       "   'alpha': 0.84,\n",
       "   'E0': 44.25,\n",
       "   'A_units': 'm^2/(mol*s)',\n",
       "   'E0_units': 'kcal/mol'},\n",
       "  'comment': 'Estimated using template [Combined;VacantSite] for rate rule [N-H2;VacantSite]\\nEuclidian distance = 2.0\\nfamily: Surface_Dissociation',\n",
       "  'reactants': ['NH2_X', 'X_3'],\n",
       "  'products': ['NHX_2', 'HX_3']},\n",
       " 'NHX_2 + X_3 <=> NX + HX_3': {'index': 68,\n",
       "  'parameterization': \"<class 'rmgpy.kinetics.surface.SurfaceArrheniusBEP'>\",\n",
       "  'kinetics': {'A': 4.18e+17,\n",
       "   'n': 0.0,\n",
       "   'alpha': 0.84,\n",
       "   'E0': 44.25,\n",
       "   'A_units': 'm^2/(mol*s)',\n",
       "   'E0_units': 'kcal/mol'},\n",
       "  'comment': 'Estimated using template [Combined;VacantSite] for rate rule [N-H;VacantSite]\\nEuclidian distance = 2.0\\nfamily: Surface_Dissociation',\n",
       "  'reactants': ['NHX_2', 'X_3'],\n",
       "  'products': ['NX', 'HX_3']},\n",
       " 'HCOO* + X_3 <=> HCOX_3 + OX_1': {'index': 69,\n",
       "  'parameterization': \"<class 'rmgpy.kinetics.surface.SurfaceArrheniusBEP'>\",\n",
       "  'kinetics': {'A': 4.18e+17,\n",
       "   'n': 0.0,\n",
       "   'alpha': 0.84,\n",
       "   'E0': 44.25,\n",
       "   'A_units': 'm^2/(mol*s)',\n",
       "   'E0_units': 'kcal/mol'},\n",
       "  'comment': 'Estimated using template [Combined;VacantSite] for rate rule [O-C=O;VacantSite]\\nEuclidian distance = 3.0\\nfamily: Surface_Dissociation',\n",
       "  'reactants': ['HCOO*', 'X_3'],\n",
       "  'products': ['HCOX_3', 'OX_1']},\n",
       " 'HOX_3 + X_3 <=> OX_1 + HX_3': {'index': 71,\n",
       "  'parameterization': \"<class 'rmgpy.kinetics.surface.SurfaceArrheniusBEP'>\",\n",
       "  'kinetics': {'A': 4.18e+17,\n",
       "   'n': 0.0,\n",
       "   'alpha': 0.26,\n",
       "   'E0': 73.3,\n",
       "   'A_units': 'm^2/(mol*s)',\n",
       "   'E0_units': 'kJ/mol'},\n",
       "  'comment': 'Exact match found for rate rule [O-H;VacantSite]\\nEuclidian distance = 0\\nfamily: Surface_Dissociation',\n",
       "  'reactants': ['HOX_3', 'X_3'],\n",
       "  'products': ['OX_1', 'HX_3']},\n",
       " 'CH3O2* + X_3 <=> CH2OH*_2 + OX_1': {'index': 72,\n",
       "  'parameterization': \"<class 'rmgpy.kinetics.surface.SurfaceArrheniusBEP'>\",\n",
       "  'kinetics': {'A': 4.18e+17,\n",
       "   'n': 0.0,\n",
       "   'alpha': 0.84,\n",
       "   'E0': 44.25,\n",
       "   'A_units': 'm^2/(mol*s)',\n",
       "   'E0_units': 'kcal/mol'},\n",
       "  'comment': 'Estimated using template [Combined;VacantSite] for rate rule [O-C;VacantSite]\\nEuclidian distance = 2.0\\nfamily: Surface_Dissociation',\n",
       "  'reactants': ['CH3O2*', 'X_3'],\n",
       "  'products': ['CH2OH*_2', 'OX_1']},\n",
       " 'HCOX_3 + X_3 <=> COX_5 + HX_3': {'index': 73,\n",
       "  'parameterization': \"<class 'rmgpy.kinetics.surface.SurfaceArrheniusBEP'>\",\n",
       "  'kinetics': {'A': 4.18e+17,\n",
       "   'n': 0.0,\n",
       "   'alpha': 0.57,\n",
       "   'E0': 75.3,\n",
       "   'A_units': 'm^2/(mol*s)',\n",
       "   'E0_units': 'kJ/mol'},\n",
       "  'comment': 'Exact match found for rate rule [C-H;VacantSite]\\nEuclidian distance = 0\\nfamily: Surface_Dissociation',\n",
       "  'reactants': ['HCOX_3', 'X_3'],\n",
       "  'products': ['COX_5', 'HX_3']},\n",
       " 'HCCH2_2X + X_3 <=> HCCH_2X + HX_3': {'index': 74,\n",
       "  'parameterization': \"<class 'rmgpy.kinetics.surface.SurfaceArrheniusBEP'>\",\n",
       "  'kinetics': {'A': 1.36e+18,\n",
       "   'n': 0.0,\n",
       "   'alpha': 0.85,\n",
       "   'E0': 65.61,\n",
       "   'A_units': 'm^2/(mol*s)',\n",
       "   'E0_units': 'kJ/mol'},\n",
       "  'comment': 'Exact match found for rate rule [C-H_Bidentate;VacantSite]\\nEuclidian distance = 0\\nfamily: Surface_Dissociation',\n",
       "  'reactants': ['HCCH2_2X', 'X_3'],\n",
       "  'products': ['HCCH_2X', 'HX_3']},\n",
       " 'H2CCH2_2X + X_3 <=> HCCH2_2X + HX_3': {'index': 75,\n",
       "  'parameterization': \"<class 'rmgpy.kinetics.surface.SurfaceArrheniusBEP'>\",\n",
       "  'kinetics': {'A': 1.36e+18,\n",
       "   'n': 0.0,\n",
       "   'alpha': 0.85,\n",
       "   'E0': 65.61,\n",
       "   'A_units': 'm^2/(mol*s)',\n",
       "   'E0_units': 'kJ/mol'},\n",
       "  'comment': 'Exact match found for rate rule [C-H_Bidentate;VacantSite]\\nEuclidian distance = 0\\nfamily: Surface_Dissociation',\n",
       "  'reactants': ['H2CCH2_2X', 'X_3'],\n",
       "  'products': ['HCCH2_2X', 'HX_3']},\n",
       " 'H2CO_2X + X_3 <=> HCO_2X + HX_3': {'index': 76,\n",
       "  'parameterization': \"<class 'rmgpy.kinetics.surface.SurfaceArrheniusBEP'>\",\n",
       "  'kinetics': {'A': 1.36e+18,\n",
       "   'n': 0.0,\n",
       "   'alpha': 0.85,\n",
       "   'E0': 65.61,\n",
       "   'A_units': 'm^2/(mol*s)',\n",
       "   'E0_units': 'kJ/mol'},\n",
       "  'comment': 'Exact match found for rate rule [C-H_Bidentate;VacantSite]\\nEuclidian distance = 0\\nfamily: Surface_Dissociation',\n",
       "  'reactants': ['H2CO_2X', 'X_3'],\n",
       "  'products': ['HCO_2X', 'HX_3']},\n",
       " 'HCCH2_2X + X_3 <=> XCXCH2_3 + HX_3': {'index': 77,\n",
       "  'parameterization': \"<class 'rmgpy.kinetics.surface.SurfaceArrheniusBEP'>\",\n",
       "  'kinetics': {'A': 1.36e+18,\n",
       "   'n': 0.0,\n",
       "   'alpha': 0.85,\n",
       "   'E0': 65.61,\n",
       "   'A_units': 'm^2/(mol*s)',\n",
       "   'E0_units': 'kJ/mol'},\n",
       "  'comment': 'Exact match found for rate rule [C-H_Bidentate;VacantSite]\\nEuclidian distance = 0\\nfamily: Surface_Dissociation',\n",
       "  'reactants': ['HCCH2_2X', 'X_3'],\n",
       "  'products': ['XCXCH2_3', 'HX_3']},\n",
       " 'HCOOH* + X_3 <=> HCOH* + OX_1': {'index': 78,\n",
       "  'parameterization': \"<class 'rmgpy.kinetics.surface.SurfaceArrheniusBEP'>\",\n",
       "  'kinetics': {'A': 10000000000000.0,\n",
       "   'n': 0.0,\n",
       "   'alpha': 0.44,\n",
       "   'E0': 0.0,\n",
       "   'A_units': 'm^2/(mol*s)',\n",
       "   'E0_units': 'kcal/mol'},\n",
       "  'comment': 'Estimated using template [AdsorbateVdW;VacantSite] for rate rule [OC;VacantSite]\\nEuclidian distance = 1.0\\nfamily: Surface_Dissociation_Double_vdW',\n",
       "  'reactants': ['HCOOH*', 'X_3'],\n",
       "  'products': ['HCOH*', 'OX_1']},\n",
       " 'H2CCH3_X + X_3 + X_3 <=> H2CCH2_2X + HX_3': {'index': 79,\n",
       "  'parameterization': \"<class 'rmgpy.kinetics.surface.SurfaceArrheniusBEP'>\",\n",
       "  'kinetics': {'A': 1.41e+22,\n",
       "   'n': 0.0,\n",
       "   'alpha': 0.87,\n",
       "   'E0': 77.188,\n",
       "   'A_units': 'm^4/(mol^2*s)',\n",
       "   'E0_units': 'kJ/mol'},\n",
       "  'comment': 'Exact match found for rate rule [Combined;VacantSite1;VacantSite2]\\nEuclidian distance = 0\\nfamily: Surface_Dissociation_to_Bidentate',\n",
       "  'reactants': ['H2CCH3_X', 'X_3', 'X_3'],\n",
       "  'products': ['H2CCH2_2X', 'HX_3']},\n",
       " 'HCCH3_X + X_3 + X_3 <=> HCCH2_2X + HX_3': {'index': 80,\n",
       "  'parameterization': \"<class 'rmgpy.kinetics.surface.SurfaceArrheniusBEP'>\",\n",
       "  'kinetics': {'A': 1.41e+22,\n",
       "   'n': 0.0,\n",
       "   'alpha': 0.87,\n",
       "   'E0': 77.188,\n",
       "   'A_units': 'm^4/(mol^2*s)',\n",
       "   'E0_units': 'kJ/mol'},\n",
       "  'comment': 'Exact match found for rate rule [Combined;VacantSite1;VacantSite2]\\nEuclidian distance = 0\\nfamily: Surface_Dissociation_to_Bidentate',\n",
       "  'reactants': ['HCCH3_X', 'X_3', 'X_3'],\n",
       "  'products': ['HCCH2_2X', 'HX_3']},\n",
       " 'NH3_X + X_3 <=> NH2_X + HX_3': {'index': 81,\n",
       "  'parameterization': \"<class 'rmgpy.kinetics.surface.SurfaceArrheniusBEP'>\",\n",
       "  'kinetics': {'A': 4.18e+17,\n",
       "   'n': 0.0,\n",
       "   'alpha': 0.84,\n",
       "   'E0': 185.1,\n",
       "   'A_units': 'm^2/(mol*s)',\n",
       "   'E0_units': 'kJ/mol'},\n",
       "  'comment': 'Estimated using template [Combined;VacantSite] for rate rule [N-H;VacantSite]\\nEuclidian distance = 2.0\\nfamily: Surface_Dissociation_vdW',\n",
       "  'reactants': ['NH3_X', 'X_3'],\n",
       "  'products': ['NH2_X', 'HX_3']},\n",
       " 'CH4* + X_3 <=> CH3X_4 + HX_3': {'index': 82,\n",
       "  'parameterization': \"<class 'rmgpy.kinetics.surface.SurfaceArrheniusBEP'>\",\n",
       "  'kinetics': {'A': 1.045e+17,\n",
       "   'n': 0.0,\n",
       "   'alpha': 0.57,\n",
       "   'E0': 75.25,\n",
       "   'A_units': 'm^2/(mol*s)',\n",
       "   'E0_units': 'kJ/mol'},\n",
       "  'comment': 'Exact match found for rate rule [CH4;VacantSite]\\nEuclidian distance = 0\\nfamily: Surface_Dissociation_vdW',\n",
       "  'reactants': ['CH4*', 'X_3'],\n",
       "  'products': ['CH3X_4', 'HX_3']},\n",
       " 'H2O* + X_3 <=> HOX_3 + HX_3': {'index': 83,\n",
       "  'parameterization': \"<class 'rmgpy.kinetics.surface.SurfaceArrheniusBEP'>\",\n",
       "  'kinetics': {'A': 2.09e+17,\n",
       "   'n': 0.0,\n",
       "   'alpha': 0.51,\n",
       "   'E0': 97.5,\n",
       "   'A_units': 'm^2/(mol*s)',\n",
       "   'E0_units': 'kJ/mol'},\n",
       "  'comment': 'Exact match found for rate rule [H2O;VacantSite]\\nEuclidian distance = 0\\nfamily: Surface_Dissociation_vdW',\n",
       "  'reactants': ['H2O*', 'X_3'],\n",
       "  'products': ['HOX_3', 'HX_3']},\n",
       " 'HCOOH* + X_3 <=> HCOX_3 + HOX_3': {'index': 84,\n",
       "  'parameterization': \"<class 'rmgpy.kinetics.surface.SurfaceArrheniusBEP'>\",\n",
       "  'kinetics': {'A': 4.18e+17,\n",
       "   'n': 0.0,\n",
       "   'alpha': 0.84,\n",
       "   'E0': 185.1,\n",
       "   'A_units': 'm^2/(mol*s)',\n",
       "   'E0_units': 'kJ/mol'},\n",
       "  'comment': 'Exact match found for rate rule [Combined;VacantSite]\\nEuclidian distance = 0\\nfamily: Surface_Dissociation_vdW',\n",
       "  'reactants': ['HCOOH*', 'X_3'],\n",
       "  'products': ['HCOX_3', 'HOX_3']},\n",
       " 'XCCH2 + X_3 <=> XCXCH2_3': {'index': 85,\n",
       "  'parameterization': \"<class 'rmgpy.kinetics.surface.SurfaceArrheniusBEP'>\",\n",
       "  'kinetics': {'A': 7.15e+20,\n",
       "   'n': 0.0,\n",
       "   'alpha': 0.0,\n",
       "   'E0': 3.0,\n",
       "   'A_units': 'cm^2/(mol*s)',\n",
       "   'E0_units': 'kJ/mol'},\n",
       "  'comment': 'Exact match found for rate rule [Monodentate;VacantSite]\\nEuclidian distance = 0\\nfamily: Surface_Monodentate_to_Bidentate',\n",
       "  'reactants': ['XCCH2', 'X_3'],\n",
       "  'products': ['XCXCH2_3']},\n",
       " 'XCHCH2 + X_3 <=> HCCH2_2X': {'index': 86,\n",
       "  'parameterization': \"<class 'rmgpy.kinetics.surface.SurfaceArrheniusBEP'>\",\n",
       "  'kinetics': {'A': 7.15e+20,\n",
       "   'n': 0.0,\n",
       "   'alpha': 0.0,\n",
       "   'E0': 3.0,\n",
       "   'A_units': 'cm^2/(mol*s)',\n",
       "   'E0_units': 'kJ/mol'},\n",
       "  'comment': 'Exact match found for rate rule [Monodentate;VacantSite]\\nEuclidian distance = 0\\nfamily: Surface_Monodentate_to_Bidentate',\n",
       "  'reactants': ['XCHCH2', 'X_3'],\n",
       "  'products': ['HCCH2_2X']},\n",
       " 'HCOX_3 + X_3 <=> HCO_2X': {'index': 87,\n",
       "  'parameterization': \"<class 'rmgpy.kinetics.surface.SurfaceArrheniusBEP'>\",\n",
       "  'kinetics': {'A': 7.15e+20,\n",
       "   'n': 0.0,\n",
       "   'alpha': 0.0,\n",
       "   'E0': 3.0,\n",
       "   'A_units': 'cm^2/(mol*s)',\n",
       "   'E0_units': 'kJ/mol'},\n",
       "  'comment': 'Exact match found for rate rule [Monodentate;VacantSite]\\nEuclidian distance = 0\\nfamily: Surface_Monodentate_to_Bidentate',\n",
       "  'reactants': ['HCOX_3', 'X_3'],\n",
       "  'products': ['HCO_2X']},\n",
       " 'HCCHX_vdW + X_3 <=> HCCH_2X': {'index': 88,\n",
       "  'parameterization': \"<class 'rmgpy.kinetics.surface.SurfaceArrheniusBEP'>\",\n",
       "  'kinetics': {'A': 1.78e+21,\n",
       "   'n': 0.0,\n",
       "   'alpha': 0.0,\n",
       "   'E0': 12.0,\n",
       "   'A_units': 'cm^2/(mol*s)',\n",
       "   'E0_units': 'kJ/mol'},\n",
       "  'comment': 'Exact match found for rate rule [Combined;VacantSite]\\nEuclidian distance = 0\\nfamily: Surface_vdW_to_Bidentate',\n",
       "  'reactants': ['HCCHX_vdW', 'X_3'],\n",
       "  'products': ['HCCH_2X']},\n",
       " 'H2CCH2X_vdW + X_3 <=> H2CCH2_2X': {'index': 89,\n",
       "  'parameterization': \"<class 'rmgpy.kinetics.surface.SurfaceArrheniusBEP'>\",\n",
       "  'kinetics': {'A': 1.78e+21,\n",
       "   'n': 0.0,\n",
       "   'alpha': 0.0,\n",
       "   'E0': 12.0,\n",
       "   'A_units': 'cm^2/(mol*s)',\n",
       "   'E0_units': 'kJ/mol'},\n",
       "  'comment': 'Exact match found for rate rule [Combined;VacantSite]\\nEuclidian distance = 0\\nfamily: Surface_vdW_to_Bidentate',\n",
       "  'reactants': ['H2CCH2X_vdW', 'X_3'],\n",
       "  'products': ['H2CCH2_2X']},\n",
       " 'H2COX_vdW + X_3 <=> H2CO_2X': {'index': 90,\n",
       "  'parameterization': \"<class 'rmgpy.kinetics.surface.SurfaceArrheniusBEP'>\",\n",
       "  'kinetics': {'A': 1.78e+21,\n",
       "   'n': 0.0,\n",
       "   'alpha': 0.0,\n",
       "   'E0': 12.0,\n",
       "   'A_units': 'cm^2/(mol*s)',\n",
       "   'E0_units': 'kJ/mol'},\n",
       "  'comment': 'Exact match found for rate rule [Combined;VacantSite]\\nEuclidian distance = 0\\nfamily: Surface_vdW_to_Bidentate',\n",
       "  'reactants': ['H2COX_vdW', 'X_3'],\n",
       "  'products': ['H2CO_2X']}}"
      ]
     },
     "execution_count": 124,
     "metadata": {},
     "output_type": "execute_result"
    }
   ],
   "source": [
    "my_data"
   ]
  },
  {
   "cell_type": "code",
   "execution_count": null,
   "id": "44b27163",
   "metadata": {},
   "outputs": [],
   "source": []
  },
  {
   "cell_type": "code",
   "execution_count": null,
   "id": "fa710e1f",
   "metadata": {},
   "outputs": [],
   "source": [
    "rmgpy.chemkin.save_species_dictionary('species_dictionary.txt', species_list)"
   ]
  },
  {
   "cell_type": "code",
   "execution_count": null,
   "id": "52e91c47",
   "metadata": {},
   "outputs": [],
   "source": [
    "rmgpy.chemkin.save_chemkin_file('my_reactions.inp', species_list, reaction_list)"
   ]
  },
  {
   "cell_type": "code",
   "execution_count": null,
   "id": "d24052d7",
   "metadata": {},
   "outputs": [],
   "source": []
  },
  {
   "cell_type": "markdown",
   "id": "0d7c3bfa",
   "metadata": {},
   "source": [
    "# Run uncertainty Analysis"
   ]
  },
  {
   "cell_type": "code",
   "execution_count": 196,
   "id": "481b2814",
   "metadata": {},
   "outputs": [],
   "source": [
    "uncertainty = rmgpy.tools.uncertainty.Uncertainty(species_list=species_list, reaction_list=reaction_list)"
   ]
  },
  {
   "cell_type": "code",
   "execution_count": 197,
   "id": "e22a5ae0",
   "metadata": {},
   "outputs": [],
   "source": [
    "# uncertainty = rmgpy.tools.uncertainty.Uncertainty()\n",
    "# uncertainty.load_model('my_reactions.inp', 'species_dictionary.txt', transport_path=None, surface_path=None)"
   ]
  },
  {
   "cell_type": "code",
   "execution_count": null,
   "id": "2211987b",
   "metadata": {},
   "outputs": [],
   "source": []
  },
  {
   "cell_type": "code",
   "execution_count": 198,
   "id": "64e0eada",
   "metadata": {},
   "outputs": [
    {
     "data": {
      "text/plain": [
       "48"
      ]
     },
     "execution_count": 198,
     "metadata": {},
     "output_type": "execute_result"
    }
   ],
   "source": [
    "len(uncertainty.species_list)"
   ]
  },
  {
   "cell_type": "code",
   "execution_count": 199,
   "id": "fb4f735f",
   "metadata": {},
   "outputs": [
    {
     "data": {
      "text/plain": [
       "44"
      ]
     },
     "execution_count": 199,
     "metadata": {},
     "output_type": "execute_result"
    }
   ],
   "source": [
    "len(uncertainty.reaction_list)"
   ]
  },
  {
   "cell_type": "code",
   "execution_count": 200,
   "id": "33851c8f",
   "metadata": {},
   "outputs": [],
   "source": [
    "uncertainty.database = database"
   ]
  },
  {
   "cell_type": "code",
   "execution_count": 201,
   "id": "ba207404",
   "metadata": {},
   "outputs": [],
   "source": [
    "uncertainty.extract_sources_from_model()"
   ]
  },
  {
   "cell_type": "code",
   "execution_count": 202,
   "id": "a9386534",
   "metadata": {},
   "outputs": [],
   "source": [
    "uncertainty.assign_parameter_uncertainties(correlated=True)"
   ]
  },
  {
   "cell_type": "code",
   "execution_count": 203,
   "id": "bc93de3b",
   "metadata": {},
   "outputs": [
    {
     "data": {
      "text/plain": [
       "array([[47.858724,  0.      ,  0.      , ...,  0.      ,  0.      ,\n",
       "         0.      ],\n",
       "       [ 0.      , 47.858724,  0.      , ...,  0.      ,  0.      ,\n",
       "         0.      ],\n",
       "       [ 0.      ,  0.      , 47.858724, ...,  0.      ,  0.      ,\n",
       "         0.      ],\n",
       "       ...,\n",
       "       [ 0.      ,  0.      ,  0.      , ..., 47.858724,  0.      ,\n",
       "         0.      ],\n",
       "       [ 0.      ,  0.      ,  0.      , ...,  0.      , 47.858724,\n",
       "         0.      ],\n",
       "       [ 0.      ,  0.      ,  0.      , ...,  0.      ,  0.      ,\n",
       "        47.858724]])"
      ]
     },
     "execution_count": 203,
     "metadata": {},
     "output_type": "execute_result"
    }
   ],
   "source": [
    "uncertainty.get_thermo_covariance_matrix()"
   ]
  },
  {
   "cell_type": "code",
   "execution_count": 204,
   "id": "7c8162f1",
   "metadata": {},
   "outputs": [
    {
     "data": {
      "text/plain": [
       "<matplotlib.colorbar.Colorbar at 0x7f801a284650>"
      ]
     },
     "execution_count": 204,
     "metadata": {},
     "output_type": "execute_result"
    },
    {
     "data": {
      "image/png": "[encoded data removed]",
      "text/plain": [
       "<Figure size 480x480 with 2 Axes>"
      ]
     },
     "metadata": {},
     "output_type": "display_data"
    }
   ],
   "source": [
    "# Show the thermo covariance matrix\n",
    "plt.matshow(uncertainty.thermo_covariance_matrix)\n",
    "plt.colorbar()"
   ]
  },
  {
   "cell_type": "code",
   "execution_count": 205,
   "id": "f7d175c5",
   "metadata": {},
   "outputs": [
    {
     "data": {
      "image/png": "[encoded data removed]",
      "text/plain": [
       "<Figure size 480x480 with 2 Axes>"
      ]
     },
     "metadata": {},
     "output_type": "display_data"
    }
   ],
   "source": [
    "# Zoom in to see which parameters are correlated: the answer is not many -- onyl a handful of similar gorups\n",
    "plt.matshow(uncertainty.thermo_covariance_matrix)\n",
    "plt.colorbar()\n",
    "plt.clim([0, 0.005])"
   ]
  },
  {
   "cell_type": "markdown",
   "id": "143cdb7d",
   "metadata": {},
   "source": [
    "# Now do kinetics covariance"
   ]
  },
  {
   "cell_type": "code",
   "execution_count": 206,
   "id": "c62f9920",
   "metadata": {},
   "outputs": [
    {
     "data": {
      "text/plain": [
       "<matplotlib.colorbar.Colorbar at 0x7f801a04aed0>"
      ]
     },
     "execution_count": 206,
     "metadata": {},
     "output_type": "execute_result"
    },
    {
     "data": {
      "image/png": "[encoded data removed]",
      "text/plain": [
       "<Figure size 480x480 with 2 Axes>"
      ]
     },
     "metadata": {},
     "output_type": "display_data"
    }
   ],
   "source": [
    "uncertainty.get_kinetic_covariance_matrix()\n",
    "# Show the kinetics covariance matrix\n",
    "plt.matshow(uncertainty.kinetic_covariance_matrix)\n",
    "plt.colorbar()"
   ]
  },
  {
   "cell_type": "code",
   "execution_count": 207,
   "id": "97c48a38",
   "metadata": {},
   "outputs": [
    {
     "data": {
      "text/plain": [
       "6.655543823643739"
      ]
     },
     "execution_count": 207,
     "metadata": {},
     "output_type": "execute_result"
    }
   ],
   "source": [
    "delta_ln_k = np.sqrt(np.max(uncertainty.kinetic_covariance_matrix))  # that's 1 std dev ln k\n",
    "\n",
    "# which corresponds to kmax/k of\n",
    "np.exp(delta_ln_k * np.sqrt(3))\n",
    "\n",
    "# 6.7 orders of magnitude. Okay. For the worst case scenario, yeah...\n",
    "np.log10(np.exp(delta_ln_k * np.sqrt(3)))"
   ]
  },
  {
   "cell_type": "code",
   "execution_count": 208,
   "id": "b2f1424e",
   "metadata": {},
   "outputs": [
    {
     "data": {
      "image/png": "[encoded data removed]",
      "text/plain": [
       "<Figure size 480x480 with 2 Axes>"
      ]
     },
     "metadata": {},
     "output_type": "display_data"
    }
   ],
   "source": [
    "# zoom in to highlight correlations\n",
    "plt.matshow(uncertainty.kinetic_covariance_matrix)\n",
    "plt.colorbar()\n",
    "plt.clim([0, 0.11])"
   ]
  },
  {
   "cell_type": "code",
   "execution_count": 211,
   "id": "94db620d",
   "metadata": {},
   "outputs": [
    {
     "data": {
      "text/plain": [
       "<matplotlib.colorbar.Colorbar at 0x7f8019cc71d0>"
      ]
     },
     "execution_count": 211,
     "metadata": {},
     "output_type": "execute_result"
    },
    {
     "data": {
      "image/png": "[encoded data removed]",
      "text/plain": [
       "<Figure size 480x480 with 2 Axes>"
      ]
     },
     "metadata": {},
     "output_type": "display_data"
    }
   ],
   "source": [
    "uncertainty.get_overall_covariance_matrix()\n",
    "plt.matshow(uncertainty.overall_covariance_matrix)\n",
    "plt.colorbar()"
   ]
  },
  {
   "cell_type": "code",
   "execution_count": 213,
   "id": "6c316e92",
   "metadata": {},
   "outputs": [
    {
     "data": {
      "image/png": "[encoded data removed]",
      "text/plain": [
       "<Figure size 480x480 with 2 Axes>"
      ]
     },
     "metadata": {},
     "output_type": "display_data"
    }
   ],
   "source": [
    "uncertainty.get_overall_covariance_matrix()\n",
    "plt.matshow(uncertainty.overall_covariance_matrix)\n",
    "plt.colorbar()\n",
    "plt.clim([-0.01, 0.01])"
   ]
  },
  {
   "cell_type": "code",
   "execution_count": 214,
   "id": "98604041",
   "metadata": {},
   "outputs": [],
   "source": [
    "np.save('thermo_cov.npy', uncertainty.thermo_covariance_matrix)\n",
    "np.save('kinetic_cov.npy', uncertainty.kinetic_covariance_matrix)\n",
    "np.save('overall_cov.npy', uncertainty.overall_covariance_matrix)"
   ]
  },
  {
   "cell_type": "code",
   "execution_count": 75,
   "id": "06e9ec46",
   "metadata": {},
   "outputs": [
    {
     "data": {
      "text/plain": [
       "1.329398123272132"
      ]
     },
     "execution_count": 75,
     "metadata": {},
     "output_type": "execute_result"
    }
   ],
   "source": []
  },
  {
   "cell_type": "code",
   "execution_count": 93,
   "id": "6c19f798",
   "metadata": {},
   "outputs": [
    {
     "data": {
      "text/plain": [
       "3.7461227653855027"
      ]
     },
     "execution_count": 93,
     "metadata": {},
     "output_type": "execute_result"
    }
   ],
   "source": [
    "np.sqrt(uncertainty.kinetic_covariance_matrix[0,0])"
   ]
  },
  {
   "cell_type": "code",
   "execution_count": 99,
   "id": "4337c8d5",
   "metadata": {},
   "outputs": [
    {
     "name": "stdout",
     "output_type": "stream",
     "text": [
      "0\t3.7461227653855027\tCH2X_1 + HOX_3 <=> CH3X_4 + OX_1\n",
      "1\t3.7461227653855027\tCHX_1 + HOX_3 <=> CH2X_1 + OX_1\n",
      "2\t3.7461227653855027\tCX_1 + HOX_3 <=> CHX_1 + OX_1\n",
      "3\t3.7461227653855027\tOX_1 + HCOX_3 <=> HOX_3 + COX_5\n",
      "4\t3.7461227653855027\tH2O* + OX_1 <=> HOX_3 + HOX_3\n",
      "5\t3.7461227653855027\tCH4* + OX_1 <=> CH3X_4 + HOX_3\n",
      "6\t2.705601781489656\tHCCH + X_3 + X_3 <=> HCCH_2X\n",
      "7\t2.705601781489656\tH2CCH2 + X_3 + X_3 <=> H2CCH2_2X\n",
      "8\t2.705601781489656\tH2CO + X_3 + X_3 <=> H2CO_2X\n",
      "9\t2.705601781489656\tH2 + X_3 + X_3 <=> HX_3 + HX_3\n",
      "10\t2.705601781489656\tH2 + X_3 + X_3 <=> HX_3 + HX_3\n",
      "11\t3.7461227653855027\tNO + X_3 <=> NO_X\n",
      "12\t3.7461227653855027\tH2O + X_3 <=> H2O*\n",
      "13\t3.7461227653855027\tCO2 + X_3 <=> CO2X\n",
      "14\t2.705601781489656\tCH4 + X_3 <=> CH4*\n",
      "15\t2.705601781489656\tCC_2X <=> CX_1 + CX_1\n",
      "16\t2.705601781489656\tCCH_2X <=> CX_1 + CHX_1\n",
      "17\t2.705601781489656\tHCCH_2X <=> CHX_1 + CHX_1\n",
      "18\t2.705601781489656\tHCCH2_2X <=> CHX_1 + CH2X_1\n",
      "19\t2.705601781489656\tHOCXO_1 + X_3 <=> COX_5 + HOX_3\n",
      "20\t3.7461227653855027\tNH2_X + X_3 <=> NHX_2 + HX_3\n",
      "21\t3.7461227653855027\tNHX_2 + X_3 <=> NX + HX_3\n",
      "22\t3.7461227653855027\tHCOO* + X_3 <=> HCOX_3 + OX_1\n",
      "23\t2.705601781489656\tHOX_3 + X_3 <=> OX_1 + HX_3\n",
      "24\t2.705601781489656\tHOX_3 + X_3 <=> OX_1 + HX_3\n",
      "25\t3.7461227653855027\tCH3O2* + X_3 <=> CH2OH*_2 + OX_1\n",
      "26\t2.705601781489656\tHCOX_3 + X_3 <=> COX_5 + HX_3\n",
      "27\t2.705601781489656\tHCCH2_2X + X_3 <=> HCCH_2X + HX_3\n",
      "28\t2.705601781489656\tH2CCH2_2X + X_3 <=> HCCH2_2X + HX_3\n",
      "29\t2.705601781489656\tH2CO_2X + X_3 <=> HCO_2X + HX_3\n",
      "30\t2.705601781489656\tHCCH2_2X + X_3 <=> XCXCH2_3 + HX_3\n",
      "31\t3.7461227653855027\tHCOOH* + X_3 <=> HCOH* + OX_1\n",
      "32\t2.705601781489656\tH2CCH3_X + X_3 + X_3 <=> H2CCH2_2X + HX_3\n",
      "33\t2.705601781489656\tHCCH3_X + X_3 + X_3 <=> HCCH2_2X + HX_3\n",
      "34\t3.7461227653855027\tNH3_X + X_3 <=> NH2_X + HX_3\n",
      "35\t2.705601781489656\tCH4* + X_3 <=> CH3X_4 + HX_3\n",
      "36\t2.705601781489656\tH2O* + X_3 <=> HOX_3 + HX_3\n",
      "37\t2.705601781489656\tHCOOH* + X_3 <=> HCOX_3 + HOX_3\n",
      "38\t2.705601781489656\tXCCH2 + X_3 <=> XCXCH2_3\n",
      "39\t2.705601781489656\tXCHCH2 + X_3 <=> HCCH2_2X\n",
      "40\t2.705601781489656\tHCOX_3 + X_3 <=> HCO_2X\n",
      "41\t2.705601781489656\tHCCHX_vdW + X_3 <=> HCCH_2X\n",
      "42\t2.705601781489656\tH2CCH2X_vdW + X_3 <=> H2CCH2_2X\n",
      "43\t2.705601781489656\tH2COX_vdW + X_3 <=> H2CO_2X\n"
     ]
    }
   ],
   "source": [
    "for i in range(len(reaction_list)):\n",
    "    print(f'{i}\\t{np.sqrt(uncertainty.kinetic_covariance_matrix[i, i])}\\t{reaction_list[i]}')"
   ]
  },
  {
   "cell_type": "code",
   "execution_count": 105,
   "id": "1e23c0bb",
   "metadata": {},
   "outputs": [
    {
     "data": {
      "text/plain": [
       "837807930.687744"
      ]
     },
     "execution_count": 105,
     "metadata": {},
     "output_type": "execute_result"
    }
   ],
   "source": [
    "uncertainty.thermo_covariance_matrix[0,0] * 4184 * 4184"
   ]
  },
  {
   "cell_type": "code",
   "execution_count": 101,
   "id": "cadda8b6",
   "metadata": {},
   "outputs": [],
   "source": [
    "varH = np.float_power(28945.5, 2.0)"
   ]
  },
  {
   "cell_type": "code",
   "execution_count": 102,
   "id": "f903fd5e",
   "metadata": {},
   "outputs": [
    {
     "data": {
      "text/plain": [
       "837841970.25"
      ]
     },
     "execution_count": 102,
     "metadata": {},
     "output_type": "execute_result"
    }
   ],
   "source": [
    "varH"
   ]
  },
  {
   "cell_type": "code",
   "execution_count": 141,
   "id": "bc272efa",
   "metadata": {},
   "outputs": [
    {
     "data": {
      "text/plain": [
       "rmgpy.kinetics.surface.StickingCoefficientBEP"
      ]
     },
     "execution_count": 141,
     "metadata": {},
     "output_type": "execute_result"
    }
   ],
   "source": [
    "type(uncertainty.reaction_list[10].kinetics)"
   ]
  },
  {
   "cell_type": "code",
   "execution_count": null,
   "id": "05992533",
   "metadata": {},
   "outputs": [],
   "source": []
  }
 ],
 "metadata": {
  "kernelspec": {
   "display_name": "Python 3 (ipykernel)",
   "language": "python",
   "name": "python3"
  },
  "language_info": {
   "codemirror_mode": {
    "name": "ipython",
    "version": 3
   },
   "file_extension": ".py",
   "mimetype": "text/x-python",
   "name": "python",
   "nbconvert_exporter": "python",
   "pygments_lexer": "ipython3",
   "version": "3.7.12"
  }
 },
 "nbformat": 4,
 "nbformat_minor": 5
}
