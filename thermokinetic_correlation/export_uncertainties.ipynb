{
 "cells": [
  {
   "cell_type": "code",
   "execution_count": 1,
   "id": "80a62117",
   "metadata": {},
   "outputs": [],
   "source": [
    "# A script to export the reactions from an RMG mechanism and the database\n",
    "# produces 3 files:\n",
    "\n",
    "# make a dict entry for index\n",
    "\n",
    "# species_dict_file = 'species_dict.pickle'\n",
    "# reaction_dict_file = 'reaction_dict.pickle'\n",
    "\n",
    "# correlated_uncertainty_file = 'correlated_uncertainty.pickle'\n"
   ]
  },
  {
   "cell_type": "code",
   "execution_count": 2,
   "id": "9530a79e",
   "metadata": {},
   "outputs": [],
   "source": [
    "# example script to show how to unpack information in pickled files\n",
    "import pickle\n",
    "import numpy as np"
   ]
  },
  {
   "cell_type": "code",
   "execution_count": 3,
   "id": "0adadf4a",
   "metadata": {},
   "outputs": [
    {
     "data": {
      "text/plain": [
       "<module 'rmgpy.tools.uncertainty' from '/home/moon/rmg/RMG-Py/rmgpy/tools/uncertainty.py'>"
      ]
     },
     "execution_count": 3,
     "metadata": {},
     "output_type": "execute_result"
    }
   ],
   "source": [
    "import os\n",
    "import copy\n",
    "import itertools\n",
    "import numpy as np\n",
    "import scipy.stats\n",
    "import rmgpy.data.thermo\n",
    "import rmgpy.data.rmg\n",
    "import rmgpy.chemkin\n",
    "import rmgpy.exceptions\n",
    "\n",
    "import rmgpy.tools.uncertainty\n",
    "import matplotlib.pyplot as plt\n",
    "%matplotlib inline\n",
    "\n",
    "\n",
    "import importlib\n",
    "importlib.reload(rmgpy.tools.uncertainty)"
   ]
  },
  {
   "cell_type": "code",
   "execution_count": 4,
   "id": "3d2c686b",
   "metadata": {},
   "outputs": [],
   "source": [
    "# load example \n",
    "\n",
    "gas_chemkin = '/home/moon/uncertainty_estimator/cpox_pt/cpox_pt_20241020/chem_annotated-gas.inp'\n",
    "gas_surface = '/home/moon/uncertainty_estimator/cpox_pt/cpox_pt_20241020/chem_annotated-surface.inp'\n",
    "sp_dict = '/home/moon/uncertainty_estimator/cpox_pt/cpox_pt_20241020/species_dictionary.txt'\n",
    "test_species_list, test_reaction_list = rmgpy.chemkin.load_chemkin_file(gas_chemkin, sp_dict, surface_path=gas_surface)"
   ]
  },
  {
   "cell_type": "code",
   "execution_count": 5,
   "id": "924e8d3f",
   "metadata": {},
   "outputs": [
    {
     "data": {
      "text/plain": [
       "rmgpy.data.kinetics.family.TemplateReaction"
      ]
     },
     "execution_count": 5,
     "metadata": {},
     "output_type": "execute_result"
    }
   ],
   "source": [
    "type(test_reaction_list[-1])"
   ]
  },
  {
   "cell_type": "code",
   "execution_count": 6,
   "id": "e21a17b5",
   "metadata": {},
   "outputs": [],
   "source": [
    "# Load the database\n",
    "database = rmgpy.data.rmg.RMGDatabase()\n",
    "database.load(\n",
    "    path = rmgpy.settings['database.directory'],\n",
    "    thermo_libraries = ['surfaceThermoPt111', 'primaryThermoLibrary'],\n",
    "    reaction_libraries = ['Surface/CPOX_Pt/Deutschmann2006_adjusted'],\n",
    "#     kinetics_families = ['Surface_Abstraction'],\n",
    "    kinetics_families = ['surface'],\n",
    "    kinetics_depositories = ['training'],\n",
    "    depository = True,\n",
    ")"
   ]
  },
  {
   "cell_type": "code",
   "execution_count": 7,
   "id": "32c9e179",
   "metadata": {},
   "outputs": [],
   "source": [
    "def get_i_thing(thing, thing_list):\n",
    "    for i in range(len(thing_list)):\n",
    "        if thing.is_isomorphic(thing_list[i]):\n",
    "            return i\n",
    "    return -1"
   ]
  },
  {
   "cell_type": "markdown",
   "id": "47376da4",
   "metadata": {},
   "source": [
    "## Manually add other reactions"
   ]
  },
  {
   "cell_type": "code",
   "execution_count": 8,
   "id": "536d10b8",
   "metadata": {},
   "outputs": [
    {
     "data": {
      "image/png": "[encoded data removed]",
      "text/plain": [
       "LibraryReaction(index=51, reactants=[Species(index=25, label=\"OX\", thermo=NASA(polynomials=[NASAPolynomial(coeffs=[-0.71249,0.0171469,-3.22699e-05,2.75914e-08,-8.8446e-12,-13797.6,1.59428], Tmin=(100,'K'), Tmax=(873.71,'K')), NASAPolynomial(coeffs=[2.13662,0.00147253,-8.43509e-07,1.66115e-10,-1.11726e-14,-14195.1,-11.1918], Tmin=(873.71,'K'), Tmax=(5000,'K'))], Tmin=(100,'K'), Tmax=(5000,'K'), comment=\"\"\"Thermo library: surfaceThermoPt111 Binding energy corrected by LSR (1.00O) from Pt111\"\"\"), molecule=[Molecule(smiles=\"O=[Pt]\")], molecular_weight=(15.9994,'amu')), Species(index=25, label=\"OX\", thermo=NASA(polynomials=[NASAPolynomial(coeffs=[-0.71249,0.0171469,-3.22699e-05,2.75914e-08,-8.8446e-12,-13797.6,1.59428], Tmin=(100,'K'), Tmax=(873.71,'K')), NASAPolynomial(coeffs=[2.13662,0.00147253,-8.43509e-07,1.66115e-10,-1.11726e-14,-14195.1,-11.1918], Tmin=(873.71,'K'), Tmax=(5000,'K'))], Tmin=(100,'K'), Tmax=(5000,'K'), comment=\"\"\"Thermo library: surfaceThermoPt111 Binding energy corrected by LSR (1.00O) from Pt111\"\"\"), molecule=[Molecule(smiles=\"O=[Pt]\")], molecular_weight=(15.9994,'amu'))], products=[Species(index=1, label=\"X\", thermo=NASA(polynomials=[NASAPolynomial(coeffs=[0.00710137,-4.25617e-05,8.98527e-08,-7.80188e-11,2.32464e-14,-0.8761,-0.031121], Tmin=(100,'K'), Tmax=(1554.8,'K')), NASAPolynomial(coeffs=[0.160301,-0.000252236,1.14182e-07,-1.21473e-11,3.85799e-16,-70.8105,-0.909532], Tmin=(1554.8,'K'), Tmax=(5000,'K'))], Tmin=(100,'K'), Tmax=(5000,'K'), comment=\"\"\"Thermo library: surfaceThermoPt111 Binding energy corrected by LSR () from Pt111\"\"\"), molecule=[Molecule(smiles=\"[Pt]\")], molecular_weight=(0,'amu')), Species(index=1, label=\"X\", thermo=NASA(polynomials=[NASAPolynomial(coeffs=[0.00710137,-4.25617e-05,8.98527e-08,-7.80188e-11,2.32464e-14,-0.8761,-0.031121], Tmin=(100,'K'), Tmax=(1554.8,'K')), NASAPolynomial(coeffs=[0.160301,-0.000252236,1.14182e-07,-1.21473e-11,3.85799e-16,-70.8105,-0.909532], Tmin=(1554.8,'K'), Tmax=(5000,'K'))], Tmin=(100,'K'), Tmax=(5000,'K'), comment=\"\"\"Thermo library: surfaceThermoPt111 Binding energy corrected by LSR () from Pt111\"\"\"), molecule=[Molecule(smiles=\"[Pt]\")], molecular_weight=(0,'amu')), Species(index=3, label=\"O2\", thermo=NASA(polynomials=[NASAPolynomial(coeffs=[3.53732,-0.00121572,5.3162e-06,-4.89446e-09,1.45846e-12,-1038.59,4.68368], Tmin=(100,'K'), Tmax=(1074.55,'K')), NASAPolynomial(coeffs=[3.15382,0.00167804,-7.69974e-07,1.51275e-10,-1.08782e-14,-1040.82,6.16756], Tmin=(1074.55,'K'), Tmax=(5000,'K'))], Tmin=(100,'K'), Tmax=(5000,'K'), comment=\"\"\"Thermo library: primaryThermoLibrary\"\"\"), molecule=[Molecule(smiles=\"[O][O]\")], molecular_weight=(31.9988,'amu'))], kinetics=SurfaceArrhenius(A=(3.7e+21,'cm^2/(mol*s)'), n=0, Ea=(66.611,'kcal/mol'), T0=(1,'K')), pairs=[(Species(index=25, label=\"OX\", thermo=NASA(polynomials=[NASAPolynomial(coeffs=[-0.71249,0.0171469,-3.22699e-05,2.75914e-08,-8.8446e-12,-13797.6,1.59428], Tmin=(100,'K'), Tmax=(873.71,'K')), NASAPolynomial(coeffs=[2.13662,0.00147253,-8.43509e-07,1.66115e-10,-1.11726e-14,-14195.1,-11.1918], Tmin=(873.71,'K'), Tmax=(5000,'K'))], Tmin=(100,'K'), Tmax=(5000,'K'), comment=\"\"\"Thermo library: surfaceThermoPt111 Binding energy corrected by LSR (1.00O) from Pt111\"\"\"), molecule=[Molecule(smiles=\"O=[Pt]\")], molecular_weight=(15.9994,'amu')), Species(index=3, label=\"O2\", thermo=NASA(polynomials=[NASAPolynomial(coeffs=[3.53732,-0.00121572,5.3162e-06,-4.89446e-09,1.45846e-12,-1038.59,4.68368], Tmin=(100,'K'), Tmax=(1074.55,'K')), NASAPolynomial(coeffs=[3.15382,0.00167804,-7.69974e-07,1.51275e-10,-1.08782e-14,-1040.82,6.16756], Tmin=(1074.55,'K'), Tmax=(5000,'K'))], Tmin=(100,'K'), Tmax=(5000,'K'), comment=\"\"\"Thermo library: primaryThermoLibrary\"\"\"), molecule=[Molecule(smiles=\"[O][O]\")], molecular_weight=(31.9988,'amu'))), (Species(index=25, label=\"OX\", thermo=NASA(polynomials=[NASAPolynomial(coeffs=[-0.71249,0.0171469,-3.22699e-05,2.75914e-08,-8.8446e-12,-13797.6,1.59428], Tmin=(100,'K'), Tmax=(873.71,'K')), NASAPolynomial(coeffs=[2.13662,0.00147253,-8.43509e-07,1.66115e-10,-1.11726e-14,-14195.1,-11.1918], Tmin=(873.71,'K'), Tmax=(5000,'K'))], Tmin=(100,'K'), Tmax=(5000,'K'), comment=\"\"\"Thermo library: surfaceThermoPt111 Binding energy corrected by LSR (1.00O) from Pt111\"\"\"), molecule=[Molecule(smiles=\"O=[Pt]\")], molecular_weight=(15.9994,'amu')), Species(index=1, label=\"X\", thermo=NASA(polynomials=[NASAPolynomial(coeffs=[0.00710137,-4.25617e-05,8.98527e-08,-7.80188e-11,2.32464e-14,-0.8761,-0.031121], Tmin=(100,'K'), Tmax=(1554.8,'K')), NASAPolynomial(coeffs=[0.160301,-0.000252236,1.14182e-07,-1.21473e-11,3.85799e-16,-70.8105,-0.909532], Tmin=(1554.8,'K'), Tmax=(5000,'K'))], Tmin=(100,'K'), Tmax=(5000,'K'), comment=\"\"\"Thermo library: surfaceThermoPt111 Binding energy corrected by LSR () from Pt111\"\"\"), molecule=[Molecule(smiles=\"[Pt]\")], molecular_weight=(0,'amu'))), (Species(index=25, label=\"OX\", thermo=NASA(polynomials=[NASAPolynomial(coeffs=[-0.71249,0.0171469,-3.22699e-05,2.75914e-08,-8.8446e-12,-13797.6,1.59428], Tmin=(100,'K'), Tmax=(873.71,'K')), NASAPolynomial(coeffs=[2.13662,0.00147253,-8.43509e-07,1.66115e-10,-1.11726e-14,-14195.1,-11.1918], Tmin=(873.71,'K'), Tmax=(5000,'K'))], Tmin=(100,'K'), Tmax=(5000,'K'), comment=\"\"\"Thermo library: surfaceThermoPt111 Binding energy corrected by LSR (1.00O) from Pt111\"\"\"), molecule=[Molecule(smiles=\"O=[Pt]\")], molecular_weight=(15.9994,'amu')), Species(index=1, label=\"X\", thermo=NASA(polynomials=[NASAPolynomial(coeffs=[0.00710137,-4.25617e-05,8.98527e-08,-7.80188e-11,2.32464e-14,-0.8761,-0.031121], Tmin=(100,'K'), Tmax=(1554.8,'K')), NASAPolynomial(coeffs=[0.160301,-0.000252236,1.14182e-07,-1.21473e-11,3.85799e-16,-70.8105,-0.909532], Tmin=(1554.8,'K'), Tmax=(5000,'K'))], Tmin=(100,'K'), Tmax=(5000,'K'), comment=\"\"\"Thermo library: surfaceThermoPt111 Binding energy corrected by LSR () from Pt111\"\"\"), molecule=[Molecule(smiles=\"[Pt]\")], molecular_weight=(0,'amu')))])"
      ]
     },
     "metadata": {},
     "output_type": "display_data"
    }
   ],
   "source": [
    "display(test_reaction_list[50])\n",
    "\n",
    "manual_additions = [test_reaction_list[50]]\n"
   ]
  },
  {
   "cell_type": "code",
   "execution_count": 9,
   "id": "5feac859",
   "metadata": {},
   "outputs": [
    {
     "data": {
      "text/plain": [
       "NASA(polynomials=[NASAPolynomial(coeffs=[0.00710137,-4.25617e-05,8.98527e-08,-7.80188e-11,2.32464e-14,-0.8761,-0.031121], Tmin=(100,'K'), Tmax=(1554.8,'K')), NASAPolynomial(coeffs=[0.160301,-0.000252236,1.14182e-07,-1.21473e-11,3.85799e-16,-70.8105,-0.909532], Tmin=(1554.8,'K'), Tmax=(5000,'K'))], Tmin=(100,'K'), Tmax=(5000,'K'), comment=\"\"\"Thermo library: surfaceThermoPt111 Binding energy corrected by LSR () from Pt111\"\"\")"
      ]
     },
     "execution_count": 9,
     "metadata": {},
     "output_type": "execute_result"
    }
   ],
   "source": [
    "test_reaction_list[50].products[1].thermo"
   ]
  },
  {
   "cell_type": "code",
   "execution_count": 10,
   "id": "0493b899",
   "metadata": {
    "scrolled": true
   },
   "outputs": [
    {
     "name": "stdout",
     "output_type": "stream",
     "text": [
      "45\n"
     ]
    }
   ],
   "source": [
    "# Collect all of the training reactions\n",
    "\n",
    "reaction_list = []\n",
    "species_list = []  # build this up as you go to make sure all reactions use the same species object\n",
    "for family in database.kinetics.families.keys():\n",
    "    training_depository = database.kinetics.families[family].get_training_depository()\n",
    "    for i, entry in enumerate(training_depository.entries):\n",
    "        my_reaction = rmgpy.data.kinetics.family.TemplateReaction()\n",
    "        my_reaction.reactants = training_depository.entries[entry].item.reactants\n",
    "        my_reaction.products = training_depository.entries[entry].item.products\n",
    "        my_reaction.family = family\n",
    "\n",
    "        try:\n",
    "            template_labels = database.kinetics.families[family].get_reaction_template_labels(my_reaction)\n",
    "            template = database.kinetics.families[family].retrieve_template(template_labels)\n",
    "            kinetics = database.kinetics.families[family].get_kinetics_for_template(template, degeneracy=my_reaction.degeneracy)[0]\n",
    "            my_reaction.kinetics = kinetics\n",
    "        except:\n",
    "            continue\n",
    "        reaction_list.append(my_reaction)\n",
    "    \n",
    "# add the other miscellaneous LIBRARY reactions\n",
    "for i in range(len(manual_additions)):\n",
    "    manual_additions[i].kinetics.comment += 'Library ' + manual_additions[i].family\n",
    "    reaction_list.append(manual_additions[i])\n",
    "print(len(reaction_list))\n"
   ]
  },
  {
   "cell_type": "code",
   "execution_count": 39,
   "id": "be12d86d",
   "metadata": {},
   "outputs": [
    {
     "data": {
      "text/plain": [
       "True"
      ]
     },
     "execution_count": 39,
     "metadata": {},
     "output_type": "execute_result"
    }
   ],
   "source": [
    "'234'.endswith('4')"
   ]
  },
  {
   "cell_type": "code",
   "execution_count": 42,
   "id": "b5121035",
   "metadata": {},
   "outputs": [
    {
     "data": {
      "text/plain": [
       "57"
      ]
     },
     "execution_count": 42,
     "metadata": {},
     "output_type": "execute_result"
    }
   ],
   "source": [
    "ord('9')"
   ]
  },
  {
   "cell_type": "code",
   "execution_count": 49,
   "id": "b8d818cf",
   "metadata": {},
   "outputs": [],
   "source": [
    "def increment_label(old_label):\n",
    "    if len(old_label) >= 2:\n",
    "        if '_' in old_label:\n",
    "            tokens = old_label.split('_')\n",
    "            try:\n",
    "                old_num = int(tokens[-1])\n",
    "                return old_label[:-len(tokens[-1])] + str(old_num + 1)\n",
    "            except ValueError:\n",
    "                pass\n",
    "        elif '-' in old_label:\n",
    "            tokens = old_label.split('-')\n",
    "            try:\n",
    "                old_num = int(tokens[-1])\n",
    "                return old_label[:-len(tokens[-1])] + str(old_num + 1)\n",
    "            except ValueError:\n",
    "                pass\n",
    "            \n",
    "    return old_label + '_2'"
   ]
  },
  {
   "cell_type": "code",
   "execution_count": 51,
   "id": "180a6232",
   "metadata": {},
   "outputs": [
    {
     "data": {
      "text/plain": [
       "'A-10'"
      ]
     },
     "execution_count": 51,
     "metadata": {},
     "output_type": "execute_result"
    }
   ],
   "source": [
    "increment_label('A-9')"
   ]
  },
  {
   "cell_type": "code",
   "execution_count": null,
   "id": "102d2770",
   "metadata": {},
   "outputs": [],
   "source": []
  },
  {
   "cell_type": "code",
   "execution_count": 54,
   "id": "b27ff27a",
   "metadata": {},
   "outputs": [],
   "source": [
    "species_list = []\n",
    "\n",
    "\n",
    "for i in range(len(reaction_list)):\n",
    "     for j in range(len(reaction_list[i].reactants)):\n",
    "        i_thing = get_i_thing(reaction_list[i].reactants[j], species_list)\n",
    "        if i_thing < 0:\n",
    "            reaction_list[i].reactants[j].thermo = database.thermo.get_thermo_data(reaction_list[i].reactants[j])\n",
    "            new_sp = reaction_list[i].reactants[j]\n",
    "            while new_sp.label in [sp.label for sp in species_list]:\n",
    "                new_sp.label = increment_label(new_sp.label)\n",
    "            species_list.append(new_sp)\n",
    "        else:\n",
    "            reaction_list[i].reactants[j] = species_list[i_thing]  # reuse species objects\n",
    "\n",
    "for i in range(len(reaction_list)):\n",
    "    for j in range(len(reaction_list[i].products)):\n",
    "        i_thing = get_i_thing(reaction_list[i].products[j], species_list)\n",
    "        if i_thing < 0:\n",
    "            reaction_list[i].products[j].thermo = database.thermo.get_thermo_data(reaction_list[i].products[j])\n",
    "            new_sp = reaction_list[i].products[j]\n",
    "            while new_sp.label in [sp.label for sp in species_list]:\n",
    "                new_sp.label = increment_label(new_sp.label)\n",
    "            species_list.append(new_sp)\n",
    "        else:\n",
    "            reaction_list[i].products[j] = species_list[i_thing]  # reuse species objects\n",
    "        "
   ]
  },
  {
   "cell_type": "code",
   "execution_count": 55,
   "id": "2e97413c",
   "metadata": {},
   "outputs": [
    {
     "data": {
      "text/plain": [
       "45"
      ]
     },
     "execution_count": 55,
     "metadata": {},
     "output_type": "execute_result"
    }
   ],
   "source": [
    "len(reaction_list)"
   ]
  },
  {
   "cell_type": "code",
   "execution_count": null,
   "id": "601c8165",
   "metadata": {},
   "outputs": [],
   "source": []
  },
  {
   "cell_type": "code",
   "execution_count": 56,
   "id": "84966e56",
   "metadata": {},
   "outputs": [
    {
     "data": {
      "image/png": "[encoded data removed]",
      "text/plain": [
       "LibraryReaction(index=51, reactants=[Species(label=\"OX_1\", thermo=NASA(polynomials=[NASAPolynomial(coeffs=[-0.294476,0.0144163,-2.61323e-05,2.19006e-08,-6.98019e-12,-16461.9,-0.199446], Tmin=(298,'K'), Tmax=(1000,'K')), NASAPolynomial(coeffs=[2.90245,-0.000338584,6.43373e-07,-3.66327e-10,6.90094e-14,-17049.7,-15.256], Tmin=(1000,'K'), Tmax=(2000,'K'))], Tmin=(298,'K'), Tmax=(2000,'K'), Cp0=(0.01,'J/(mol*K)'), CpInf=(49.8868,'J/(mol*K)'), label=\"\"\"XO\"\"\", comment=\"\"\"Thermo library: surfaceThermoPt111\"\"\"), molecule=[Molecule(smiles=\"O=[Pt]\")], molecular_weight=(15.9994,'amu')), Species(label=\"OX_1\", thermo=NASA(polynomials=[NASAPolynomial(coeffs=[-0.294476,0.0144163,-2.61323e-05,2.19006e-08,-6.98019e-12,-16461.9,-0.199446], Tmin=(298,'K'), Tmax=(1000,'K')), NASAPolynomial(coeffs=[2.90245,-0.000338584,6.43373e-07,-3.66327e-10,6.90094e-14,-17049.7,-15.256], Tmin=(1000,'K'), Tmax=(2000,'K'))], Tmin=(298,'K'), Tmax=(2000,'K'), Cp0=(0.01,'J/(mol*K)'), CpInf=(49.8868,'J/(mol*K)'), label=\"\"\"XO\"\"\", comment=\"\"\"Thermo library: surfaceThermoPt111\"\"\"), molecule=[Molecule(smiles=\"O=[Pt]\")], molecular_weight=(15.9994,'amu'))], products=[Species(label=\"X_3\", thermo=NASA(polynomials=[NASAPolynomial(coeffs=[0,0,0,0,0,0,0], Tmin=(298,'K'), Tmax=(1000,'K')), NASAPolynomial(coeffs=[0,0,0,0,0,0,0], Tmin=(1000,'K'), Tmax=(3000,'K'))], Tmin=(298,'K'), Tmax=(3000,'K'), Cp0=(0.01,'J/(mol*K)'), CpInf=(24.9434,'J/(mol*K)'), label=\"\"\"vacant\"\"\", comment=\"\"\"Thermo library: surfaceThermoPt111\"\"\"), molecule=[Molecule(smiles=\"[Pt]\")], molecular_weight=(0,'amu')), Species(label=\"X_3\", thermo=NASA(polynomials=[NASAPolynomial(coeffs=[0,0,0,0,0,0,0], Tmin=(298,'K'), Tmax=(1000,'K')), NASAPolynomial(coeffs=[0,0,0,0,0,0,0], Tmin=(1000,'K'), Tmax=(3000,'K'))], Tmin=(298,'K'), Tmax=(3000,'K'), Cp0=(0.01,'J/(mol*K)'), CpInf=(24.9434,'J/(mol*K)'), label=\"\"\"vacant\"\"\", comment=\"\"\"Thermo library: surfaceThermoPt111\"\"\"), molecule=[Molecule(smiles=\"[Pt]\")], molecular_weight=(0,'amu')), Species(index=3, label=\"O2\", thermo=ThermoData(Tdata=([300,400,500,600,800,1000,1500],'K'), Cpdata=([7.0233,7.1986,7.4285,7.6673,8.0656,8.3363,8.7407],'cal/(mol*K)'), H298=(-0.0010244,'kcal/mol'), S298=(49.0236,'cal/(mol*K)'), Cp0=(29.1007,'J/(mol*K)'), CpInf=(37.4151,'J/(mol*K)'), label=\"\"\"O2\"\"\", comment=\"\"\"Thermo library: primaryThermoLibrary\"\"\"), molecule=[Molecule(smiles=\"[O][O]\")], molecular_weight=(31.9988,'amu'))], kinetics=SurfaceArrhenius(A=(3.7e+21,'cm^2/(mol*s)'), n=0, Ea=(66.611,'kcal/mol'), T0=(1,'K'), comment=\"\"\"Library Surface/CPOX_Pt/Deutschmann2006_adjusted\"\"\"), pairs=[(Species(index=25, label=\"OX\", thermo=NASA(polynomials=[NASAPolynomial(coeffs=[-0.71249,0.0171469,-3.22699e-05,2.75914e-08,-8.8446e-12,-13797.6,1.59428], Tmin=(100,'K'), Tmax=(873.71,'K')), NASAPolynomial(coeffs=[2.13662,0.00147253,-8.43509e-07,1.66115e-10,-1.11726e-14,-14195.1,-11.1918], Tmin=(873.71,'K'), Tmax=(5000,'K'))], Tmin=(100,'K'), Tmax=(5000,'K'), comment=\"\"\"Thermo library: surfaceThermoPt111 Binding energy corrected by LSR (1.00O) from Pt111\"\"\"), molecule=[Molecule(smiles=\"O=[Pt]\")], molecular_weight=(15.9994,'amu')), Species(index=3, label=\"O2\", thermo=ThermoData(Tdata=([300,400,500,600,800,1000,1500],'K'), Cpdata=([7.0233,7.1986,7.4285,7.6673,8.0656,8.3363,8.7407],'cal/(mol*K)'), H298=(-0.0010244,'kcal/mol'), S298=(49.0236,'cal/(mol*K)'), Cp0=(29.1007,'J/(mol*K)'), CpInf=(37.4151,'J/(mol*K)'), label=\"\"\"O2\"\"\", comment=\"\"\"Thermo library: primaryThermoLibrary\"\"\"), molecule=[Molecule(smiles=\"[O][O]\")], molecular_weight=(31.9988,'amu'))), (Species(index=25, label=\"OX\", thermo=NASA(polynomials=[NASAPolynomial(coeffs=[-0.71249,0.0171469,-3.22699e-05,2.75914e-08,-8.8446e-12,-13797.6,1.59428], Tmin=(100,'K'), Tmax=(873.71,'K')), NASAPolynomial(coeffs=[2.13662,0.00147253,-8.43509e-07,1.66115e-10,-1.11726e-14,-14195.1,-11.1918], Tmin=(873.71,'K'), Tmax=(5000,'K'))], Tmin=(100,'K'), Tmax=(5000,'K'), comment=\"\"\"Thermo library: surfaceThermoPt111 Binding energy corrected by LSR (1.00O) from Pt111\"\"\"), molecule=[Molecule(smiles=\"O=[Pt]\")], molecular_weight=(15.9994,'amu')), Species(index=1, label=\"X\", thermo=NASA(polynomials=[NASAPolynomial(coeffs=[0.00710137,-4.25617e-05,8.98527e-08,-7.80188e-11,2.32464e-14,-0.8761,-0.031121], Tmin=(100,'K'), Tmax=(1554.8,'K')), NASAPolynomial(coeffs=[0.160301,-0.000252236,1.14182e-07,-1.21473e-11,3.85799e-16,-70.8105,-0.909532], Tmin=(1554.8,'K'), Tmax=(5000,'K'))], Tmin=(100,'K'), Tmax=(5000,'K'), comment=\"\"\"Thermo library: surfaceThermoPt111 Binding energy corrected by LSR () from Pt111\"\"\"), molecule=[Molecule(smiles=\"[Pt]\")], molecular_weight=(0,'amu'))), (Species(index=25, label=\"OX\", thermo=NASA(polynomials=[NASAPolynomial(coeffs=[-0.71249,0.0171469,-3.22699e-05,2.75914e-08,-8.8446e-12,-13797.6,1.59428], Tmin=(100,'K'), Tmax=(873.71,'K')), NASAPolynomial(coeffs=[2.13662,0.00147253,-8.43509e-07,1.66115e-10,-1.11726e-14,-14195.1,-11.1918], Tmin=(873.71,'K'), Tmax=(5000,'K'))], Tmin=(100,'K'), Tmax=(5000,'K'), comment=\"\"\"Thermo library: surfaceThermoPt111 Binding energy corrected by LSR (1.00O) from Pt111\"\"\"), molecule=[Molecule(smiles=\"O=[Pt]\")], molecular_weight=(15.9994,'amu')), Species(index=1, label=\"X\", thermo=NASA(polynomials=[NASAPolynomial(coeffs=[0.00710137,-4.25617e-05,8.98527e-08,-7.80188e-11,2.32464e-14,-0.8761,-0.031121], Tmin=(100,'K'), Tmax=(1554.8,'K')), NASAPolynomial(coeffs=[0.160301,-0.000252236,1.14182e-07,-1.21473e-11,3.85799e-16,-70.8105,-0.909532], Tmin=(1554.8,'K'), Tmax=(5000,'K'))], Tmin=(100,'K'), Tmax=(5000,'K'), comment=\"\"\"Thermo library: surfaceThermoPt111 Binding energy corrected by LSR () from Pt111\"\"\"), molecule=[Molecule(smiles=\"[Pt]\")], molecular_weight=(0,'amu')))])"
      ]
     },
     "execution_count": 56,
     "metadata": {},
     "output_type": "execute_result"
    }
   ],
   "source": [
    "reaction_list[-1]"
   ]
  },
  {
   "cell_type": "code",
   "execution_count": 57,
   "id": "2282a338",
   "metadata": {},
   "outputs": [
    {
     "data": {
      "text/plain": [
       "49"
      ]
     },
     "execution_count": 57,
     "metadata": {},
     "output_type": "execute_result"
    }
   ],
   "source": [
    "len(species_list)"
   ]
  },
  {
   "cell_type": "code",
   "execution_count": 58,
   "id": "ce348142",
   "metadata": {},
   "outputs": [
    {
     "data": {
      "text/plain": [
       "49"
      ]
     },
     "execution_count": 58,
     "metadata": {},
     "output_type": "execute_result"
    }
   ],
   "source": [
    "len(species_list)"
   ]
  },
  {
   "cell_type": "code",
   "execution_count": 59,
   "id": "049cc1c1",
   "metadata": {},
   "outputs": [],
   "source": [
    "for i in range(len(species_list)):\n",
    "    for j in range(i):\n",
    "        if species_list[i].is_isomorphic(species_list[j]):\n",
    "            print(i, j)\n",
    "        if species_list[i].label == species_list[j].label:\n",
    "            print(i, j)"
   ]
  },
  {
   "cell_type": "code",
   "execution_count": 60,
   "id": "2cd61c19",
   "metadata": {},
   "outputs": [
    {
     "data": {
      "image/png": "[encoded data removed]",
      "text/plain": [
       "Species(label=\"HCCH_2X_2\", thermo=ThermoData(Tdata=([300,400,500,600,800,1000,1500],'K'), Cpdata=([42.383,51.9443,58.9683,64.1682,71.719,77.3893,87.1668],'J/(mol*K)'), H298=(-2.22976,'kJ/mol'), S298=(6.63645,'J/(mol*K)'), Cp0=(29.1007,'J/(mol*K)'), CpInf=(87.302,'J/(mol*K)'), comment=\"\"\"Gas phase thermo for C#C from Thermo group additivity estimation: group(Ct-CtH) + group(Ct-CtH). Adsorption correction: + Thermo group additivity estimation: adsorptionPt111(C-*RC-*R)\"\"\"), molecule=[Molecule(smiles=\"[Pt]C=C[Pt]\")], molecular_weight=(26.0372,'amu'))"
      ]
     },
     "execution_count": 60,
     "metadata": {},
     "output_type": "execute_result"
    }
   ],
   "source": [
    "species_list[39]"
   ]
  },
  {
   "cell_type": "code",
   "execution_count": 61,
   "id": "63119c54",
   "metadata": {},
   "outputs": [
    {
     "data": {
      "image/png": "[encoded data removed]",
      "text/plain": [
       "Species(label=\"HCCH_2X\", thermo=NASA(polynomials=[NASAPolynomial(coeffs=[-3.12099,0.0394849,-5.46714e-05,3.873e-08,-1.08911e-11,451.944,11.1984], Tmin=(298,'K'), Tmax=(1000,'K')), NASAPolynomial(coeffs=[9.50735,-0.00629448,1.126e-05,-6.02346e-09,1.08201e-12,-2470.09,-51.2968], Tmin=(1000,'K'), Tmax=(2000,'K'))], Tmin=(298,'K'), Tmax=(2000,'K'), Cp0=(0.01,'J/(mol*K)'), CpInf=(149.66,'J/(mol*K)'), label=\"\"\"XCHXCH\"\"\", comment=\"\"\"Thermo library: surfaceThermoPt111\"\"\"), molecule=[Molecule(smiles=\"[Pt]=CC=[Pt]\")], molecular_weight=(26.0372,'amu'))"
      ]
     },
     "execution_count": 61,
     "metadata": {},
     "output_type": "execute_result"
    }
   ],
   "source": [
    "species_list[19]"
   ]
  },
  {
   "cell_type": "code",
   "execution_count": 62,
   "id": "13d5f320",
   "metadata": {},
   "outputs": [],
   "source": [
    "# for i in range(len(reaction_list)):\n",
    "#     print(reaction_list[i].is_surface_reaction(), reaction_list[i])"
   ]
  },
  {
   "cell_type": "code",
   "execution_count": null,
   "id": "a26bc8a8",
   "metadata": {},
   "outputs": [],
   "source": []
  },
  {
   "cell_type": "code",
   "execution_count": 63,
   "id": "8dc62627",
   "metadata": {},
   "outputs": [],
   "source": [
    "# Trim the set to just surface reactions and the species reacting in them\n",
    "# Per Joy's request, make sure to only include species involved in reactions\n",
    "surface_only = True\n",
    "\n",
    "reacting_species_set = set()\n",
    "for i in range(len(reaction_list)):\n",
    "    if surface_only and not reaction_list[i].is_surface_reaction():\n",
    "        continue\n",
    "    for sp in reaction_list[i].reactants + reaction_list[i].products:\n",
    "        reacting_species_set.add(species_list.index(sp))\n",
    "include_species_list = [species_list[i] for i in reacting_species_set]\n",
    "\n",
    "\n",
    "\n",
    "include_reactions_set = set()\n",
    "for i in range(len(reaction_list)):\n",
    "    if surface_only and not reaction_list[i].is_surface_reaction():\n",
    "        continue\n",
    "    include_reactions_set.add(i)\n",
    "include_reactions_list = [reaction_list[i] for i in include_reactions_set]\n",
    "\n"
   ]
  },
  {
   "cell_type": "code",
   "execution_count": 64,
   "id": "07fc97eb",
   "metadata": {},
   "outputs": [
    {
     "data": {
      "text/plain": [
       "['CH2X_1',\n",
       " 'HOX_3',\n",
       " 'CHX_1',\n",
       " 'CX_1',\n",
       " 'OX_1',\n",
       " 'HCOX_3',\n",
       " 'H2O*',\n",
       " 'CH4*',\n",
       " 'HCCH',\n",
       " 'X_3',\n",
       " 'H2CCH2',\n",
       " 'H2CO',\n",
       " 'H2',\n",
       " 'NO',\n",
       " 'H2O',\n",
       " 'CO2',\n",
       " 'CH4',\n",
       " 'CC_2X',\n",
       " 'CCH_2X',\n",
       " 'HCCH_2X',\n",
       " 'HCCH2_2X',\n",
       " 'HOCXO_1',\n",
       " 'NH2_X',\n",
       " 'NHX_2',\n",
       " 'HCOO*',\n",
       " 'CH3O2*',\n",
       " 'H2CCH2_2X',\n",
       " 'H2CO_2X',\n",
       " 'HCOOH*',\n",
       " 'H2CCH3_X',\n",
       " 'HCCH3_X',\n",
       " 'NH3_X',\n",
       " 'XCCH2',\n",
       " 'XCHCH2',\n",
       " 'HCCHX_vdW',\n",
       " 'H2CCH2X_vdW',\n",
       " 'H2COX_vdW',\n",
       " 'CH3X_4',\n",
       " 'COX_5',\n",
       " 'HCCH_2X_2',\n",
       " 'HX_3',\n",
       " 'NO_X',\n",
       " 'CO2X',\n",
       " 'NX',\n",
       " 'CH2OH*_2',\n",
       " 'HCO_2X',\n",
       " 'XCXCH2_3',\n",
       " 'HCOH*',\n",
       " 'O2']"
      ]
     },
     "execution_count": 64,
     "metadata": {},
     "output_type": "execute_result"
    }
   ],
   "source": [
    "[sp.label for sp in include_species_list]"
   ]
  },
  {
   "cell_type": "code",
   "execution_count": null,
   "id": "9038cc4c",
   "metadata": {},
   "outputs": [],
   "source": []
  },
  {
   "cell_type": "code",
   "execution_count": 65,
   "id": "c44b2378",
   "metadata": {
    "scrolled": false
   },
   "outputs": [
    {
     "data": {
      "text/plain": [
       "49"
      ]
     },
     "execution_count": 65,
     "metadata": {},
     "output_type": "execute_result"
    }
   ],
   "source": [
    "len(include_species_list)"
   ]
  },
  {
   "cell_type": "code",
   "execution_count": 66,
   "id": "bd3977aa",
   "metadata": {},
   "outputs": [
    {
     "name": "stdout",
     "output_type": "stream",
     "text": [
      "CH2X_1 + HOX_3 <=> CH3X_4 + OX_1\n",
      "CHX_1 + HOX_3 <=> CH2X_1 + OX_1\n",
      "CX_1 + HOX_3 <=> CHX_1 + OX_1\n",
      "OX_1 + HCOX_3 <=> HOX_3 + COX_5\n",
      "H2O* + OX_1 <=> HOX_3 + HOX_3\n",
      "CH4* + OX_1 <=> CH3X_4 + HOX_3\n",
      "HCCH + X_3 + X_3 <=> HCCH_2X_2\n",
      "H2CCH2 + X_3 + X_3 <=> H2CCH2_2X\n",
      "H2CO + X_3 + X_3 <=> H2CO_2X\n",
      "H2 + X_3 + X_3 <=> HX_3 + HX_3\n",
      "H2 + X_3 + X_3 <=> HX_3 + HX_3\n",
      "NO + X_3 <=> NO_X\n",
      "H2O + X_3 <=> H2O*\n",
      "CO2 + X_3 <=> CO2X\n",
      "CH4 + X_3 <=> CH4*\n",
      "CC_2X <=> CX_1 + CX_1\n",
      "CCH_2X <=> CX_1 + CHX_1\n",
      "HCCH_2X <=> CHX_1 + CHX_1\n",
      "HCCH2_2X <=> CHX_1 + CH2X_1\n",
      "HOCXO_1 + X_3 <=> COX_5 + HOX_3\n",
      "NH2_X + X_3 <=> NHX_2 + HX_3\n",
      "NHX_2 + X_3 <=> NX + HX_3\n",
      "HCOO* + X_3 <=> HCOX_3 + OX_1\n",
      "HOX_3 + X_3 <=> OX_1 + HX_3\n",
      "HOX_3 + X_3 <=> OX_1 + HX_3\n",
      "CH3O2* + X_3 <=> CH2OH*_2 + OX_1\n",
      "HCOX_3 + X_3 <=> COX_5 + HX_3\n",
      "HCCH2_2X + X_3 <=> HCCH_2X + HX_3\n",
      "H2CCH2_2X + X_3 <=> HCCH2_2X + HX_3\n",
      "H2CO_2X + X_3 <=> HCO_2X + HX_3\n",
      "HCCH2_2X + X_3 <=> XCXCH2_3 + HX_3\n",
      "HCOOH* + X_3 <=> HCOH* + OX_1\n",
      "H2CCH3_X + X_3 + X_3 <=> H2CCH2_2X + HX_3\n",
      "HCCH3_X + X_3 + X_3 <=> HCCH2_2X + HX_3\n",
      "NH3_X + X_3 <=> NH2_X + HX_3\n",
      "CH4* + X_3 <=> CH3X_4 + HX_3\n",
      "H2O* + X_3 <=> HOX_3 + HX_3\n",
      "HCOOH* + X_3 <=> HCOX_3 + HOX_3\n",
      "XCCH2 + X_3 <=> XCXCH2_3\n",
      "XCHCH2 + X_3 <=> HCCH2_2X\n",
      "HCOX_3 + X_3 <=> HCO_2X\n",
      "HCCHX_vdW + X_3 <=> HCCH_2X_2\n",
      "H2CCH2X_vdW + X_3 <=> H2CCH2_2X\n",
      "H2COX_vdW + X_3 <=> H2CO_2X\n",
      "OX_1 + OX_1 <=> X_3 + X_3 + O2(3)\n"
     ]
    }
   ],
   "source": [
    "for i in include_reactions_list:\n",
    "    print(i)"
   ]
  },
  {
   "cell_type": "code",
   "execution_count": 67,
   "id": "87810d98",
   "metadata": {},
   "outputs": [
    {
     "data": {
      "image/png": "[encoded data removed]",
      "text/plain": [
       "Species(label=\"HCOH*\", thermo=NASA(polynomials=[NASAPolynomial(coeffs=[-0.500706,0.0203875,-1.83412e-05,8.05213e-09,-1.17602e-12,-26304,7.42264], Tmin=(298,'K'), Tmax=(1000,'K')), NASAPolynomial(coeffs=[8.40355,-0.00656451,1.17184e-05,-6.25847e-09,1.12275e-12,-28634.2,-37.9681], Tmin=(1000,'K'), Tmax=(2000,'K'))], Tmin=(298,'K'), Tmax=(2000,'K'), Cp0=(0.01,'J/(mol*K)'), CpInf=(124.717,'J/(mol*K)'), label=\"\"\"XCHOH\"\"\", comment=\"\"\"Thermo library: surfaceThermoPt111\"\"\"), molecule=[Molecule(smiles=\"OC=[Pt]\")], molecular_weight=(30.026,'amu'))"
      ]
     },
     "execution_count": 67,
     "metadata": {},
     "output_type": "execute_result"
    }
   ],
   "source": [
    "include_species_list[-2]"
   ]
  },
  {
   "cell_type": "code",
   "execution_count": 68,
   "id": "8d6fa005",
   "metadata": {},
   "outputs": [
    {
     "data": {
      "text/plain": [
       "49"
      ]
     },
     "execution_count": 68,
     "metadata": {},
     "output_type": "execute_result"
    }
   ],
   "source": [
    "len(include_species_list)"
   ]
  },
  {
   "cell_type": "markdown",
   "id": "befc14c9",
   "metadata": {},
   "source": [
    "# Fill out the species dictionary"
   ]
  },
  {
   "cell_type": "code",
   "execution_count": 69,
   "id": "cb434a33",
   "metadata": {},
   "outputs": [
    {
     "name": "stdout",
     "output_type": "stream",
     "text": [
      "0 CH2X_1\n",
      "1 HOX_3\n",
      "2 CHX_1\n",
      "3 CX_1\n",
      "4 OX_1\n",
      "5 HCOX_3\n",
      "6 H2O*\n",
      "7 CH4*\n",
      "8 HCCH\n",
      "9 X_3\n",
      "10 H2CCH2\n",
      "11 H2CO\n",
      "12 H2\n",
      "13 NO\n",
      "14 H2O\n",
      "15 CO2\n",
      "16 CH4\n",
      "17 CC_2X\n",
      "18 CCH_2X\n",
      "19 HCCH_2X\n",
      "20 HCCH2_2X\n",
      "21 HOCXO_1\n",
      "22 NH2_X\n",
      "23 NHX_2\n",
      "24 HCOO*\n",
      "25 CH3O2*\n",
      "26 H2CCH2_2X\n",
      "27 H2CO_2X\n",
      "28 HCOOH*\n",
      "29 H2CCH3_X\n",
      "30 HCCH3_X\n",
      "31 NH3_X\n",
      "32 XCCH2\n",
      "33 XCHCH2\n",
      "34 HCCHX_vdW\n",
      "35 H2CCH2X_vdW\n",
      "36 H2COX_vdW\n",
      "37 CH3X_4\n",
      "38 COX_5\n",
      "39 HCCH_2X_2\n",
      "40 HX_3\n",
      "41 NO_X\n",
      "42 CO2X\n",
      "43 NX\n",
      "44 CH2OH*_2\n",
      "45 HCO_2X\n",
      "46 XCXCH2_3\n",
      "47 HCOH*\n",
      "48 O2(3)\n"
     ]
    }
   ],
   "source": [
    "species_dict = {}\n",
    "for i in range(len(include_species_list)):\n",
    "    print(i, include_species_list[i])\n",
    "    species_label = include_species_list[i].to_chemkin()\n",
    "    \n",
    "    if type(include_species_list[i].thermo) == rmgpy.thermo.thermodata.ThermoData:\n",
    "        include_species_list[i].thermo = include_species_list[i].thermo.to_nasa(\n",
    "            np.min(include_species_list[i].thermo.Tdata.value_si),\n",
    "            np.max(include_species_list[i].thermo.Tdata.value_si),\n",
    "            np.mean(include_species_list[i].thermo.Tdata.value_si)\n",
    "        )\n",
    "    \n",
    "    species_entry = {\n",
    "        'index': i,\n",
    "        'RMG_adjacency_list': include_species_list[i].to_adjacency_list(),\n",
    "        'NASA0': {\n",
    "            'coeffs': include_species_list[i].thermo.polynomials[0].coeffs,\n",
    "            'Tmin': include_species_list[i].thermo.polynomials[0].Tmin.value_si,\n",
    "            'Tmax': include_species_list[i].thermo.polynomials[0].Tmax.value_si\n",
    "        },\n",
    "        'NASA1': {\n",
    "            'coeffs': include_species_list[i].thermo.polynomials[1].coeffs,\n",
    "            'Tmin': include_species_list[i].thermo.polynomials[1].Tmin.value_si,\n",
    "            'Tmax': include_species_list[i].thermo.polynomials[1].Tmax.value_si\n",
    "        },\n",
    "        'comment': include_species_list[i].thermo.comment\n",
    "    }\n",
    "    \n",
    "    species_dict[species_label] = species_entry\n",
    "\n"
   ]
  },
  {
   "cell_type": "code",
   "execution_count": 70,
   "id": "83d315ee",
   "metadata": {},
   "outputs": [
    {
     "data": {
      "text/plain": [
       "49"
      ]
     },
     "execution_count": 70,
     "metadata": {},
     "output_type": "execute_result"
    }
   ],
   "source": [
    "len(species_dict)"
   ]
  },
  {
   "cell_type": "code",
   "execution_count": null,
   "id": "1cd4bba0",
   "metadata": {},
   "outputs": [],
   "source": []
  },
  {
   "cell_type": "code",
   "execution_count": 71,
   "id": "6d40da16",
   "metadata": {},
   "outputs": [],
   "source": [
    "species_dict_file = 'species_dict.pickle'\n",
    "with open(species_dict_file, 'wb') as f:\n",
    "    pickle.dump(species_dict, f)"
   ]
  },
  {
   "cell_type": "code",
   "execution_count": 72,
   "id": "1956cac0",
   "metadata": {},
   "outputs": [],
   "source": [
    "# read back in to check\n",
    "with open(species_dict_file, 'rb') as f:\n",
    "    my_data = pickle.load(f)\n"
   ]
  },
  {
   "cell_type": "code",
   "execution_count": 73,
   "id": "7a106ac6",
   "metadata": {},
   "outputs": [
    {
     "data": {
      "text/plain": [
       "49"
      ]
     },
     "execution_count": 73,
     "metadata": {},
     "output_type": "execute_result"
    }
   ],
   "source": [
    "len(my_data)"
   ]
  },
  {
   "cell_type": "markdown",
   "id": "af9b99bd",
   "metadata": {},
   "source": [
    "# Fill out the reaction dictionary"
   ]
  },
  {
   "cell_type": "code",
   "execution_count": 74,
   "id": "faf25083",
   "metadata": {},
   "outputs": [],
   "source": [
    "reaction_dict = {}\n",
    "N = len(species_dict)\n",
    "for i in range(len(include_reactions_list)):\n",
    "    reaction_label = str(include_reactions_list[i])\n",
    "    \n",
    "    \n",
    "    if type(include_reactions_list[i].kinetics) in [rmgpy.kinetics.surface.SurfaceArrheniusBEP, rmgpy.kinetics.surface.StickingCoefficientBEP]:\n",
    "        kinetic_entry = {\n",
    "            'A': include_reactions_list[i].kinetics.A.value,\n",
    "            'n': include_reactions_list[i].kinetics.n.value,\n",
    "            'alpha': include_reactions_list[i].kinetics.alpha.value,\n",
    "            'E0': include_reactions_list[i].kinetics.E0.value,\n",
    "            'A_units': include_reactions_list[i].kinetics.A.units,\n",
    "            'E0_units': include_reactions_list[i].kinetics.E0.units\n",
    "        }\n",
    "    elif type(include_reactions_list[i].kinetics) in [rmgpy.kinetics.surface.SurfaceArrhenius, rmgpy.kinetics.surface.StickingCoefficient]:\n",
    "        kinetic_entry = {\n",
    "            'A': include_reactions_list[i].kinetics.A.value,\n",
    "            'n': include_reactions_list[i].kinetics.n.value,\n",
    "            'Ea': include_reactions_list[i].kinetics.Ea.value,\n",
    "            'A_units': include_reactions_list[i].kinetics.A.units,\n",
    "            'Ea_units': include_reactions_list[i].kinetics.Ea.units\n",
    "        }\n",
    "    \n",
    "    reaction_entry = {\n",
    "        'index': N + i,\n",
    "        'parameterization': str(type(include_reactions_list[i].kinetics)),\n",
    "        'kinetics': kinetic_entry,\n",
    "        'comment': include_reactions_list[i].kinetics.comment,\n",
    "        'reactants': [str(include_reactions_list[i].reactants[j].to_chemkin()) for j in range(len(include_reactions_list[i].reactants))],\n",
    "        'products': [str(include_reactions_list[i].products[j].to_chemkin()) for j in range(len(include_reactions_list[i].products))],\n",
    "    }\n",
    "    \n",
    "    reaction_dict[reaction_label] = reaction_entry\n"
   ]
  },
  {
   "cell_type": "code",
   "execution_count": 75,
   "id": "67e9d7e4",
   "metadata": {},
   "outputs": [],
   "source": [
    "reaction_dict_file = 'reaction_dict.pickle'\n",
    "with open(reaction_dict_file, 'wb') as f:\n",
    "    pickle.dump(reaction_dict, f)"
   ]
  },
  {
   "cell_type": "code",
   "execution_count": 76,
   "id": "ee145f1b",
   "metadata": {},
   "outputs": [],
   "source": [
    "# read back in to check\n",
    "with open(reaction_dict_file, 'rb') as f:\n",
    "    my_data = pickle.load(f)\n"
   ]
  },
  {
   "cell_type": "code",
   "execution_count": 77,
   "id": "05a35785",
   "metadata": {},
   "outputs": [
    {
     "data": {
      "text/plain": [
       "{'index': 93,\n",
       " 'parameterization': \"<class 'rmgpy.kinetics.surface.SurfaceArrhenius'>\",\n",
       " 'kinetics': {'A': 3.7e+21,\n",
       "  'n': 0.0,\n",
       "  'Ea': 66.611,\n",
       "  'A_units': 'cm^2/(mol*s)',\n",
       "  'Ea_units': 'kcal/mol'},\n",
       " 'comment': 'Library Surface/CPOX_Pt/Deutschmann2006_adjusted',\n",
       " 'reactants': ['OX_1', 'OX_1'],\n",
       " 'products': ['X_3', 'X_3', 'O2(3)']}"
      ]
     },
     "execution_count": 77,
     "metadata": {},
     "output_type": "execute_result"
    }
   ],
   "source": [
    "my_data['OX_1 + OX_1 <=> X_3 + X_3 + O2(3)']"
   ]
  },
  {
   "cell_type": "code",
   "execution_count": null,
   "id": "44b27163",
   "metadata": {},
   "outputs": [],
   "source": []
  },
  {
   "cell_type": "code",
   "execution_count": 78,
   "id": "fa710e1f",
   "metadata": {},
   "outputs": [],
   "source": [
    "rmgpy.chemkin.save_species_dictionary('species_dictionary.txt', species_list)"
   ]
  },
  {
   "cell_type": "code",
   "execution_count": 79,
   "id": "52e91c47",
   "metadata": {},
   "outputs": [
    {
     "name": "stderr",
     "output_type": "stream",
     "text": [
      "WARNING:root:Marked reaction H2 + X_3 + X_3 <=> HX_3 + HX_3 as duplicate of H2 + X_3 + X_3 <=> HX_3 + HX_3 for saving to Chemkin file.\n",
      "WARNING:root:Marked reaction HOX_3 + X_3 <=> OX_1 + HX_3 as duplicate of HOX_3 + X_3 <=> OX_1 + HX_3 for saving to Chemkin file.\n"
     ]
    }
   ],
   "source": [
    "rmgpy.chemkin.save_chemkin_file('my_reactions.inp', species_list, reaction_list)"
   ]
  },
  {
   "cell_type": "code",
   "execution_count": null,
   "id": "17669b49",
   "metadata": {},
   "outputs": [],
   "source": []
  },
  {
   "cell_type": "code",
   "execution_count": null,
   "id": "d24052d7",
   "metadata": {},
   "outputs": [],
   "source": []
  },
  {
   "cell_type": "markdown",
   "id": "0d7c3bfa",
   "metadata": {},
   "source": [
    "# Run uncertainty Analysis"
   ]
  },
  {
   "cell_type": "code",
   "execution_count": 80,
   "id": "481b2814",
   "metadata": {},
   "outputs": [],
   "source": [
    "uncertainty = rmgpy.tools.uncertainty.Uncertainty(species_list=species_list, reaction_list=reaction_list)"
   ]
  },
  {
   "cell_type": "code",
   "execution_count": 81,
   "id": "e22a5ae0",
   "metadata": {},
   "outputs": [],
   "source": [
    "# uncertainty = rmgpy.tools.uncertainty.Uncertainty()\n",
    "# uncertainty.load_model('my_reactions.inp', 'species_dictionary.txt', transport_path=None, surface_path=None)"
   ]
  },
  {
   "cell_type": "code",
   "execution_count": null,
   "id": "2211987b",
   "metadata": {},
   "outputs": [],
   "source": []
  },
  {
   "cell_type": "code",
   "execution_count": 82,
   "id": "64e0eada",
   "metadata": {},
   "outputs": [
    {
     "data": {
      "text/plain": [
       "49"
      ]
     },
     "execution_count": 82,
     "metadata": {},
     "output_type": "execute_result"
    }
   ],
   "source": [
    "len(uncertainty.species_list)"
   ]
  },
  {
   "cell_type": "code",
   "execution_count": 83,
   "id": "fb4f735f",
   "metadata": {},
   "outputs": [
    {
     "data": {
      "text/plain": [
       "45"
      ]
     },
     "execution_count": 83,
     "metadata": {},
     "output_type": "execute_result"
    }
   ],
   "source": [
    "len(uncertainty.reaction_list)"
   ]
  },
  {
   "cell_type": "code",
   "execution_count": 84,
   "id": "33851c8f",
   "metadata": {},
   "outputs": [],
   "source": [
    "uncertainty.database = database"
   ]
  },
  {
   "cell_type": "code",
   "execution_count": 85,
   "id": "ba207404",
   "metadata": {},
   "outputs": [],
   "source": [
    "uncertainty.extract_sources_from_model()"
   ]
  },
  {
   "cell_type": "code",
   "execution_count": 86,
   "id": "a9386534",
   "metadata": {},
   "outputs": [],
   "source": [
    "uncertainty.assign_parameter_uncertainties(correlated=True)"
   ]
  },
  {
   "cell_type": "code",
   "execution_count": 87,
   "id": "bc93de3b",
   "metadata": {},
   "outputs": [
    {
     "data": {
      "text/plain": [
       "array([[47.858724,  0.      ,  0.      , ...,  0.      ,  0.      ,\n",
       "         0.      ],\n",
       "       [ 0.      , 47.858724,  0.      , ...,  0.      ,  0.      ,\n",
       "         0.      ],\n",
       "       [ 0.      ,  0.      , 47.858724, ...,  0.      ,  0.      ,\n",
       "         0.      ],\n",
       "       ...,\n",
       "       [ 0.      ,  0.      ,  0.      , ..., 47.858724,  0.      ,\n",
       "         0.      ],\n",
       "       [ 0.      ,  0.      ,  0.      , ...,  0.      , 47.858724,\n",
       "         0.      ],\n",
       "       [ 0.      ,  0.      ,  0.      , ...,  0.      ,  0.      ,\n",
       "         2.25    ]])"
      ]
     },
     "execution_count": 87,
     "metadata": {},
     "output_type": "execute_result"
    }
   ],
   "source": [
    "uncertainty.get_thermo_covariance_matrix()"
   ]
  },
  {
   "cell_type": "code",
   "execution_count": null,
   "id": "8e3b53a2",
   "metadata": {},
   "outputs": [],
   "source": []
  },
  {
   "cell_type": "code",
   "execution_count": 88,
   "id": "7c8162f1",
   "metadata": {},
   "outputs": [
    {
     "data": {
      "text/plain": [
       "<matplotlib.colorbar.Colorbar at 0x7f00441d9d90>"
      ]
     },
     "execution_count": 88,
     "metadata": {},
     "output_type": "execute_result"
    },
    {
     "data": {
      "image/png": "[encoded data removed]",
      "text/plain": [
       "<Figure size 480x480 with 2 Axes>"
      ]
     },
     "metadata": {},
     "output_type": "display_data"
    }
   ],
   "source": [
    "# Show the thermo covariance matrix\n",
    "plt.matshow(uncertainty.thermo_covariance_matrix)\n",
    "plt.colorbar()"
   ]
  },
  {
   "cell_type": "code",
   "execution_count": 89,
   "id": "f7d175c5",
   "metadata": {},
   "outputs": [
    {
     "data": {
      "image/png": "[encoded data removed]",
      "text/plain": [
       "<Figure size 480x480 with 2 Axes>"
      ]
     },
     "metadata": {},
     "output_type": "display_data"
    }
   ],
   "source": [
    "# Zoom in to see which parameters are correlated: the answer is not many -- onyl a handful of similar gorups\n",
    "plt.matshow(uncertainty.thermo_covariance_matrix)\n",
    "plt.colorbar()\n",
    "plt.clim([0, 0.005])"
   ]
  },
  {
   "cell_type": "code",
   "execution_count": null,
   "id": "736032c7",
   "metadata": {},
   "outputs": [],
   "source": []
  },
  {
   "cell_type": "code",
   "execution_count": null,
   "id": "1a9f0a15",
   "metadata": {},
   "outputs": [],
   "source": []
  },
  {
   "cell_type": "markdown",
   "id": "143cdb7d",
   "metadata": {},
   "source": [
    "# Now do kinetics covariance"
   ]
  },
  {
   "cell_type": "code",
   "execution_count": 90,
   "id": "c62f9920",
   "metadata": {},
   "outputs": [
    {
     "data": {
      "text/plain": [
       "<matplotlib.colorbar.Colorbar at 0x7f004400fc10>"
      ]
     },
     "execution_count": 90,
     "metadata": {},
     "output_type": "execute_result"
    },
    {
     "data": {
      "image/png": "[encoded data removed]",
      "text/plain": [
       "<Figure size 480x480 with 2 Axes>"
      ]
     },
     "metadata": {},
     "output_type": "display_data"
    }
   ],
   "source": [
    "uncertainty.get_kinetic_covariance_matrix()\n",
    "# Show the kinetics covariance matrix\n",
    "plt.matshow(uncertainty.kinetic_covariance_matrix)\n",
    "plt.colorbar()"
   ]
  },
  {
   "cell_type": "code",
   "execution_count": 91,
   "id": "97c48a38",
   "metadata": {},
   "outputs": [
    {
     "data": {
      "text/plain": [
       "6.655543823643739"
      ]
     },
     "execution_count": 91,
     "metadata": {},
     "output_type": "execute_result"
    }
   ],
   "source": [
    "delta_ln_k = np.sqrt(np.max(uncertainty.kinetic_covariance_matrix))  # that's 1 std dev ln k\n",
    "\n",
    "# which corresponds to kmax/k of\n",
    "np.exp(delta_ln_k * np.sqrt(3))\n",
    "\n",
    "# 6.7 orders of magnitude. Okay. For the worst case scenario, yeah...\n",
    "np.log10(np.exp(delta_ln_k * np.sqrt(3)))"
   ]
  },
  {
   "cell_type": "code",
   "execution_count": 92,
   "id": "b2f1424e",
   "metadata": {},
   "outputs": [
    {
     "data": {
      "image/png": "[encoded data removed]",
      "text/plain": [
       "<Figure size 480x480 with 2 Axes>"
      ]
     },
     "metadata": {},
     "output_type": "display_data"
    }
   ],
   "source": [
    "# zoom in to highlight correlations\n",
    "plt.matshow(uncertainty.kinetic_covariance_matrix)\n",
    "plt.colorbar()\n",
    "plt.clim([0, 0.11])"
   ]
  },
  {
   "cell_type": "code",
   "execution_count": 93,
   "id": "cb33ddbb",
   "metadata": {},
   "outputs": [
    {
     "data": {
      "text/plain": [
       "array([0.      , 0.      , 0.      , 0.      , 0.      , 0.      ,\n",
       "       0.      , 0.      , 0.      , 0.      , 0.      , 0.      ,\n",
       "       0.      , 0.      , 0.      , 0.      , 0.      , 0.      ,\n",
       "       0.      , 0.      , 0.      , 0.      , 0.      , 0.      ,\n",
       "       0.      , 0.      , 0.      , 0.      , 0.      , 0.      ,\n",
       "       0.      , 0.      , 0.      , 0.      , 0.      , 0.      ,\n",
       "       0.      , 0.      , 0.      , 0.      , 0.      , 0.      ,\n",
       "       0.      , 0.      , 7.070281])"
      ]
     },
     "execution_count": 93,
     "metadata": {},
     "output_type": "execute_result"
    }
   ],
   "source": [
    "uncertainty.kinetic_covariance_matrix[:, -1]"
   ]
  },
  {
   "cell_type": "code",
   "execution_count": 94,
   "id": "7e130f64",
   "metadata": {},
   "outputs": [
    {
     "ename": "TypeError",
     "evalue": "'NoneType' object is not subscriptable",
     "output_type": "error",
     "traceback": [
      "\u001b[0;31m---------------------------------------------------------------------------\u001b[0m",
      "\u001b[0;31mTypeError\u001b[0m                                 Traceback (most recent call last)",
      "\u001b[0;32m/tmp/ipykernel_13958/912262486.py\u001b[0m in \u001b[0;36m<module>\u001b[0;34m\u001b[0m\n\u001b[0;32m----> 1\u001b[0;31m \u001b[0muncertainty\u001b[0m\u001b[0;34m.\u001b[0m\u001b[0moverall_covariance_matrix\u001b[0m\u001b[0;34m[\u001b[0m\u001b[0;34m:\u001b[0m\u001b[0;34m,\u001b[0m \u001b[0;34m-\u001b[0m\u001b[0;36m1\u001b[0m\u001b[0;34m]\u001b[0m\u001b[0;34m\u001b[0m\u001b[0;34m\u001b[0m\u001b[0m\n\u001b[0m",
      "\u001b[0;31mTypeError\u001b[0m: 'NoneType' object is not subscriptable"
     ]
    }
   ],
   "source": [
    "uncertainty.overall_covariance_matrix[:, -1]"
   ]
  },
  {
   "cell_type": "code",
   "execution_count": null,
   "id": "b34d5676",
   "metadata": {},
   "outputs": [],
   "source": []
  },
  {
   "cell_type": "code",
   "execution_count": 95,
   "id": "94db620d",
   "metadata": {},
   "outputs": [
    {
     "data": {
      "text/plain": [
       "<matplotlib.colorbar.Colorbar at 0x7f0043d881d0>"
      ]
     },
     "execution_count": 95,
     "metadata": {},
     "output_type": "execute_result"
    },
    {
     "data": {
      "image/png": "[encoded data removed]",
      "text/plain": [
       "<Figure size 480x480 with 2 Axes>"
      ]
     },
     "metadata": {},
     "output_type": "display_data"
    }
   ],
   "source": [
    "uncertainty.get_overall_covariance_matrix()\n",
    "plt.matshow(uncertainty.overall_covariance_matrix)\n",
    "plt.colorbar()"
   ]
  },
  {
   "cell_type": "code",
   "execution_count": 96,
   "id": "6c316e92",
   "metadata": {},
   "outputs": [
    {
     "data": {
      "image/png": "[encoded data removed]",
      "text/plain": [
       "<Figure size 480x480 with 2 Axes>"
      ]
     },
     "metadata": {},
     "output_type": "display_data"
    }
   ],
   "source": [
    "uncertainty.get_overall_covariance_matrix()\n",
    "plt.matshow(uncertainty.overall_covariance_matrix)\n",
    "plt.colorbar()\n",
    "plt.clim([-0.01, 0.01])"
   ]
  },
  {
   "cell_type": "code",
   "execution_count": 97,
   "id": "98604041",
   "metadata": {},
   "outputs": [],
   "source": [
    "np.save('thermo_cov.npy', uncertainty.thermo_covariance_matrix)\n",
    "np.save('kinetic_cov.npy', uncertainty.kinetic_covariance_matrix)\n",
    "np.save('overall_cov.npy', uncertainty.overall_covariance_matrix)"
   ]
  },
  {
   "cell_type": "code",
   "execution_count": null,
   "id": "06e9ec46",
   "metadata": {},
   "outputs": [],
   "source": []
  },
  {
   "cell_type": "code",
   "execution_count": null,
   "id": "6c19f798",
   "metadata": {},
   "outputs": [],
   "source": [
    "np.sqrt(uncertainty.kinetic_covariance_matrix[0,0])"
   ]
  },
  {
   "cell_type": "code",
   "execution_count": null,
   "id": "4337c8d5",
   "metadata": {},
   "outputs": [],
   "source": [
    "for i in range(len(reaction_list)):\n",
    "    print(f'{i}\\t{np.sqrt(uncertainty.kinetic_covariance_matrix[i, i])}\\t{reaction_list[i]}')"
   ]
  },
  {
   "cell_type": "code",
   "execution_count": null,
   "id": "1e23c0bb",
   "metadata": {},
   "outputs": [],
   "source": [
    "uncertainty.thermo_covariance_matrix[0,0] * 4184 * 4184"
   ]
  },
  {
   "cell_type": "code",
   "execution_count": null,
   "id": "cadda8b6",
   "metadata": {},
   "outputs": [],
   "source": [
    "varH = np.float_power(28945.5, 2.0)"
   ]
  },
  {
   "cell_type": "code",
   "execution_count": null,
   "id": "f903fd5e",
   "metadata": {},
   "outputs": [],
   "source": [
    "varH"
   ]
  },
  {
   "cell_type": "code",
   "execution_count": null,
   "id": "bc272efa",
   "metadata": {},
   "outputs": [],
   "source": [
    "type(uncertainty.reaction_list[10].kinetics)"
   ]
  },
  {
   "cell_type": "code",
   "execution_count": null,
   "id": "05992533",
   "metadata": {},
   "outputs": [],
   "source": []
  }
 ],
 "metadata": {
  "kernelspec": {
   "display_name": "Python 3 (ipykernel)",
   "language": "python",
   "name": "python3"
  },
  "language_info": {
   "codemirror_mode": {
    "name": "ipython",
    "version": 3
   },
   "file_extension": ".py",
   "mimetype": "text/x-python",
   "name": "python",
   "nbconvert_exporter": "python",
   "pygments_lexer": "ipython3",
   "version": "3.7.12"
  }
 },
 "nbformat": 4,
 "nbformat_minor": 5
}
