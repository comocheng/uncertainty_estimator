{
 "cells": [
  {
   "cell_type": "code",
   "execution_count": 1,
   "id": "207e30fa",
   "metadata": {},
   "outputs": [],
   "source": [
    "# Updated script to show how to unpack information in pickled files 1/20/2025\n",
    "import pickle\n",
    "import numpy as np\n",
    "import matplotlib.pyplot as plt\n",
    "%matplotlib inline"
   ]
  },
  {
   "cell_type": "code",
   "execution_count": 2,
   "id": "775c7d4b",
   "metadata": {},
   "outputs": [],
   "source": [
    "# read in the files\n",
    "species_dict_file = 'species_dict.pickle'\n",
    "reaction_dict_file = 'reaction_dict.pickle'\n",
    "\n",
    "thermo_uncertainty_file = 'thermo_cov.npy'\n",
    "kinetics_uncertainty_file = 'kinetic_cov.npy'\n",
    "overall_uncertainty_file = 'overall_cov.npy'\n",
    "\n",
    "with open(species_dict_file, 'rb') as f:\n",
    "    species_info_dict = pickle.load(f)\n",
    "with open(reaction_dict_file, 'rb') as f:\n",
    "    reaction_info_dict = pickle.load(f)\n",
    "\n",
    "thermo_cov = np.load(thermo_uncertainty_file)\n",
    "kinetics_cov = np.load(kinetics_uncertainty_file)\n",
    "overall_cov = np.load(overall_uncertainty_file)"
   ]
  },
  {
   "cell_type": "code",
   "execution_count": 3,
   "id": "697142b9",
   "metadata": {},
   "outputs": [],
   "source": [
    "def get_thermo_from_NASA(NASA0, NASA1, T):\n",
    "    # compute thermo properties from nasa polynomials  units are Joules and mols\n",
    "    # NASA0 is the lower temperature range and NASA1 is the higher\n",
    "    # expecting NASA polynomials in the following dictionary format:\n",
    "#     {'coeffs': array([ 3.53732118e+00, -1.21570202e-03,  5.31615358e-06, -4.89440364e-09,\n",
    "#          1.45843807e-12, -1.03858843e+03,  4.68368633e+00]),\n",
    "#      'Tmin': (100,'K'),\n",
    "#      'Tmax': (1074.56,'K')}\n",
    "    \n",
    "    assert T >= NASA0['Tmin']\n",
    "    assert T <= NASA1['Tmax']\n",
    "    \n",
    "    a_low = NASA0['coeffs']\n",
    "    a_high = NASA1['coeffs']\n",
    "    \n",
    "    if T < NASA0['Tmax']:\n",
    "        cp = a_low[0] + a_low[1] * T + a_low[2] * T**2.0 + a_low[3] * T**3.0 + a_low[4] * T**4.0\n",
    "        h = a_low[0] * T + a_low[1] / 2.0 * T**2.0 + a_low[2] / 3.0 * T**3.0 + a_low[3] / 4.0 * T**4.0 + a_low[4] / 5.0 * T**5.0 + a_low[5]\n",
    "        s = a_low[0] * np.log(T) + a_low[1] * T + a_low[2] / 2.0 * T**2.0 + a_low[3] / 3.0 * T**3.0 + a_low[4] / 4.0 * T**4.0 + a_low[6]\n",
    "    else:\n",
    "        cp = a_high[0] + a_high[1] * T + a_high[2] * T**2.0 + a_high[3] * T**3.0 + a_high[4] * T**4.0\n",
    "        h = a_high[0] * T + a_high[1] / 2.0 * T**2.0 + a_high[2] / 3.0 * T**3.0 + a_high[3] / 4.0 * T**4.0 + a_high[4] / 5.0 * T**5.0 + a_high[5]\n",
    "        s = a_high[0] * np.log(T) + a_high[1] * T + a_high[2] / 2.0 * T**2.0 + a_high[3] / 3.0 * T**3.0 + a_high[4] / 4.0 * T**4.0 + a_high[6]\n",
    "\n",
    "    R = 8.314472\n",
    "    cp *= R\n",
    "    h *= R\n",
    "    s *= R\n",
    "\n",
    "    return cp, h, s"
   ]
  },
  {
   "cell_type": "markdown",
   "id": "23ae385e",
   "metadata": {},
   "source": [
    "## Look at the species in the mechanism"
   ]
  },
  {
   "cell_type": "code",
   "execution_count": 4,
   "id": "c0ba6718",
   "metadata": {},
   "outputs": [
    {
     "name": "stdout",
     "output_type": "stream",
     "text": [
      "Index\tSpecies Label       \tVar(H) (kcal/mol)^2\n",
      "0\tCH2X_1              \t47.858724\n",
      "1\tHOX_3               \t47.858724\n",
      "2\tCHX_1               \t47.858724\n",
      "3\tCX_1                \t47.858724\n",
      "4\tOX_1                \t47.858724\n",
      "5\tHCOX_3              \t47.858724\n",
      "6\tH2O*                \t47.858724\n",
      "7\tCH4*                \t47.858724\n",
      "8\tHCCH                \t2.29\n",
      "9\tX_3                 \t47.858724\n",
      "10\tH2CCH2              \t2.29\n",
      "11\tH2CO                \t2.26\n",
      "12\tH2                  \t2.25\n",
      "13\tNO                  \t2.25\n",
      "14\tH2O                 \t2.25\n",
      "15\tCO2                 \t2.26\n",
      "16\tCH4                 \t2.25\n",
      "17\tCC_2X               \t50.148724\n",
      "18\tCCH_2X              \t50.138724\n",
      "19\tHCCH_2X             \t47.858724\n",
      "20\tHCCH2_2X            \t47.858724\n",
      "21\tHOCXO_1             \t47.858724\n",
      "22\tNH2_X               \t47.858724\n",
      "23\tNHX_2               \t47.858724\n",
      "24\tHCOO*               \t47.858724\n",
      "25\tCH3O2*              \t47.858724\n",
      "26\tH2CCH2_2X           \t47.858724\n",
      "27\tH2CO_2X             \t47.858724\n",
      "28\tHCOOH*              \t47.858724\n",
      "29\tH2CCH3_X            \t47.858724\n",
      "30\tHCCH3_X             \t47.858724\n",
      "31\tNH3_X               \t47.858724\n",
      "32\tXCCH2               \t47.858724\n",
      "33\tXCHCH2              \t47.858724\n",
      "34\tHCCHX_vdW           \t47.858724\n",
      "35\tH2CCH2X_vdW         \t47.858724\n",
      "36\tH2COX_vdW           \t47.858724\n",
      "37\tCH3X_4              \t47.858724\n",
      "38\tCOX_5               \t47.858724\n",
      "39\tHX_3                \t50.148724\n",
      "40\tNO_X                \t47.858724\n",
      "41\tCO2X                \t47.858724\n",
      "42\tNX                  \t47.858724\n",
      "43\tCH2OH*_2            \t47.858724\n",
      "44\tHCO_2X              \t47.858724\n",
      "45\tXCXCH2_3            \t47.858724\n",
      "46\tHCOH*               \t47.858724\n"
     ]
    }
   ],
   "source": [
    "print(f'Index\\t{\"Species Label\" + \" \" * (20 - len(\"Species Label\"))}\\tVar(H) (kcal/mol)^2')\n",
    "for i, spec_key in enumerate(species_info_dict.keys()):\n",
    "    print(f'{i}\\t{spec_key + \" \" * (20 - len(spec_key))}\\t{thermo_cov[i, i]}')"
   ]
  },
  {
   "cell_type": "code",
   "execution_count": 5,
   "id": "508c7dfd",
   "metadata": {},
   "outputs": [
    {
     "name": "stdout",
     "output_type": "stream",
     "text": [
      "33366.704582689425\n"
     ]
    }
   ],
   "source": [
    "# Example get thermo at 1000K\n",
    "T = 1000\n",
    "my_species_label = 'CH2X_1'\n",
    "NASA0 = species_info_dict[my_species_label]['NASA0']\n",
    "NASA1 = species_info_dict[my_species_label]['NASA1']\n",
    "\n",
    "cp, h, s = get_thermo_from_NASA(NASA0, NASA1, T)\n",
    "print(h)  # in J/mol"
   ]
  },
  {
   "cell_type": "code",
   "execution_count": null,
   "id": "24492ebe",
   "metadata": {},
   "outputs": [],
   "source": []
  },
  {
   "cell_type": "code",
   "execution_count": 6,
   "id": "6e72e4db",
   "metadata": {},
   "outputs": [
    {
     "data": {
      "text/plain": [
       "Text(0.5, 1.0, 'Thermo Covariance (kcal/mol)^2')"
      ]
     },
     "execution_count": 6,
     "metadata": {},
     "output_type": "execute_result"
    },
    {
     "data": {
      "image/png": "[encoded data removed]",
      "text/plain": [
       "<Figure size 480x480 with 2 Axes>"
      ]
     },
     "metadata": {},
     "output_type": "display_data"
    }
   ],
   "source": [
    "# plot the thermo covariance\n",
    "plt.matshow(thermo_cov)\n",
    "plt.colorbar()\n",
    "plt.title('Thermo Covariance (kcal/mol)^2')\n",
    "# plt.clim([0, 0.01])  # uncomment this to zoom in and see off-diagonals better"
   ]
  },
  {
   "cell_type": "markdown",
   "id": "ce047584",
   "metadata": {},
   "source": [
    "# Look at the Reactions in the File"
   ]
  },
  {
   "cell_type": "code",
   "execution_count": 7,
   "id": "c9ff3cdd",
   "metadata": {},
   "outputs": [
    {
     "name": "stdout",
     "output_type": "stream",
     "text": [
      "Index\tReaction Label                          \tVar(ln k)\n",
      "0\tCH2X_1 + HOX_3 <=> CH3X_4 + OX_1        \t20.669927484651602\n",
      "1\tCHX_1 + HOX_3 <=> CH2X_1 + OX_1         \t20.669927484651602\n",
      "2\tCX_1 + HOX_3 <=> CHX_1 + OX_1           \t20.669927484651602\n",
      "3\tOX_1 + HCOX_3 <=> HOX_3 + COX_5         \t56.867651084627724\n",
      "4\tH2O* + OX_1 <=> HOX_3 + HOX_3           \t78.28475874027181\n",
      "5\tCH4* + OX_1 <=> CH3X_4 + HOX_3          \t56.867651084627724\n",
      "6\tHCCH + X_3 + X_3 <=> HCCH_2X            \t7.320280999999999\n",
      "7\tH2CCH2 + X_3 + X_3 <=> H2CCH2_2X        \t7.320280999999999\n",
      "8\tH2CO + X_3 + X_3 <=> H2CO_2X            \t7.320280999999999\n",
      "9\tH2 + X_3 + X_3 <=> HX_3 + HX_3          \t7.320280999999999\n",
      "10\tNO + X_3 <=> NO_X                       \t7.320280999999999\n",
      "11\tH2O + X_3 <=> H2O*                      \t14.033435773339525\n",
      "12\tCO2 + X_3 <=> CO2X                      \t14.033435773339525\n",
      "13\tCH4 + X_3 <=> CH4*                      \t14.033435773339525\n",
      "14\tCC_2X <=> CX_1 + CX_1                   \t7.320280999999999\n",
      "15\tCCH_2X <=> CX_1 + CHX_1                 \t50.69190350589366\n",
      "16\tHCCH_2X <=> CHX_1 + CHX_1               \t33.50590911559284\n",
      "17\tHCCH2_2X <=> CHX_1 + CH2X_1             \t50.28077871382996\n",
      "18\tHOCXO_1 + X_3 <=> COX_5 + HOX_3         \t33.096579628297974\n",
      "19\tNH2_X + X_3 <=> NHX_2 + HX_3            \t23.627920238023254\n",
      "20\tNHX_2 + X_3 <=> NX + HX_3               \t48.23875755202325\n",
      "21\tHCOO* + X_3 <=> HCOX_3 + OX_1           \t48.23875755202325\n",
      "22\tHOX_3 + X_3 <=> OX_1 + HX_3             \t48.23875755202325\n",
      "23\tCH3O2* + X_3 <=> CH2OH*_2 + OX_1        \t10.597321465191355\n",
      "24\tHCOX_3 + X_3 <=> COX_5 + HX_3           \t10.597321465191355\n",
      "25\tHCCH2_2X + X_3 <=> HCCH_2X + HX_3       \t48.23875755202325\n",
      "26\tH2CCH2_2X + X_3 <=> HCCH2_2X + HX_3     \t23.070435543501056\n",
      "27\tH2CO_2X + X_3 <=> HCO_2X + HX_3         \t42.344862894981574\n",
      "28\tHCCH2_2X + X_3 <=> XCXCH2_3 + HX_3      \t42.344862894981574\n",
      "29\tHCOOH* + X_3 <=> HCOH* + OX_1           \t42.344862894981574\n",
      "30\tH2CCH3_X + X_3 + X_3 <=> H2CCH2_2X + HX_3\t42.344862894981574\n",
      "31\tHCCH3_X + X_3 + X_3 <=> HCCH2_2X + HX_3 \t23.418569413295835\n",
      "32\tNH3_X + X_3 <=> NH2_X + HX_3            \t71.53161049971658\n",
      "33\tCH4* + X_3 <=> CH3X_4 + HX_3            \t71.53161049971658\n",
      "34\tH2O* + X_3 <=> HOX_3 + HX_3             \t48.23875755202325\n",
      "35\tHCOOH* + X_3 <=> HCOX_3 + HOX_3         \t23.070435543501056\n",
      "36\tXCCH2 + X_3 <=> XCXCH2_3                \t19.929130482193365\n",
      "37\tXCHCH2 + X_3 <=> HCCH2_2X               \t41.52560277868373\n",
      "38\tHCOX_3 + X_3 <=> HCO_2X                 \t7.320280999999999\n",
      "39\tHCCHX_vdW + X_3 <=> HCCH_2X             \t7.320280999999999\n",
      "40\tH2CCH2X_vdW + X_3 <=> H2CCH2_2X         \t7.320280999999999\n",
      "41\tH2COX_vdW + X_3 <=> H2CO_2X             \t7.320280999999999\n"
     ]
    }
   ],
   "source": [
    "print(f'Index\\t{\"Reaction Label\" + \" \" * (40 - len(\"Reaction Label\"))}\\tVar(ln k)')\n",
    "for i, reaction_key in enumerate(reaction_info_dict.keys()):\n",
    "    print(f'{i}\\t{reaction_key + \" \" * (40 - len(reaction_key))}\\t{kinetics_cov[i, i]}')"
   ]
  },
  {
   "cell_type": "code",
   "execution_count": 8,
   "id": "f02edc80",
   "metadata": {},
   "outputs": [
    {
     "data": {
      "text/plain": [
       "{'index': 90,\n",
       " 'parameterization': \"<class 'rmgpy.kinetics.surface.SurfaceArrheniusBEP'>\",\n",
       " 'kinetics': {'A': 1.78e+21,\n",
       "  'n': 0.0,\n",
       "  'alpha': 0.0,\n",
       "  'E0': 12.0,\n",
       "  'A_units': 'cm^2/(mol*s)',\n",
       "  'E0_units': 'kJ/mol'},\n",
       " 'comment': 'Exact match found for rate rule [Combined;VacantSite]\\nEuclidian distance = 0\\nfamily: Surface_vdW_to_Bidentate',\n",
       " 'reactants': ['H2COX_vdW', 'X_3'],\n",
       " 'products': ['H2CO_2X']}"
      ]
     },
     "execution_count": 8,
     "metadata": {},
     "output_type": "execute_result"
    }
   ],
   "source": [
    "# see the info for a given reaction\n",
    "reaction_info_dict['H2COX_vdW + X_3 <=> H2CO_2X']"
   ]
  },
  {
   "cell_type": "code",
   "execution_count": 9,
   "id": "232a1065",
   "metadata": {},
   "outputs": [
    {
     "data": {
      "text/plain": [
       "Text(0.5, 1.0, 'Kinetics (ln k) Covariance')"
      ]
     },
     "execution_count": 9,
     "metadata": {},
     "output_type": "execute_result"
    },
    {
     "data": {
      "image/png": "[encoded data removed]",
      "text/plain": [
       "<Figure size 480x480 with 2 Axes>"
      ]
     },
     "metadata": {},
     "output_type": "display_data"
    }
   ],
   "source": [
    "# plot the kinetics covariance\n",
    "plt.matshow(kinetics_cov)\n",
    "plt.colorbar()\n",
    "plt.title('Kinetics (ln k) Covariance')\n",
    "# plt.clim([-0.01, 0.01])  # uncomment this to zoom in and see off-diagonals better"
   ]
  },
  {
   "cell_type": "markdown",
   "id": "a7b50b8e",
   "metadata": {},
   "source": [
    "# plot the overall combined thermo/kinetics covariance matrix"
   ]
  },
  {
   "cell_type": "code",
   "execution_count": 10,
   "id": "af7d6c41",
   "metadata": {},
   "outputs": [
    {
     "data": {
      "text/plain": [
       "Text(0.5, 1.0, 'Combined Thermo/Kinetic Covariance')"
      ]
     },
     "execution_count": 10,
     "metadata": {},
     "output_type": "execute_result"
    },
    {
     "data": {
      "image/png": "[encoded data removed]",
      "text/plain": [
       "<Figure size 480x480 with 2 Axes>"
      ]
     },
     "metadata": {},
     "output_type": "display_data"
    }
   ],
   "source": [
    "# plot the overall covariance -- species in top left, reactions in bottom right\n",
    "plt.matshow(overall_cov)\n",
    "plt.colorbar()\n",
    "plt.title('Combined Thermo/Kinetic Covariance')\n",
    "# plt.clim([-0.01, 0.01])  # uncomment this to zoom in and see off-diagonals better"
   ]
  },
  {
   "cell_type": "code",
   "execution_count": null,
   "id": "e38c7091",
   "metadata": {},
   "outputs": [],
   "source": []
  },
  {
   "cell_type": "code",
   "execution_count": null,
   "id": "7f325146",
   "metadata": {},
   "outputs": [],
   "source": []
  }
 ],
 "metadata": {
  "kernelspec": {
   "display_name": "Python 3 (ipykernel)",
   "language": "python",
   "name": "python3"
  },
  "language_info": {
   "codemirror_mode": {
    "name": "ipython",
    "version": 3
   },
   "file_extension": ".py",
   "mimetype": "text/x-python",
   "name": "python",
   "nbconvert_exporter": "python",
   "pygments_lexer": "ipython3",
   "version": "3.7.12"
  }
 },
 "nbformat": 4,
 "nbformat_minor": 5
}
