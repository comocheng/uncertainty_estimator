{
 "cells": [
  {
   "cell_type": "code",
   "execution_count": 1,
   "id": "11526e60",
   "metadata": {},
   "outputs": [],
   "source": [
    "# example script to handle sticking coefficients\n",
    "import pickle\n",
    "import numpy as np"
   ]
  },
  {
   "cell_type": "code",
   "execution_count": 18,
   "id": "cc5c7505",
   "metadata": {},
   "outputs": [],
   "source": [
    "# define constants\n",
    "R = 8.314472\n",
    "kB = 1.3806504e-23"
   ]
  },
  {
   "cell_type": "code",
   "execution_count": 29,
   "id": "92a30eeb",
   "metadata": {},
   "outputs": [],
   "source": [
    "# Read in data files\n",
    "species_dict_file = 'saved_data_files_v2.4/species_dict.pickle'\n",
    "with open(species_dict_file, 'rb') as f:\n",
    "    my_thermo_data = pickle.load(f)\n",
    "\n",
    "reaction_dict_file = 'saved_data_files_v2.4/reaction_dict.pickle'\n",
    "with open(reaction_dict_file, 'rb') as f:\n",
    "    my_kinetic_data = pickle.load(f)\n"
   ]
  },
  {
   "cell_type": "code",
   "execution_count": 30,
   "id": "101c91e2",
   "metadata": {},
   "outputs": [],
   "source": [
    "my_example_reaction = my_kinetic_data['H2 + X_3 + X_3 <=> HX_3 + HX_3']"
   ]
  },
  {
   "cell_type": "code",
   "execution_count": 31,
   "id": "39385090",
   "metadata": {},
   "outputs": [
    {
     "data": {
      "text/plain": [
       "{'index': 59,\n",
       " 'parameterization': \"<class 'rmgpy.kinetics.surface.StickingCoefficientBEP'>\",\n",
       " 'kinetics': {'A': 0.1,\n",
       "  'n': 0.0,\n",
       "  'alpha': 0.0,\n",
       "  'E0': 3.800000000000001,\n",
       "  'A_units': '',\n",
       "  'E0_units': 'kJ/mol'},\n",
       " 'comment': 'Exact match found for rate rule [H2;VacantSite1;VacantSite2]\\nEuclidian distance = 0\\nfamily: Surface_Adsorption_Dissociative',\n",
       " 'reactants': ['H2', 'X_3', 'X_3'],\n",
       " 'products': ['HX_3', 'HX_3']}"
      ]
     },
     "execution_count": 31,
     "metadata": {},
     "output_type": "execute_result"
    }
   ],
   "source": [
    "my_example_reaction"
   ]
  },
  {
   "cell_type": "code",
   "execution_count": 32,
   "id": "1c9aa9ff",
   "metadata": {},
   "outputs": [
    {
     "data": {
      "text/plain": [
       "{'index': 40,\n",
       " 'label': 'HX_3',\n",
       " 'RMG_adjacency_list': 'HX_3\\n1 *1 H u0 p0 c0 {2,S}\\n2 *3 X u0 p0 c0 {1,S}\\n',\n",
       " 'NASA0': {'coeffs': array([-2.07570125e+00,  1.73580835e-02, -2.60920784e-05,  1.89282268e-08,\n",
       "         -5.38835643e-12, -3.16618959e+03,  8.15361518e+00]),\n",
       "  'Tmin': 298.0,\n",
       "  'Tmax': 1000.0},\n",
       " 'NASA1': {'coeffs': array([ 2.72248139e+00, -1.06817206e-03,  1.98653790e-06, -1.12048461e-09,\n",
       "          2.09811636e-13, -4.21823896e+03, -1.53207470e+01]),\n",
       "  'Tmin': 1000.0,\n",
       "  'Tmax': 2000.0},\n",
       " 'comment': 'Thermo library: surfaceThermoPt111',\n",
       " 'is_surface_species': True,\n",
       " 'n_surface_sites': 1,\n",
       " 'molecular_weight_kg': 1.6737750843494438e-27}"
      ]
     },
     "execution_count": 32,
     "metadata": {},
     "output_type": "execute_result"
    }
   ],
   "source": [
    "my_thermo_data['HX_3']"
   ]
  },
  {
   "cell_type": "code",
   "execution_count": 7,
   "id": "8989fb43",
   "metadata": {},
   "outputs": [],
   "source": [
    "def get_thermo_from_NASA(NASA0, NASA1, T):\n",
    "    # compute thermo properties from nasa polynomials  units are Joules and mols\n",
    "    # NASA0 is the lower temperature range and NASA1 is the higher\n",
    "    # expecting NASA polynomials in the following dictionary format:\n",
    "#     {'coeffs': array([ 3.53732118e+00, -1.21570202e-03,  5.31615358e-06, -4.89440364e-09,\n",
    "#          1.45843807e-12, -1.03858843e+03,  4.68368633e+00]),\n",
    "#      'Tmin': (100,'K'),\n",
    "#      'Tmax': (1074.56,'K')}\n",
    "    \n",
    "    assert T >= NASA0['Tmin']\n",
    "    assert T <= NASA1['Tmax']\n",
    "    \n",
    "    a_low = NASA0['coeffs']\n",
    "    a_high = NASA1['coeffs']\n",
    "    \n",
    "    if T < NASA0['Tmax']:\n",
    "        cp = a_low[0] + a_low[1] * T + a_low[2] * T**2.0 + a_low[3] * T**3.0 + a_low[4] * T**4.0\n",
    "        h = a_low[0] * T + a_low[1] / 2.0 * T**2.0 + a_low[2] / 3.0 * T**3.0 + a_low[3] / 4.0 * T**4.0 + a_low[4] / 5.0 * T**5.0 + a_low[5]\n",
    "        s = a_low[0] * np.log(T) + a_low[1] * T + a_low[2] / 2.0 * T**2.0 + a_low[3] / 3.0 * T**3.0 + a_low[4] / 4.0 * T**4.0 + a_low[6]\n",
    "    else:\n",
    "        cp = a_high[0] + a_high[1] * T + a_high[2] * T**2.0 + a_high[3] * T**3.0 + a_high[4] * T**4.0\n",
    "        h = a_high[0] * T + a_high[1] / 2.0 * T**2.0 + a_high[2] / 3.0 * T**3.0 + a_high[3] / 4.0 * T**4.0 + a_high[4] / 5.0 * T**5.0 + a_high[5]\n",
    "        s = a_high[0] * np.log(T) + a_high[1] * T + a_high[2] / 2.0 * T**2.0 + a_high[3] / 3.0 * T**3.0 + a_high[4] / 4.0 * T**4.0 + a_high[6]\n",
    "\n",
    "    \n",
    "    cp *= R\n",
    "    h *= R\n",
    "    s *= R\n",
    "\n",
    "    return cp, h, s"
   ]
  },
  {
   "cell_type": "code",
   "execution_count": 8,
   "id": "c5c7641c",
   "metadata": {},
   "outputs": [
    {
     "data": {
      "text/plain": [
       "-47385.21397077319"
      ]
     },
     "execution_count": 8,
     "metadata": {},
     "output_type": "execute_result"
    }
   ],
   "source": [
    "def get_enthalpy_of_reaction(reaction_entry, Tref=1000):\n",
    "    Hrxn = 0\n",
    "    for product in reaction_entry['products']:\n",
    "        NASA0 = my_thermo_data[product]['NASA0']\n",
    "        NASA1 = my_thermo_data[product]['NASA1']\n",
    "        cp, h, s = get_thermo_from_NASA(NASA0, NASA1, Tref)  # in J/mol\n",
    "        Hrxn += h\n",
    "    for reactant in reaction_entry['reactants']:\n",
    "        NASA0 = my_thermo_data[reactant]['NASA0']\n",
    "        NASA1 = my_thermo_data[reactant]['NASA1']\n",
    "        cp, h, s = get_thermo_from_NASA(NASA0, NASA1, Tref)  # in J/mol\n",
    "        Hrxn -= h\n",
    "    return Hrxn\n",
    "get_enthalpy_of_reaction(my_kinetic_data['H2 + X_3 + X_3 <=> HX_3 + HX_3'])"
   ]
  },
  {
   "cell_type": "code",
   "execution_count": 9,
   "id": "6024d5b1",
   "metadata": {},
   "outputs": [],
   "source": [
    "def get_activation_energy(reaction_entry, Hrxn):\n",
    "    alpha = reaction_entry['kinetics']['alpha']\n",
    "    E0 = reaction_entry['kinetics']['E0'] * 1000\n",
    "    assert reaction_entry['kinetics']['E0_units'] == 'kJ/mol'\n",
    "    Ea = alpha * Hrxn + E0\n",
    "    \n",
    "    if E0 > 0:\n",
    "        if Hrxn < 0.0 and Ea < 0.0:  # Activation barrier shouldn't be negative if intrinsic barrier E0 is > 0\n",
    "            Ea = 0.0\n",
    "        elif Hrxn > 0.0 and Ea < Hrxn:  # Raise activation barrier so reverse won't be negative\n",
    "            Ea = Hrxn\n",
    "    \n",
    "    return Ea  # J/mol"
   ]
  },
  {
   "cell_type": "code",
   "execution_count": 10,
   "id": "7f65c2f6",
   "metadata": {},
   "outputs": [
    {
     "data": {
      "text/plain": [
       "3800.0000000000014"
      ]
     },
     "execution_count": 10,
     "metadata": {},
     "output_type": "execute_result"
    }
   ],
   "source": [
    "Hrxn = get_enthalpy_of_reaction(my_example_reaction, Tref=1000)\n",
    "get_activation_energy(my_example_reaction, Hrxn)"
   ]
  },
  {
   "cell_type": "code",
   "execution_count": null,
   "id": "5767e46b",
   "metadata": {},
   "outputs": [],
   "source": []
  },
  {
   "cell_type": "code",
   "execution_count": 11,
   "id": "18ec77f5",
   "metadata": {},
   "outputs": [
    {
     "data": {
      "text/plain": [
       "{'A': 0.1,\n",
       " 'n': 0.0,\n",
       " 'alpha': 0.0,\n",
       " 'E0': 3.800000000000001,\n",
       " 'A_units': '',\n",
       " 'E0_units': 'kJ/mol'}"
      ]
     },
     "execution_count": 11,
     "metadata": {},
     "output_type": "execute_result"
    }
   ],
   "source": [
    "my_kinetic_data['H2 + X_3 + X_3 <=> HX_3 + HX_3']['kinetics']"
   ]
  },
  {
   "cell_type": "markdown",
   "id": "1dbf9e11",
   "metadata": {},
   "source": [
    "# Dimensionless sticking coefficient: $\\gamma = a T^b e^{-c/RT}$"
   ]
  },
  {
   "cell_type": "code",
   "execution_count": 12,
   "id": "01c4aa9f",
   "metadata": {},
   "outputs": [],
   "source": [
    "def get_sticking_coefficient(reaction_entry, T, Tref=None):\n",
    "    \"\"\"\n",
    "    Return the sticking coefficient (dimensionless) at\n",
    "    temperature `T` in K and enthalpy of reaction `dHrxn` in J/mol.\n",
    "    Not supposed to exceed 1.0.\n",
    "    \n",
    "    Tref is the temperature at which we calculate H_rxn\n",
    "    \"\"\"\n",
    "    \n",
    "    if 'stickingcoefficientbep' in reaction_entry['parameterization'].lower():\n",
    "        if Tref is None:\n",
    "            Tref = T\n",
    "        Hrxn = get_enthalpy_of_reaction(my_example_reaction, Tref=Tref)\n",
    "        Ea = get_activation_energy(reaction_entry, Hrxn)\n",
    "    else:\n",
    "        Ea = reaction_entry['kinetics']['Ea']\n",
    "    A = reaction_entry['kinetics']['A']\n",
    "    n = reaction_entry['kinetics']['n']\n",
    "    \n",
    "    sticking_coefficient = A * T ** n * np.exp(-Ea / (R * T))\n",
    "    assert sticking_coefficient >= 0\n",
    "    return min(sticking_coefficient, 1.0)"
   ]
  },
  {
   "cell_type": "code",
   "execution_count": 13,
   "id": "1a32ddb6",
   "metadata": {},
   "outputs": [
    {
     "data": {
      "text/plain": [
       "0.06331585378511849"
      ]
     },
     "execution_count": 13,
     "metadata": {},
     "output_type": "execute_result"
    }
   ],
   "source": [
    "get_sticking_coefficient(my_example_reaction, 1000)"
   ]
  },
  {
   "cell_type": "code",
   "execution_count": null,
   "id": "e35fbb64",
   "metadata": {},
   "outputs": [],
   "source": []
  },
  {
   "cell_type": "markdown",
   "id": "504d903a",
   "metadata": {},
   "source": [
    "# Reaction Rate: $k_f = \\frac{\\gamma}{\\Gamma_{tot}^m}\\sqrt{\\frac{RT}{2\\pi W}}$"
   ]
  },
  {
   "cell_type": "code",
   "execution_count": 19,
   "id": "d42e2787",
   "metadata": {},
   "outputs": [],
   "source": [
    "def get_sticking_rate_coefficient(reaction_entry, T, surface_site_density):\n",
    "    \"\"\"\n",
    "    Return the overall surface rate coefficient for the forward reaction at\n",
    "    temperature `T` in K with surface site density `surface_site_density` in mol/m2.\n",
    "    Value is returned in combination of [m,mol,s]\n",
    "    \"\"\"\n",
    "\n",
    "    rate_coefficient = get_sticking_coefficient(reaction_entry, T)\n",
    "    \n",
    "    # detect which species is the gas-phase adsorbate\n",
    "    adsorbate = None\n",
    "    for r in reaction_entry['reactants']:\n",
    "        reactant = my_thermo_data[r]\n",
    "        if reactant['is_surface_species']:\n",
    "            rate_coefficient /= surface_site_density\n",
    "            sites = reactant['n_surface_sites']\n",
    "            if sites > 1:\n",
    "                rate_coefficient /= sites\n",
    "        else:\n",
    "            if adsorbate is None:\n",
    "                adsorbate = reactant\n",
    "            else:\n",
    "                raise ValueError(\"More than one adsorbate detected\")\n",
    "    \n",
    "    rate_coefficient *= np.sqrt(kB * T / (2 * np.pi * adsorbate['molecular_weight_kg']))\n",
    "    \n",
    "    # Multidentate adsorption requires multiplication of the sticking coefficient\n",
    "    # with the number of binding sites**stoichiometric coefficients (it is 1 for monodentates)\n",
    "    # It was already integrated in the loop above for the reactants\n",
    "    for p in reaction_entry['products']:\n",
    "        product = my_thermo_data[p]\n",
    "        sites = product['n_surface_sites']\n",
    "        if sites > 1:\n",
    "            rate_coefficient *= sites\n",
    "    return rate_coefficient"
   ]
  },
  {
   "cell_type": "code",
   "execution_count": 20,
   "id": "61e6552f",
   "metadata": {},
   "outputs": [
    {
     "data": {
      "text/plain": [
       "69336679490.73575"
      ]
     },
     "execution_count": 20,
     "metadata": {},
     "output_type": "execute_result"
    }
   ],
   "source": [
    "surface_site_density = 2.7200E-05  # mol/m^2\n",
    "get_sticking_rate_coefficient(my_example_reaction, 1000, surface_site_density)"
   ]
  },
  {
   "cell_type": "markdown",
   "id": "bc62c45b",
   "metadata": {},
   "source": [
    "# Figure out the units on the rate coefficient"
   ]
  },
  {
   "cell_type": "code",
   "execution_count": 35,
   "id": "145a4138",
   "metadata": {},
   "outputs": [],
   "source": [
    "def write_units_str(units_dict):\n",
    "    units_str = ''\n",
    "    \n",
    "    num_items = []\n",
    "    den_items = []\n",
    "    for unit, power in units_dict.items():\n",
    "        if power > 1:\n",
    "            num_items.append(f'{unit}^{power}')\n",
    "        elif power == 1:\n",
    "            num_items.append(f'{unit}')\n",
    "        elif power == -1:\n",
    "            den_items.append(f'{unit}')\n",
    "        elif power < -1:\n",
    "            den_items.append(f'{unit}^{abs(power)}')\n",
    "\n",
    "    num_string = '*'.join(num_items)\n",
    "    den_string = '*'.join(den_items)\n",
    "    if len(den_items) > 1:\n",
    "        den_string = f'({den_string})'\n",
    "    \n",
    "    if len(num_items) == 0 and len(den_items) == 0:\n",
    "        return ''\n",
    "    \n",
    "    elif len(num_items) > 0 and len(den_items) == 0:\n",
    "        return num_string\n",
    "    elif len(num_items) == 0 and len(den_items) > 0:\n",
    "        return f'1/{den_string}'\n",
    "    else:\n",
    "        return f'{num_string}/{den_string}'\n",
    "    \n",
    "def get_species_units(species):\n",
    "    if species['is_surface_species']:\n",
    "        return {\n",
    "            'mol': 1,\n",
    "            'm': -2,\n",
    "            's': 0,\n",
    "        }\n",
    "    return {\n",
    "        'mol': 1,\n",
    "        'm': -3,\n",
    "        's': 0,\n",
    "    }\n",
    "\n",
    "def get_forward_rate_units(reaction_entry, ref_species=None):\n",
    "    if ref_species is None:\n",
    "        reactant_label = reaction_entry['reactants'][0]\n",
    "        ref_species = my_thermo_data[reactant_label]\n",
    "    else:\n",
    "        assert ref_species['label'] in reaction_entry['reactants'], 'reference species not in reaction'\n",
    "    \n",
    "    # make the equation\n",
    "    units_dref_dt = get_species_units(ref_species)\n",
    "    units_dref_dt['s'] = units_dref_dt['s'] - 1\n",
    "    \n",
    "#     print('ref units: ', write_units_str(units_dref_dt))\n",
    "    \n",
    "    forward_eq_units = {\n",
    "        'mol': 0,\n",
    "        'm': 0,\n",
    "        's': 0,\n",
    "    }\n",
    "    \n",
    "    for i in range(len(reaction_entry['reactants'])):\n",
    "        reactant = reaction_entry['reactants'][i]\n",
    "        sp_units = get_species_units(my_thermo_data[reactant])\n",
    "        forward_eq_units['mol'] += sp_units['mol']\n",
    "        forward_eq_units['m'] += sp_units['m']\n",
    "        forward_eq_units['s'] += sp_units['s']\n",
    "#     print('eq units: ', write_units_str(forward_eq_units))\n",
    "    \n",
    "    k_units = {\n",
    "        'mol': units_dref_dt['mol'] - forward_eq_units['mol'],\n",
    "        'm': units_dref_dt['m'] - forward_eq_units['m'],\n",
    "        's': units_dref_dt['s'] - forward_eq_units['s'],\n",
    "    }\n",
    "    return write_units_str(k_units)"
   ]
  },
  {
   "cell_type": "code",
   "execution_count": 36,
   "id": "dfe7b29a",
   "metadata": {},
   "outputs": [
    {
     "data": {
      "text/plain": [
       "'m^4/(mol^2*s)'"
      ]
     },
     "execution_count": 36,
     "metadata": {},
     "output_type": "execute_result"
    }
   ],
   "source": [
    "get_forward_rate_units(my_example_reaction)"
   ]
  },
  {
   "cell_type": "code",
   "execution_count": null,
   "id": "e9461399",
   "metadata": {},
   "outputs": [],
   "source": []
  },
  {
   "cell_type": "code",
   "execution_count": null,
   "id": "6f9678bf",
   "metadata": {},
   "outputs": [],
   "source": []
  },
  {
   "cell_type": "code",
   "execution_count": null,
   "id": "c1e9393a",
   "metadata": {},
   "outputs": [],
   "source": []
  },
  {
   "cell_type": "code",
   "execution_count": null,
   "id": "efe24c83",
   "metadata": {},
   "outputs": [],
   "source": []
  }
 ],
 "metadata": {
  "kernelspec": {
   "display_name": "Python 3 (ipykernel)",
   "language": "python",
   "name": "python3"
  },
  "language_info": {
   "codemirror_mode": {
    "name": "ipython",
    "version": 3
   },
   "file_extension": ".py",
   "mimetype": "text/x-python",
   "name": "python",
   "nbconvert_exporter": "python",
   "pygments_lexer": "ipython3",
   "version": "3.7.12"
  }
 },
 "nbformat": 4,
 "nbformat_minor": 5
}
