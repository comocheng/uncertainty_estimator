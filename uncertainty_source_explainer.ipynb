{
 "cells": [
  {
   "cell_type": "markdown",
   "id": "ecf3f176",
   "metadata": {},
   "source": [
    "# A notebook to demonstrate the different kinetics sources for uncertainty\\"
   ]
  },
  {
   "cell_type": "code",
   "execution_count": 1,
   "id": "8cbf7678",
   "metadata": {},
   "outputs": [
    {
     "data": {
      "text/plain": [
       "<module 'rmgpy.data.kinetics.family' from '/home/moon/rmg/RMG-Py/rmgpy/data/kinetics/family.py'>"
      ]
     },
     "execution_count": 1,
     "metadata": {},
     "output_type": "execute_result"
    }
   ],
   "source": [
    "import os\n",
    "import re\n",
    "import rmgpy.chemkin\n",
    "import rmgpy.data.rmg\n",
    "import rmgpy.data.kinetics.family\n",
    "\n",
    "import importlib\n",
    "importlib.reload(rmgpy.data.kinetics.family)"
   ]
  },
  {
   "cell_type": "code",
   "execution_count": 2,
   "id": "b490fd9a",
   "metadata": {},
   "outputs": [],
   "source": [
    "# pick an annotated chemkin file to analyze\n",
    "chemkin_file = '/home/moon/uncertainty_estimator/uncertainty_tool_dev/ethane_limit_families/chemkin/chem_annotated.inp'\n",
    "dict_file = '/home/moon/uncertainty_estimator/uncertainty_tool_dev/ethane_limit_families/chemkin/species_dictionary.txt'\n",
    "species_list, reaction_list = rmgpy.chemkin.load_chemkin_file(chemkin_file, dict_file)"
   ]
  },
  {
   "cell_type": "code",
   "execution_count": 3,
   "id": "4b87f6ad",
   "metadata": {},
   "outputs": [],
   "source": [
    "database = rmgpy.data.rmg.RMGDatabase()\n",
    "thermo_libraries = [\n",
    "    'primaryThermoLibrary',\n",
    "    'BurkeH2O2'\n",
    "]\n",
    "reaction_libraries = [\n",
    "    'BurkeH2O2inN2'\n",
    "]\n",
    "kinetics_families = [\n",
    "    'Disproportionation',\n",
    "    'H_Abstraction',\n",
    "    'intra_H_migration',\n",
    "    'R_Recombination',\n",
    "    'Intra_Disproportionation',\n",
    "]\n",
    "\n",
    "database.load(\n",
    "    path = rmgpy.settings['database.directory'],\n",
    "    thermo_libraries = thermo_libraries,\n",
    "    transport_libraries = [],\n",
    "    reaction_libraries = reaction_libraries,\n",
    "    seed_mechanisms = [],\n",
    "    kinetics_families = kinetics_families,\n",
    "    kinetics_depositories = ['training'],\n",
    "    depository = False, # Don't bother loading the depository information, as we don't use it\n",
    ")\n",
    "\n",
    "\n",
    "for family in database.kinetics.families:\n",
    "    if not database.kinetics.families[family].auto_generated:\n",
    "        database.kinetics.families[family].add_rules_from_training(thermo_database=database.thermo)\n",
    "        database.kinetics.families[family].fill_rules_by_averaging_up(verbose=True)\n"
   ]
  },
  {
   "cell_type": "code",
   "execution_count": 4,
   "id": "c036eaf9",
   "metadata": {},
   "outputs": [],
   "source": [
    "sources = {}\n",
    "\n",
    "for i in range(len(reaction_list)):\n",
    "    if not hasattr(reaction_list[i], 'family'):\n",
    "        continue\n",
    "    family = reaction_list[i].family\n",
    "    src = database.kinetics.families[family].extract_source_from_comments(reaction_list[i])\n",
    "    sources[i] = src"
   ]
  },
  {
   "cell_type": "markdown",
   "id": "749bff5b",
   "metadata": {},
   "source": [
    "### Exact match for training reaction in family"
   ]
  },
  {
   "cell_type": "code",
   "execution_count": 5,
   "id": "12090cd1",
   "metadata": {},
   "outputs": [
    {
     "name": "stdout",
     "output_type": "stream",
     "text": [
      "0 Matched reaction 9 CH3 + CH3 <=> C2H6 in R_Recombination/training\n",
      "This reaction matched rate rule [Root_N-1R->H_N-1CNOS->N_N-1COS->O_1CS->C_N-1C-inRing]\n",
      "family: R_Recombination\n",
      "\n",
      "1 Matched reaction 215 C2H6 + CH3_r3 <=> C2H5b + CH4 in H_Abstraction/training\n",
      "This reaction matched rate rule [C/H3/Cs\\H3;C_methyl]\n",
      "family: H_Abstraction\n",
      "\n",
      "2 Matched reaction 10 CH3 + C2H5 <=> C3H8 in R_Recombination/training\n",
      "This reaction matched rate rule [Root_N-1R->H_N-1CNOS->N_N-1COS->O_1CS->C_N-1C-inRing_Ext-2R-R_Sp-3R!H-2R_3R!H->C_2R->C]\n",
      "family: R_Recombination\n",
      "\n",
      "3 Matched reaction 5 CH3_r1 + C2H5 <=> CH4 + C2H4 in Disproportionation/training\n",
      "This reaction matched rate rule [Root_N-4R->H_4CNOS-u1_N-1R!H->O_N-4CNOS->O_4CNS->C_1CNS->C_Sp-2R!H-1C_2R!H->C]\n",
      "family: Disproportionation\n",
      "\n",
      "4 Matched reaction 6 C2H5 + C2H5-2 <=> C2H6 + C2H4 in Disproportionation/training\n",
      "This reaction matched rate rule [Root_N-4R->H_4CNOS-u1_N-1R!H->O_N-4CNOS->O_Ext-4CNS-R_N-Sp-5R!H#4CCCNNNSSS_N-2R!H->S_N-5R!H->O_Sp-5CS-4CCNSS_1CNS->C]\n",
      "family: Disproportionation\n",
      "\n"
     ]
    }
   ],
   "source": [
    "# Exact match for training reaction\n",
    "# for i in range(len(reaction_list)):\n",
    "for i in range(5):\n",
    "    if i not in sources.keys():\n",
    "        continue\n",
    "    \n",
    "    src = sources[i]\n",
    "    exact_training_match = src[0]\n",
    "    family = src[1][0]\n",
    "    if exact_training_match:\n",
    "        print(i, reaction_list[i].kinetics.comment)\n",
    "        print()\n"
   ]
  },
  {
   "cell_type": "markdown",
   "id": "7828608b",
   "metadata": {},
   "source": [
    "### Autogenerated family node"
   ]
  },
  {
   "cell_type": "code",
   "execution_count": 6,
   "id": "2681dde1",
   "metadata": {},
   "outputs": [
    {
     "name": "stdout",
     "output_type": "stream",
     "text": [
      "8 Estimated from node Root_N-4R->H_4CNOS-u1_N-1R!H->O_N-4CNOS->O_Ext-4CNS-R_N-Sp-5R!H#4CCCNNNSSS_N-2R!H->S_N-5R!H->O_Sp-5CS-4CCNSS_1CNS->C_Ext-5CS-R\n",
      "Multiplied by reaction path degeneracy 3.0\n",
      "\n",
      "9 Estimated from node Root_N-1R->H_N-1CNOS->N_N-1COS->O_1CS->C_N-1C-inRing_Ext-2R-R_Ext-3R!H-R_N-Sp-3R!H=2R\n",
      "\n",
      "22 Estimated from node Root_Ext-1R!H-R_N-4R->O_N-Sp-5R!H=1R!H_Ext-4CHNS-R_N-6R!H->S_4CHNS->C_N- Sp-6BrBrBrCCCClClClFFFIIINNNOOOPPPSiSiSi#4C_6BrCClFINOPSi->C_N-1R!H-inRing_Sp-6C-4C_Ext-6C-R\n",
      "Multiplied by reaction path degeneracy 2.0\n",
      "\n",
      "23 Estimated from node Root_Ext-2R!H-R_2R!H->C_4R->C\n",
      "Multiplied by reaction path degeneracy 6.0\n",
      "\n",
      "24 Estimated from node Root_Ext-2R!H-R_2R!H->C_4R->C\n",
      "Multiplied by reaction path degeneracy 6.0\n",
      "\n"
     ]
    }
   ],
   "source": [
    "# Exact match for training reaction\n",
    "# for i in range(len(reaction_list)):\n",
    "for i in range(25):\n",
    "    if i not in sources.keys():\n",
    "        continue\n",
    "    \n",
    "    src = sources[i]\n",
    "    exact_training_match = src[0]\n",
    "    if exact_training_match:\n",
    "        continue\n",
    "    \n",
    "    if src[1][1]['node']:\n",
    "        print(i, reaction_list[i].kinetics.comment)\n",
    "        print()\n"
   ]
  },
  {
   "cell_type": "markdown",
   "id": "03401838",
   "metadata": {},
   "source": [
    "### Exact match for a family's rate rule"
   ]
  },
  {
   "cell_type": "code",
   "execution_count": 7,
   "id": "3d26703a",
   "metadata": {},
   "outputs": [
    {
     "name": "stdout",
     "output_type": "stream",
     "text": [
      "33 From training reaction 114 used for C/H3/Cs;C_methyl\n",
      "Exact match found for rate rule [C/H3/Cs;C_methyl]\n",
      "Euclidian distance = 0\n",
      "Multiplied by reaction path degeneracy 3.0\n",
      "family: H_Abstraction\n",
      "\n",
      "62 From training reaction 1566 used for Cd/H2/NonDeC;C_methyl\n",
      "Exact match found for rate rule [Cd/H2/NonDeC;C_methyl]\n",
      "Euclidian distance = 0\n",
      "Multiplied by reaction path degeneracy 2.0\n",
      "family: H_Abstraction\n",
      "\n",
      "63 From training reaction 343 used for Cd/H2/NonDeC;C_rad/H2/Cs\\H3\n",
      "Exact match found for rate rule [Cd/H2/NonDeC;C_rad/H2/Cs\\H3]\n",
      "Euclidian distance = 0\n",
      "Multiplied by reaction path degeneracy 2.0\n",
      "family: H_Abstraction\n",
      "\n",
      "66 From training reaction 1567 used for Cd/H2/NonDeC;C_rad/H/Cs\\H3/Cs\\H3\n",
      "Exact match found for rate rule [Cd/H2/NonDeC;C_rad/H/Cs\\H3/Cs\\H3]\n",
      "Euclidian distance = 0\n",
      "Multiplied by reaction path degeneracy 2.0\n",
      "family: H_Abstraction\n",
      "\n",
      "67 From training reaction 177 used for Cd/H2/NonDeC;Cd_Cd\\H2_pri_rad\n",
      "Exact match found for rate rule [Cd/H2/NonDeC;Cd_Cd\\H2_pri_rad]\n",
      "Euclidian distance = 0\n",
      "Multiplied by reaction path degeneracy 2.0\n",
      "family: H_Abstraction\n",
      "\n",
      "72 From training reaction 1569 used for Cd/H2/NonDeC;C_rad/H2/Cd\\H_Cd\\H2\n",
      "Exact match found for rate rule [Cd/H2/NonDeC;C_rad/H2/Cd\\H_Cd\\H2]\n",
      "Euclidian distance = 0\n",
      "Multiplied by reaction path degeneracy 4.0\n",
      "family: H_Abstraction\n",
      "\n",
      "85 From training reaction 1582 used for Cd/H2/NonDeC;Cd_Cd\\H2_rad/Cs\n",
      "Exact match found for rate rule [Cd/H2/NonDeC;Cd_Cd\\H2_rad/Cs]\n",
      "Euclidian distance = 0\n",
      "Multiplied by reaction path degeneracy 2.0\n",
      "family: H_Abstraction\n",
      "\n"
     ]
    }
   ],
   "source": [
    "# Exact match for training reaction -- this is how you get \n",
    "for i in range(len(reaction_list)):\n",
    "    if i not in sources.keys():\n",
    "        continue\n",
    "    \n",
    "    src = sources[i]\n",
    "    exact_training_match = src[0]\n",
    "    if exact_training_match:\n",
    "        continue\n",
    "    exact_rule_match = src[1][1]['exact']\n",
    "    family = src[1][0]\n",
    "    if exact_rule_match:\n",
    "        assert src[1][1]['rules']\n",
    "        print(i, reaction_list[i].kinetics.comment)\n",
    "        print()\n"
   ]
  },
  {
   "cell_type": "markdown",
   "id": "04c63bfd",
   "metadata": {},
   "source": [
    "### Combination of rate rules"
   ]
  },
  {
   "cell_type": "markdown",
   "id": "4489fdcf",
   "metadata": {},
   "source": [
    "#### Estimated using template\n",
    "\n",
    "This means the combination of groups does not exist as a rule, so we fell up one of the group subtrees to more generic groups until we found a rule that exists\n",
    "\n",
    "For example, there is no rate rule for [C/H3/Cs\\H2\\Cs;C_methyl], so you have to fall back to the more generic [C/H3/Cs\\OneNonDe;C_methyl] rule, which has data (only because it averaged up the nodes below it)."
   ]
  },
  {
   "cell_type": "code",
   "execution_count": 47,
   "id": "2ea970ed",
   "metadata": {},
   "outputs": [
    {
     "name": "stdout",
     "output_type": "stream",
     "text": [
      "6 Estimated using template [C/H3/Cs\\OneNonDe;C_methyl] for rate rule [C/H3/Cs\\H2\\Cs;C_methyl]\n",
      "Euclidian distance = 1.0\n",
      "Multiplied by reaction path degeneracy 6.0\n",
      "family: H_Abstraction\n",
      "\n",
      "36 Estimated using template [C/H3/Cs;C_rad/H2/Cs] for rate rule [C/H3/Cs\\H2\\Cs;C_rad/H2/Cs]\n",
      "Euclidian distance = 2.0\n",
      "Multiplied by reaction path degeneracy 12.0\n",
      "family: H_Abstraction\n",
      "\n",
      "65 Estimated using template [C/H3/Cs\\H2\\Cs;Cd_rad] for rate rule [C/H3/Cs\\H2\\Cs;Cd_Cd\\H\\Cs_pri_rad]\n",
      "Euclidian distance = 2.0\n",
      "Multiplied by reaction path degeneracy 6.0\n",
      "family: H_Abstraction\n",
      "\n"
     ]
    }
   ],
   "source": [
    "for i in range(len(reaction_list)):\n",
    "    if 'Estimated using template' in reaction_list[i].kinetics.comment:\n",
    "        print(i, reaction_list[i].kinetics.comment)\n",
    "        family = sources[i][1][0]\n",
    "        rule_entry_name = ';'.join([template.label for template in sources[i][1][1]['template']])\n",
    "        assert rule_entry_name not in database.kinetics.families[reaction_list[i].family].rules.entries\n",
    "        print()"
   ]
  },
  {
   "cell_type": "code",
   "execution_count": 49,
   "id": "775009af",
   "metadata": {},
   "outputs": [
    {
     "data": {
      "text/plain": [
       "ArrheniusEP(A=(0.666667,'cm^3/(mol*s)'), n=3.57, alpha=0, E0=(32287.9,'J/mol'), comment=\"\"\"Average of [From training reaction 232 used for C/H3/Cs\\H2\\O;C_methyl]\"\"\")"
      ]
     },
     "execution_count": 49,
     "metadata": {},
     "output_type": "execute_result"
    }
   ],
   "source": [
    "database.kinetics.families[reaction_list[6].family].rules.entries['C/H3/Cs\\OneNonDe;C_methyl'][0].data"
   ]
  },
  {
   "cell_type": "markdown",
   "id": "7ef59318",
   "metadata": {},
   "source": [
    "#### Estimated using average of templates\n",
    "\n",
    "This means the combination of groups does not match a rule entry, and we had to use more generic groups on both subtrees. The data is an average of the more generic rules matched on each subtree."
   ]
  },
  {
   "cell_type": "code",
   "execution_count": 50,
   "id": "d99353bb",
   "metadata": {},
   "outputs": [
    {
     "name": "stdout",
     "output_type": "stream",
     "text": [
      "18 Estimated using average of templates [C/H3/Cs;Cd_Cd\\H2_pri_rad] + [C/H3/Cs\\H2\\Cs;Cd_rad] for rate rule [C/H3/Cs\\H2\\Cs;Cd_Cd\\H2_pri_rad]\n",
      "Euclidian distance = 2.0\n",
      "Multiplied by reaction path degeneracy 6.0\n",
      "family: H_Abstraction\n",
      "\n"
     ]
    }
   ],
   "source": [
    "for i in range(len(reaction_list)):\n",
    "    if 'Estimated using average of templates' in reaction_list[i].kinetics.comment:\n",
    "        print(i, reaction_list[i].kinetics.comment)\n",
    "        print()"
   ]
  },
  {
   "cell_type": "markdown",
   "id": "27257550",
   "metadata": {},
   "source": [
    "#### Estimated using an average for rate rules\n",
    "\n",
    "This means that the original groups being queried exist as a rule on the tree, but that rule only has data because it averaged the results from other nodes. There are no training reactions matched most specifically to the given template."
   ]
  },
  {
   "cell_type": "code",
   "execution_count": 58,
   "id": "1211c39c",
   "metadata": {},
   "outputs": [
    {
     "name": "stdout",
     "output_type": "stream",
     "text": [
      "7 Estimated using an average for rate rule [C/H3/Cs\\H3;C_rad/H2/Cs]\n",
      "Euclidian distance = 0\n",
      "Multiplied by reaction path degeneracy 6.0\n",
      "family: H_Abstraction\n",
      "\n",
      "14 Estimated using an average for rate rule [C/H2/Cs\\H3/Cs\\H3;C_rad/H2/Cs]\n",
      "Euclidian distance = 0\n",
      "Multiplied by reaction path degeneracy 2.0\n",
      "family: H_Abstraction\n",
      "\n",
      "34 Estimated using an average for rate rule [C/H3/Cs\\H3;C_rad/H2/Cs]\n",
      "Euclidian distance = 0\n",
      "Multiplied by reaction path degeneracy 12.0\n",
      "family: H_Abstraction\n",
      "\n",
      "37 Estimated using an average for rate rule [C/H2/Cs\\H3/Cs\\H3;C_rad/H2/Cs]\n",
      "Euclidian distance = 0\n",
      "Multiplied by reaction path degeneracy 4.0\n",
      "family: H_Abstraction\n",
      "\n",
      "38 Estimated using an average for rate rule [R2radExo;Y_rad;XH_Rrad]\n",
      "Euclidian distance = 0\n",
      "Multiplied by reaction path degeneracy 4.0\n",
      "family: Intra_Disproportionation\n",
      "\n",
      "44 Estimated using an average for rate rule [C/H3/Cd\\H_Cd\\H2;C_rad/H2/Cs]\n",
      "Euclidian distance = 0\n",
      "Multiplied by reaction path degeneracy 3.0\n",
      "family: H_Abstraction\n",
      "\n",
      "55 Estimated using an average for rate rule [C/H3/Cd\\H_Cd\\H2;C_rad/H2/Cs]\n",
      "Euclidian distance = 0\n",
      "Multiplied by reaction path degeneracy 6.0\n",
      "family: H_Abstraction\n",
      "\n",
      "76 Estimated using an average for rate rule [C/H3/Cs\\H2\\Cs;Cd_Cd\\H2_rad/Cs]\n",
      "Euclidian distance = 0\n",
      "Multiplied by reaction path degeneracy 6.0\n",
      "family: H_Abstraction\n",
      "\n"
     ]
    }
   ],
   "source": [
    "for i in range(len(reaction_list)):\n",
    "    if 'Estimated using an average for rate rule' in reaction_list[i].kinetics.comment:\n",
    "        template_name = ';'.join([template.label for template in sources[i][1][1]['template']])\n",
    "        for j in range(len(database.kinetics.families[reaction_list[i].family].rules.entries[template_name])):\n",
    "            assert 'Average of' in database.kinetics.families[reaction_list[i].family].rules.entries[template_name][j].data.comment\n",
    "\n",
    "        print(i, reaction_list[i].kinetics.comment)\n",
    "        print()"
   ]
  },
  {
   "cell_type": "code",
   "execution_count": null,
   "id": "85e6364d",
   "metadata": {},
   "outputs": [],
   "source": []
  },
  {
   "cell_type": "code",
   "execution_count": 30,
   "id": "3995e0cb",
   "metadata": {},
   "outputs": [
    {
     "name": "stdout",
     "output_type": "stream",
     "text": [
      "6 Estimated using template [C/H3/Cs\\OneNonDe;C_methyl] for rate rule [C/H3/Cs\\H2\\Cs;C_methyl]\n",
      "Euclidian distance = 1.0\n",
      "Multiplied by reaction path degeneracy 6.0\n",
      "family: H_Abstraction\n",
      "\n",
      "7 Estimated using an average for rate rule [C/H3/Cs\\H3;C_rad/H2/Cs]\n",
      "Euclidian distance = 0\n",
      "Multiplied by reaction path degeneracy 6.0\n",
      "family: H_Abstraction\n",
      "\n",
      "14 Estimated using an average for rate rule [C/H2/Cs\\H3/Cs\\H3;C_rad/H2/Cs]\n",
      "Euclidian distance = 0\n",
      "Multiplied by reaction path degeneracy 2.0\n",
      "family: H_Abstraction\n",
      "\n",
      "18 Estimated using average of templates [C/H3/Cs;Cd_Cd\\H2_pri_rad] + [C/H3/Cs\\H2\\Cs;Cd_rad] for rate rule [C/H3/Cs\\H2\\Cs;Cd_Cd\\H2_pri_rad]\n",
      "Euclidian distance = 2.0\n",
      "Multiplied by reaction path degeneracy 6.0\n",
      "family: H_Abstraction\n",
      "\n",
      "34 Estimated using an average for rate rule [C/H3/Cs\\H3;C_rad/H2/Cs]\n",
      "Euclidian distance = 0\n",
      "Multiplied by reaction path degeneracy 12.0\n",
      "family: H_Abstraction\n",
      "\n",
      "36 Estimated using template [C/H3/Cs;C_rad/H2/Cs] for rate rule [C/H3/Cs\\H2\\Cs;C_rad/H2/Cs]\n",
      "Euclidian distance = 2.0\n",
      "Multiplied by reaction path degeneracy 12.0\n",
      "family: H_Abstraction\n",
      "\n",
      "37 Estimated using an average for rate rule [C/H2/Cs\\H3/Cs\\H3;C_rad/H2/Cs]\n",
      "Euclidian distance = 0\n",
      "Multiplied by reaction path degeneracy 4.0\n",
      "family: H_Abstraction\n",
      "\n",
      "38 Estimated using an average for rate rule [R2radExo;Y_rad;XH_Rrad]\n",
      "Euclidian distance = 0\n",
      "Multiplied by reaction path degeneracy 4.0\n",
      "family: Intra_Disproportionation\n",
      "\n",
      "44 Estimated using an average for rate rule [C/H3/Cd\\H_Cd\\H2;C_rad/H2/Cs]\n",
      "Euclidian distance = 0\n",
      "Multiplied by reaction path degeneracy 3.0\n",
      "family: H_Abstraction\n",
      "\n",
      "55 Estimated using an average for rate rule [C/H3/Cd\\H_Cd\\H2;C_rad/H2/Cs]\n",
      "Euclidian distance = 0\n",
      "Multiplied by reaction path degeneracy 6.0\n",
      "family: H_Abstraction\n",
      "\n",
      "65 Estimated using template [C/H3/Cs\\H2\\Cs;Cd_rad] for rate rule [C/H3/Cs\\H2\\Cs;Cd_Cd\\H\\Cs_pri_rad]\n",
      "Euclidian distance = 2.0\n",
      "Multiplied by reaction path degeneracy 6.0\n",
      "family: H_Abstraction\n",
      "\n",
      "76 Estimated using an average for rate rule [C/H3/Cs\\H2\\Cs;Cd_Cd\\H2_rad/Cs]\n",
      "Euclidian distance = 0\n",
      "Multiplied by reaction path degeneracy 6.0\n",
      "family: H_Abstraction\n",
      "\n"
     ]
    }
   ],
   "source": [
    "# Any other \"estimated using\"\n",
    "for i in range(len(reaction_list)):\n",
    "    if 'Estimated using ' in reaction_list[i].kinetics.comment:\n",
    "        print(i, reaction_list[i].kinetics.comment)\n",
    "        print()"
   ]
  },
  {
   "cell_type": "code",
   "execution_count": null,
   "id": "0c654425",
   "metadata": {},
   "outputs": [],
   "source": []
  },
  {
   "cell_type": "code",
   "execution_count": null,
   "id": "55986f85",
   "metadata": {},
   "outputs": [],
   "source": []
  }
 ],
 "metadata": {
  "kernelspec": {
   "display_name": "Python 3 (ipykernel)",
   "language": "python",
   "name": "python3"
  },
  "language_info": {
   "codemirror_mode": {
    "name": "ipython",
    "version": 3
   },
   "file_extension": ".py",
   "mimetype": "text/x-python",
   "name": "python",
   "nbconvert_exporter": "python",
   "pygments_lexer": "ipython3",
   "version": "3.7.12"
  }
 },
 "nbformat": 4,
 "nbformat_minor": 5
}
