{
 "cells": [
  {
   "cell_type": "code",
   "execution_count": 13,
   "id": "40291d37",
   "metadata": {},
   "outputs": [],
   "source": [
    "import os\n",
    "import sys\n",
    "import pickle\n",
    "import copy\n",
    "import numpy as np\n",
    "import rmgpy.chemkin\n",
    "import rmgpy\n",
    "import rmgpy.tools.uncertainty\n",
    "import rmgpy.kinetics.uncertainties\n",
    "\n",
    "import random\n",
    "\n",
    "import rmgpy.kinetics\n",
    "import matplotlib.pyplot as plt\n",
    "%matplotlib inline"
   ]
  },
  {
   "cell_type": "code",
   "execution_count": 2,
   "id": "dba69e90",
   "metadata": {},
   "outputs": [],
   "source": [
    "def plot_kinetics(rxns, labels=None):\n",
    "    \"\"\"Function for plotting reaction kinetics\n",
    "    Takes in a list of RMG reactions (rmgpy.reaction.Reaction) or a single reaction\n",
    "    \"\"\"\n",
    "    plt.xlabel('1000 / T (K^-1)')\n",
    "    plt.ylabel('log10(k)')\n",
    "\n",
    "    if type(rxns) != list:\n",
    "        rxns = [rxns]\n",
    "\n",
    "    T = np.linspace(300, 3000, 1001)\n",
    "    for rxn in rxns:\n",
    "        k = np.zeros(len(T))\n",
    "        for i in range(0, len(T)):\n",
    "            k[i] = rxn.get_rate_coefficient(T[i], 101325)\n",
    "        plt.plot(1000.0 / T, np.log10(k))\n",
    "\n",
    "    if labels:\n",
    "        plt.legend(labels)\n",
    "    plt.show()\n"
   ]
  },
  {
   "cell_type": "markdown",
   "id": "5fc272a5",
   "metadata": {},
   "source": [
    "## Load Database"
   ]
  },
  {
   "cell_type": "code",
   "execution_count": 3,
   "id": "061c14ec",
   "metadata": {},
   "outputs": [],
   "source": [
    "database = rmgpy.data.rmg.RMGDatabase()\n",
    "\n",
    "thermo_libraries = [\n",
    "    'Klippenstein_Glarborg2016',\n",
    "    'BurkeH2O2',\n",
    "    'thermo_DFT_CCSDTF12_BAC', \n",
    "    'DFT_QCI_thermo',\n",
    "    'primaryThermoLibrary',\n",
    "    'primaryNS',\n",
    "    'NitrogenCurran',\n",
    "    'NOx2018',\n",
    "    'FFCM1(-)',\n",
    "    'SulfurLibrary',\n",
    "    'SulfurGlarborgH2S',\n",
    "    'SABIC_aromatics',\n",
    "]\n",
    "\n",
    "database.load(\n",
    "    path = rmgpy.settings['database.directory'],\n",
    "    thermo_libraries = thermo_libraries,\n",
    "    transport_libraries = [],\n",
    "    reaction_libraries = [],\n",
    "    seed_mechanisms = [],#['BurkeH2O2inN2','ERC-FoundationFuelv0.9'],\n",
    "    kinetics_families = 'all',\n",
    "    kinetics_depositories = ['training'],\n",
    "    #frequenciesLibraries = self.statmechLibraries,\n",
    "    depository = False, # Don't bother loading the depository information, as we don't use it\n",
    ")"
   ]
  },
  {
   "cell_type": "code",
   "execution_count": 15,
   "id": "51a76486",
   "metadata": {},
   "outputs": [],
   "source": [
    "# Load the model\n",
    "\n",
    "# Must use annotated chemkin file\n",
    "chemkin_file = 'RMG-MAX1/chem_annotated.inp'\n",
    "dict_file = 'RMG-MAX1/species_dictionary.txt'\n",
    "\n",
    "species_list, reaction_list = rmgpy.chemkin.load_chemkin_file(chemkin_file, dict_file)\n"
   ]
  },
  {
   "cell_type": "code",
   "execution_count": null,
   "id": "453f8d9a",
   "metadata": {},
   "outputs": [],
   "source": []
  },
  {
   "cell_type": "code",
   "execution_count": null,
   "id": "3d2b3b2f",
   "metadata": {},
   "outputs": [],
   "source": []
  },
  {
   "cell_type": "code",
   "execution_count": null,
   "id": "93158fe3",
   "metadata": {},
   "outputs": [],
   "source": []
  },
  {
   "cell_type": "markdown",
   "id": "5bd2214f",
   "metadata": {},
   "source": [
    "# Rebuild tree to get training reactions in each node"
   ]
  },
  {
   "cell_type": "code",
   "execution_count": 5,
   "id": "b44ad053",
   "metadata": {},
   "outputs": [
    {
     "name": "stderr",
     "output_type": "stream",
     "text": [
      "WARNING: method definition for getreactionindices at /home/moon/anaconda3/envs/rmg_env/share/julia/packages/ReactionMechanismSimulator/ZxGcJ/src/Phase.jl:320 declares type variable Q but does not use it.\n",
      "WARNING: method definition for Inlet at /home/moon/anaconda3/envs/rmg_env/share/julia/packages/ReactionMechanismSimulator/ZxGcJ/src/Interface.jl:243 declares type variable B but does not use it.\n",
      "WARNING: method definition for #ConstantTPDomain#328 at /home/moon/anaconda3/envs/rmg_env/share/julia/packages/ReactionMechanismSimulator/ZxGcJ/src/Domain.jl:42 declares type variable W but does not use it.\n",
      "WARNING: method definition for #ConstantTPDomain#328 at /home/moon/anaconda3/envs/rmg_env/share/julia/packages/ReactionMechanismSimulator/ZxGcJ/src/Domain.jl:42 declares type variable Q but does not use it.\n",
      "WARNING: method definition for #ConstantTPDomain#328 at /home/moon/anaconda3/envs/rmg_env/share/julia/packages/ReactionMechanismSimulator/ZxGcJ/src/Domain.jl:42 declares type variable E but does not use it.\n",
      "WARNING: method definition for #ConstantVDomain#339 at /home/moon/anaconda3/envs/rmg_env/share/julia/packages/ReactionMechanismSimulator/ZxGcJ/src/Domain.jl:120 declares type variable Q but does not use it.\n",
      "WARNING: method definition for #ConstantPDomain#348 at /home/moon/anaconda3/envs/rmg_env/share/julia/packages/ReactionMechanismSimulator/ZxGcJ/src/Domain.jl:188 declares type variable Q but does not use it.\n",
      "WARNING: method definition for #ParametrizedTPDomain#357 at /home/moon/anaconda3/envs/rmg_env/share/julia/packages/ReactionMechanismSimulator/ZxGcJ/src/Domain.jl:257 declares type variable Q but does not use it.\n",
      "WARNING: method definition for #ParametrizedVDomain#366 at /home/moon/anaconda3/envs/rmg_env/share/julia/packages/ReactionMechanismSimulator/ZxGcJ/src/Domain.jl:337 declares type variable Q but does not use it.\n",
      "WARNING: method definition for #ParametrizedVDomain#366 at /home/moon/anaconda3/envs/rmg_env/share/julia/packages/ReactionMechanismSimulator/ZxGcJ/src/Domain.jl:337 declares type variable E but does not use it.\n",
      "WARNING: method definition for #ParametrizedPDomain#375 at /home/moon/anaconda3/envs/rmg_env/share/julia/packages/ReactionMechanismSimulator/ZxGcJ/src/Domain.jl:414 declares type variable Q but does not use it.\n",
      "WARNING: method definition for #ParametrizedPDomain#375 at /home/moon/anaconda3/envs/rmg_env/share/julia/packages/ReactionMechanismSimulator/ZxGcJ/src/Domain.jl:414 declares type variable E but does not use it.\n",
      "WARNING: method definition for #ConstantTVDomain#384 at /home/moon/anaconda3/envs/rmg_env/share/julia/packages/ReactionMechanismSimulator/ZxGcJ/src/Domain.jl:500 declares type variable W but does not use it.\n",
      "WARNING: method definition for #ConstantTVDomain#384 at /home/moon/anaconda3/envs/rmg_env/share/julia/packages/ReactionMechanismSimulator/ZxGcJ/src/Domain.jl:500 declares type variable Q but does not use it.\n",
      "WARNING: method definition for #ParametrizedTConstantVDomain#395 at /home/moon/anaconda3/envs/rmg_env/share/julia/packages/ReactionMechanismSimulator/ZxGcJ/src/Domain.jl:580 declares type variable Q but does not use it.\n",
      "WARNING: method definition for #ConstantTAPhiDomain#404 at /home/moon/anaconda3/envs/rmg_env/share/julia/packages/ReactionMechanismSimulator/ZxGcJ/src/Domain.jl:660 declares type variable W but does not use it.\n",
      "WARNING: method definition for #ConstantTAPhiDomain#404 at /home/moon/anaconda3/envs/rmg_env/share/julia/packages/ReactionMechanismSimulator/ZxGcJ/src/Domain.jl:660 declares type variable E but does not use it.\n",
      "WARNING: method definition for #FragmentBasedConstantTrhoDomain#413 at /home/moon/anaconda3/envs/rmg_env/share/julia/packages/ReactionMechanismSimulator/ZxGcJ/src/Domain.jl:747 declares type variable X3 but does not use it.\n",
      "WARNING: method definition for #FragmentBasedConstantTrhoDomain#413 at /home/moon/anaconda3/envs/rmg_env/share/julia/packages/ReactionMechanismSimulator/ZxGcJ/src/Domain.jl:747 declares type variable E1 but does not use it.\n",
      "WARNING: method definition for #FragmentBasedConstantTrhoDomain#413 at /home/moon/anaconda3/envs/rmg_env/share/julia/packages/ReactionMechanismSimulator/ZxGcJ/src/Domain.jl:747 declares type variable X1 but does not use it.\n",
      "WARNING: method definition for #ConstantTLiqFilmDomain#422 at /home/moon/anaconda3/envs/rmg_env/share/julia/packages/ReactionMechanismSimulator/ZxGcJ/src/Domain.jl:848 declares type variable W but does not use it.\n",
      "WARNING: method definition for #ConstantTLiqFilmDomain#422 at /home/moon/anaconda3/envs/rmg_env/share/julia/packages/ReactionMechanismSimulator/ZxGcJ/src/Domain.jl:848 declares type variable Q but does not use it.\n",
      "WARNING: method definition for calcthermo at /home/moon/anaconda3/envs/rmg_env/share/julia/packages/ReactionMechanismSimulator/ZxGcJ/src/Domain.jl:1563 declares type variable J but does not use it.\n",
      "WARNING: method definition for calcthermo at /home/moon/anaconda3/envs/rmg_env/share/julia/packages/ReactionMechanismSimulator/ZxGcJ/src/Domain.jl:1635 declares type variable J but does not use it.\n",
      "WARNING: method definition for calcthermo at /home/moon/anaconda3/envs/rmg_env/share/julia/packages/ReactionMechanismSimulator/ZxGcJ/src/Domain.jl:1722 declares type variable J but does not use it.\n",
      "WARNING: method definition for calcthermo at /home/moon/anaconda3/envs/rmg_env/share/julia/packages/ReactionMechanismSimulator/ZxGcJ/src/Domain.jl:1801 declares type variable J but does not use it.\n",
      "WARNING: method definition for #calcdomainderivatives!#477 at /home/moon/anaconda3/envs/rmg_env/share/julia/packages/ReactionMechanismSimulator/ZxGcJ/src/Domain.jl:1839 declares type variable Y but does not use it.\n",
      "WARNING: method definition for #calcdomainderivatives!#477 at /home/moon/anaconda3/envs/rmg_env/share/julia/packages/ReactionMechanismSimulator/ZxGcJ/src/Domain.jl:1839 declares type variable W but does not use it.\n",
      "WARNING: method definition for #calcdomainderivatives!#478 at /home/moon/anaconda3/envs/rmg_env/share/julia/packages/ReactionMechanismSimulator/ZxGcJ/src/Domain.jl:1863 declares type variable Y but does not use it.\n",
      "WARNING: method definition for #calcdomainderivatives!#478 at /home/moon/anaconda3/envs/rmg_env/share/julia/packages/ReactionMechanismSimulator/ZxGcJ/src/Domain.jl:1863 declares type variable W but does not use it.\n",
      "WARNING: method definition for jacobianpnsderiv! at /home/moon/anaconda3/envs/rmg_env/share/julia/packages/ReactionMechanismSimulator/ZxGcJ/src/Domain.jl:3095 declares type variable Q3 but does not use it.\n",
      "WARNING: method definition for jacobianpnsderiv! at /home/moon/anaconda3/envs/rmg_env/share/julia/packages/ReactionMechanismSimulator/ZxGcJ/src/Domain.jl:3204 declares type variable Q3 but does not use it.\n",
      "WARNING: method definition for jacobianpnsderiv! at /home/moon/anaconda3/envs/rmg_env/share/julia/packages/ReactionMechanismSimulator/ZxGcJ/src/Domain.jl:3290 declares type variable Q3 but does not use it.\n",
      "WARNING: method definition for #Reactor#612 at /home/moon/anaconda3/envs/rmg_env/share/julia/packages/ReactionMechanismSimulator/ZxGcJ/src/Reactor.jl:255 declares type variable F but does not use it.\n",
      "WARNING: method definition for addreactionratecontributions! at /home/moon/anaconda3/envs/rmg_env/share/julia/packages/ReactionMechanismSimulator/ZxGcJ/src/Reactor.jl:448 declares type variable T but does not use it.\n",
      "WARNING: method definition for addreactionratecontributions! at /home/moon/anaconda3/envs/rmg_env/share/julia/packages/ReactionMechanismSimulator/ZxGcJ/src/Reactor.jl:492 declares type variable W2 but does not use it.\n",
      "WARNING: method definition for addreactionratecontributions! at /home/moon/anaconda3/envs/rmg_env/share/julia/packages/ReactionMechanismSimulator/ZxGcJ/src/Reactor.jl:492 declares type variable T but does not use it.\n",
      "WARNING: method definition for addreactionratecontributions! at /home/moon/anaconda3/envs/rmg_env/share/julia/packages/ReactionMechanismSimulator/ZxGcJ/src/Reactor.jl:539 declares type variable T but does not use it.\n",
      "WARNING: method definition for addreactionratecontributionsforwardreverse! at /home/moon/anaconda3/envs/rmg_env/share/julia/packages/ReactionMechanismSimulator/ZxGcJ/src/Reactor.jl:584 declares type variable T but does not use it.\n",
      "WARNING: method definition for jacobianyforwarddiff at /home/moon/anaconda3/envs/rmg_env/share/julia/packages/ReactionMechanismSimulator/ZxGcJ/src/Reactor.jl:772 declares type variable Q but does not use it.\n",
      "WARNING: method definition for jacobianpforwarddiff at /home/moon/anaconda3/envs/rmg_env/share/julia/packages/ReactionMechanismSimulator/ZxGcJ/src/Reactor.jl:824 declares type variable Q but does not use it.\n",
      "WARNING: method definition for sensg at /home/moon/anaconda3/envs/rmg_env/share/julia/packages/ReactionMechanismSimulator/ZxGcJ/src/Simulation.jl:552 declares type variable V but does not use it.\n",
      "WARNING: method definition for sensg at /home/moon/anaconda3/envs/rmg_env/share/julia/packages/ReactionMechanismSimulator/ZxGcJ/src/Simulation.jl:552 declares type variable Q but does not use it.\n",
      "WARNING: method definition for sensg at /home/moon/anaconda3/envs/rmg_env/share/julia/packages/ReactionMechanismSimulator/ZxGcJ/src/Simulation.jl:558 declares type variable V but does not use it.\n",
      "WARNING: method definition for sensg at /home/moon/anaconda3/envs/rmg_env/share/julia/packages/ReactionMechanismSimulator/ZxGcJ/src/Simulation.jl:558 declares type variable Q but does not use it.\n",
      "WARNING: method definition for sensg at /home/moon/anaconda3/envs/rmg_env/share/julia/packages/ReactionMechanismSimulator/ZxGcJ/src/Simulation.jl:564 declares type variable V but does not use it.\n",
      "WARNING: method definition for sensg at /home/moon/anaconda3/envs/rmg_env/share/julia/packages/ReactionMechanismSimulator/ZxGcJ/src/Simulation.jl:564 declares type variable Q but does not use it.\n",
      "WARNING: method definition for sensg at /home/moon/anaconda3/envs/rmg_env/share/julia/packages/ReactionMechanismSimulator/ZxGcJ/src/Simulation.jl:570 declares type variable V but does not use it.\n",
      "WARNING: method definition for sensg at /home/moon/anaconda3/envs/rmg_env/share/julia/packages/ReactionMechanismSimulator/ZxGcJ/src/Simulation.jl:570 declares type variable Q but does not use it.\n",
      "WARNING: method definition for g at /home/moon/anaconda3/envs/rmg_env/share/julia/packages/ReactionMechanismSimulator/ZxGcJ/src/Simulation.jl:577 declares type variable V but does not use it.\n",
      "WARNING: method definition for g at /home/moon/anaconda3/envs/rmg_env/share/julia/packages/ReactionMechanismSimulator/ZxGcJ/src/Simulation.jl:577 declares type variable Q but does not use it.\n",
      "WARNING: method definition for g at /home/moon/anaconda3/envs/rmg_env/share/julia/packages/ReactionMechanismSimulator/ZxGcJ/src/Simulation.jl:581 declares type variable V but does not use it.\n",
      "WARNING: method definition for g at /home/moon/anaconda3/envs/rmg_env/share/julia/packages/ReactionMechanismSimulator/ZxGcJ/src/Simulation.jl:581 declares type variable Q but does not use it.\n",
      "WARNING: method definition for g at /home/moon/anaconda3/envs/rmg_env/share/julia/packages/ReactionMechanismSimulator/ZxGcJ/src/Simulation.jl:585 declares type variable V but does not use it.\n",
      "WARNING: method definition for g at /home/moon/anaconda3/envs/rmg_env/share/julia/packages/ReactionMechanismSimulator/ZxGcJ/src/Simulation.jl:585 declares type variable Q but does not use it.\n",
      "WARNING: method definition for g at /home/moon/anaconda3/envs/rmg_env/share/julia/packages/ReactionMechanismSimulator/ZxGcJ/src/Simulation.jl:589 declares type variable V but does not use it.\n",
      "WARNING: method definition for g at /home/moon/anaconda3/envs/rmg_env/share/julia/packages/ReactionMechanismSimulator/ZxGcJ/src/Simulation.jl:589 declares type variable Q but does not use it.\n",
      "WARNING: method definition for g at /home/moon/anaconda3/envs/rmg_env/share/julia/packages/ReactionMechanismSimulator/ZxGcJ/src/Simulation.jl:644 declares type variable V but does not use it.\n",
      "WARNING: method definition for g at /home/moon/anaconda3/envs/rmg_env/share/julia/packages/ReactionMechanismSimulator/ZxGcJ/src/Simulation.jl:644 declares type variable Q but does not use it.\n",
      "WARNING: method definition for g at /home/moon/anaconda3/envs/rmg_env/share/julia/packages/ReactionMechanismSimulator/ZxGcJ/src/Simulation.jl:648 declares type variable V but does not use it.\n",
      "WARNING: method definition for g at /home/moon/anaconda3/envs/rmg_env/share/julia/packages/ReactionMechanismSimulator/ZxGcJ/src/Simulation.jl:648 declares type variable Q but does not use it.\n",
      "WARNING: method definition for g at /home/moon/anaconda3/envs/rmg_env/share/julia/packages/ReactionMechanismSimulator/ZxGcJ/src/Simulation.jl:652 declares type variable V but does not use it.\n",
      "WARNING: method definition for g at /home/moon/anaconda3/envs/rmg_env/share/julia/packages/ReactionMechanismSimulator/ZxGcJ/src/Simulation.jl:652 declares type variable Q but does not use it.\n",
      "WARNING: method definition for g at /home/moon/anaconda3/envs/rmg_env/share/julia/packages/ReactionMechanismSimulator/ZxGcJ/src/Simulation.jl:656 declares type variable V but does not use it.\n",
      "WARNING: method definition for g at /home/moon/anaconda3/envs/rmg_env/share/julia/packages/ReactionMechanismSimulator/ZxGcJ/src/Simulation.jl:656 declares type variable Q but does not use it.\n",
      "WARNING: method definition for #plotradicalrops#942 at /home/moon/anaconda3/envs/rmg_env/share/julia/packages/ReactionMechanismSimulator/ZxGcJ/src/Plotting.jl:371 declares type variable X but does not use it.\n",
      "WARNING: method definition for checkbounds at /home/moon/anaconda3/envs/rmg_env/share/julia/packages/Interpolations/y4lLj/src/Interpolations.jl:454 declares type variable N but does not use it.\n",
      "WARNING: method definition for checkbounds at /home/moon/anaconda3/envs/rmg_env/share/julia/packages/Interpolations/y4lLj/src/Interpolations.jl:457 declares type variable N but does not use it.\n",
      "WARNING: method definition for GriddedInterpolation at /home/moon/anaconda3/envs/rmg_env/share/julia/packages/Interpolations/y4lLj/src/gridded/gridded.jl:37 declares type variable pad but does not use it.\n",
      "WARNING: method definition for GriddedInterpolation at /home/moon/anaconda3/envs/rmg_env/share/julia/packages/Interpolations/y4lLj/src/gridded/gridded.jl:60 declares type variable pad but does not use it.\n",
      "WARNING: method definition for interpolate! at /home/moon/anaconda3/envs/rmg_env/share/julia/packages/Interpolations/y4lLj/src/deprecations.jl:30 declares type variable TWeights but does not use it.\n"
     ]
    }
   ],
   "source": [
    "# Create a giant dictionary with all of the reaction family information in it\n",
    "auto_gen_families = {}\n",
    "# for family_name in database.kinetics.families.keys():\n",
    "for family_name in ['Disproportionation']:\n",
    "    if family_name == 'Intra_R_Add_Endocyclic' or family_name == 'Intra_R_Add_Exocyclic':\n",
    "        continue\n",
    "    if database.kinetics.families[family_name].auto_generated and family_name not in auto_gen_families.keys():\n",
    "        auto_gen_families[family_name] = database.kinetics.families[family_name].rules.get_entries()\n",
    "        auto_gen_families[f'{family_name}_labels'] = [entry.label for entry in database.kinetics.families[family_name].rules.get_entries()]\n",
    "        auto_gen_families[f'{family_name}_rxn_map'] = database.kinetics.families[family_name].get_reaction_matches(\n",
    "            thermo_database=database.thermo,\n",
    "            remove_degeneracy=True,\n",
    "            get_reverse=True,\n",
    "            exact_matches_only=False,\n",
    "            fix_labels=True)\n"
   ]
  },
  {
   "cell_type": "code",
   "execution_count": null,
   "id": "538c02e9",
   "metadata": {},
   "outputs": [],
   "source": []
  },
  {
   "cell_type": "code",
   "execution_count": null,
   "id": "0f278fd5",
   "metadata": {},
   "outputs": [],
   "source": []
  },
  {
   "cell_type": "code",
   "execution_count": null,
   "id": "526c2ee9",
   "metadata": {},
   "outputs": [],
   "source": []
  },
  {
   "cell_type": "code",
   "execution_count": 7,
   "id": "75b9ee48",
   "metadata": {},
   "outputs": [],
   "source": [
    "# Want to see if I can reproduce a node's rule using a recently regenerated Disproportionation Tree\n",
    "\n",
    "nodes = list(database.kinetics.families['Disproportionation'].rules.entries)\n",
    "\n",
    "node = nodes[0]\n",
    "node = 'Root_Ext-1R!H-R_4R->O'\n",
    "\n",
    "rxns = auto_gen_families['Disproportionation_rxn_map'][node]\n",
    "\n",
    "\n",
    "recipe = database.kinetics.families['Disproportionation'].forward_recipe\n",
    "kin = rmgpy.kinetics.arrhenius.ArrheniusBM().fit_to_reactions(rxns, recipe=recipe.actions)"
   ]
  },
  {
   "cell_type": "code",
   "execution_count": 8,
   "id": "22981347",
   "metadata": {},
   "outputs": [
    {
     "data": {
      "text/plain": [
       "ArrheniusBM(A=(6.66628e+17,'m^3/(mol*s)'), n=-3.63731, w0=(563000,'J/mol'), E0=(85735.5,'J/mol'), Tmin=(300,'K'), Tmax=(2000,'K'), comment=\"\"\"Fitted to 12 reactions at temperatures: [300.0, 500.0, 600.0, 700.0, 800.0, 900.0, 1000.0, 1100.0, 1200.0, 1500.0, 2000.0]\"\"\")"
      ]
     },
     "execution_count": 8,
     "metadata": {},
     "output_type": "execute_result"
    }
   ],
   "source": [
    "kin"
   ]
  },
  {
   "cell_type": "code",
   "execution_count": 9,
   "id": "37b4fe20",
   "metadata": {},
   "outputs": [
    {
     "data": {
      "text/plain": [
       "ArrheniusBM(A=(6.66628e+17,'m^3/(mol*s)'), n=-3.63731, w0=(563000,'J/mol'), E0=(85735.5,'J/mol'), Tmin=(300,'K'), Tmax=(2000,'K'), uncertainty=RateUncertainty(mu=0.20739942627141006, var=2.6655742044913753, Tref=1000.0, N=12, data_mean=0.0, correlation='Root_Ext-1R!H-R_4R->O',), comment=\"\"\"BM rule fitted to 12 training reactions at node Root_Ext-1R!H-R_4R->O\n",
       "    Total Standard Deviation in ln(k): 3.7941521125402273\"\"\")"
      ]
     },
     "execution_count": 9,
     "metadata": {},
     "output_type": "execute_result"
    }
   ],
   "source": [
    "database.kinetics.families['Disproportionation'].rules.entries[node][0].data"
   ]
  },
  {
   "cell_type": "code",
   "execution_count": null,
   "id": "de843bb3",
   "metadata": {},
   "outputs": [],
   "source": []
  },
  {
   "cell_type": "code",
   "execution_count": null,
   "id": "5d2d6217",
   "metadata": {},
   "outputs": [],
   "source": []
  },
  {
   "cell_type": "code",
   "execution_count": null,
   "id": "a8740ba5",
   "metadata": {},
   "outputs": [],
   "source": [
    "recipe = database.kinetics.families['Disproportionation'].forward_recipe\n",
    "rxns = auto_gen_families['Disproportionation_rxn_map'][node]\n",
    "rxns = np.array(rxns)\n",
    "\n",
    "label = node\n",
    "Tref = 1000.0\n",
    "data_mean = np.mean(np.log([r.kinetics.get_rate_coefficient(Tref) for r in rxns]))\n",
    "\n",
    "n = len(rxns)\n",
    "\n",
    "dlnks = np.array([\n",
    "    np.log(\n",
    "        rmgpy.kinetics.arrhenius.ArrheniusBM().fit_to_reactions(rxns[list(set(range(len(rxns))) - {i})], recipe=recipe.actions)\n",
    "        .to_arrhenius(rxn.get_enthalpy_of_reaction(Tref))\n",
    "        .get_rate_coefficient(T=Tref) / rxn.get_rate_coefficient(T=Tref)\n",
    "    ) for i, rxn in enumerate(rxns)\n",
    "])\n",
    "\n",
    "\n",
    "varis = (np.array([rmgpy.kinetics.uncertainties.rank_accuracy_map[rxn.rank].value_si for rxn in rxns]) / (2.0 * 8.314 * Tref)) ** 2\n",
    "# weighted average calculations\n",
    "ws = 1.0 / varis\n",
    "V1 = ws.sum()\n",
    "V2 = (ws ** 2).sum()\n",
    "mu = np.dot(ws, dlnks) / V1\n",
    "s = np.sqrt(np.dot(ws, (dlnks - mu) ** 2) / (V1 - V2 / V1))\n",
    "\n",
    "kin_uncertainty = rmgpy.kinetics.uncertainties.RateUncertainty(mu=mu, var=s ** 2, N=n, Tref=Tref, data_mean=data_mean, correlation=label)\n",
    "\n",
    "\n",
    "print(kin_uncertainty)"
   ]
  },
  {
   "cell_type": "code",
   "execution_count": null,
   "id": "b609865c",
   "metadata": {},
   "outputs": [],
   "source": [
    "kin_uncertainty.get_expected_log_uncertainty()"
   ]
  },
  {
   "cell_type": "code",
   "execution_count": null,
   "id": "62c3f857",
   "metadata": {},
   "outputs": [],
   "source": [
    "kin_uncertainty.get_expected_log_uncertainty() / .398"
   ]
  },
  {
   "cell_type": "code",
   "execution_count": 27,
   "id": "d5f7df32",
   "metadata": {},
   "outputs": [
    {
     "data": {
      "text/plain": [
       "{'template': '',\n",
       " 'degeneracy': 2.0,\n",
       " 'exact': False,\n",
       " 'rules': '',\n",
       " 'training': '',\n",
       " 'node': 'Root_Ext-1R!H-R_4R->O'}"
      ]
     },
     "execution_count": 27,
     "metadata": {},
     "output_type": "execute_result"
    }
   ],
   "source": [
    "source[1][1]"
   ]
  },
  {
   "cell_type": "markdown",
   "id": "a1f0ffff",
   "metadata": {},
   "source": [
    "# Plot Kinetics of a node"
   ]
  },
  {
   "cell_type": "code",
   "execution_count": 35,
   "id": "9a31bf67",
   "metadata": {},
   "outputs": [
    {
     "name": "stdout",
     "output_type": "stream",
     "text": [
      "Node: Root_Ext-1R!H-R_4R->O\n",
      "62.1324 kJ/mol\t\t0\n",
      "0 kJ/mol\t\t0\n",
      "0 kJ/mol\t\t0\n",
      "0 kJ/mol\t\t0\n",
      "56.6932 kJ/mol\t\t0\n",
      "25.104 kJ/mol\t\t0\n",
      "0 kJ/mol\t\t0\n",
      "0 kJ/mol\t\t0\n",
      "0 kJ/mol\t\t0\n",
      "0 kJ/mol\t\t0\n",
      "0 kJ/mol\t\t0\n",
      "0 kJ/mol\t\t0\n",
      "Reactions Estimated with node: 0\n"
     ]
    },
    {
     "data": {
      "image/png": "[encoded data removed]",
      "text/plain": [
       "<Figure size 640x480 with 1 Axes>"
      ]
     },
     "metadata": {},
     "output_type": "display_data"
    }
   ],
   "source": [
    "# Given a node, I want to plot all the kinetics, the average kinetics, and the std_dev\n",
    "family = 'Disproportionation'\n",
    "\n",
    "colors = plt.rcParams['axes.prop_cycle'].by_key()['color']\n",
    "# node = list(auto_gen_families[f'{family}_rxn_map'].keys())[44]\n",
    "node = 'Root_Ext-1R!H-R_4R->O'\n",
    "\n",
    "# # Find nodes that matter\n",
    "# for a in range(len(list(auto_gen_families[f'{family}_rxn_map'].keys()))):\n",
    "#     node = list(auto_gen_families[f'{family}_rxn_map'].keys())[a]\n",
    "#     reaction_indices = []\n",
    "#     for z in range(len(reaction_list)):\n",
    "#         if not hasattr(reaction_list[z], 'family') or reaction_list[z].family != family:\n",
    "#             continue\n",
    "#         source = database.kinetics.families[family].extract_source_from_comments(reaction_list[z])\n",
    "#         if source[0]:\n",
    "#             continue  # exact match\n",
    "#         if source[1][1]['node'] == node:\n",
    "#             reaction_indices.append(z)\n",
    "#     if len(reaction_indices) > 0:\n",
    "#         print(a, len(reaction_indices))\n",
    "\n",
    "\n",
    "\n",
    "print(f'Node: {node}')\n",
    "plt.xlabel('1000 / T (K^-1)')\n",
    "plt.ylabel('k')\n",
    "\n",
    "\n",
    "T = np.linspace(300, 3000, 1001)\n",
    "for z in range(len(auto_gen_families[f'{family}_rxn_map'][node])):\n",
    "    rxn = auto_gen_families[f'{family}_rxn_map'][node][z]\n",
    "    k = np.zeros(len(T))\n",
    "    for j in range(0, len(T)):\n",
    "        assert type(rxn.kinetics) == rmgpy.kinetics.arrhenius.Arrhenius\n",
    "        k[j] = rxn.get_rate_coefficient(T[j])\n",
    "    plt.plot(1000.0 / T, k, label=z, color=colors[0], alpha=0.5)\n",
    "    print(f'{rxn.kinetics.Ea}\\t\\t{rxn.kinetics.n}')\n",
    "    \n",
    "    \n",
    "# Also plot the average of the kinetics? Except that isn't even relevant to the BM tree?\n",
    "# It's an approximation. Good enough for just looking at the trees\n",
    "\n",
    "# Maybe I plot the reactions that are estimated using that node...\n",
    "reaction_indices = []\n",
    "for z in range(len(reaction_list)):\n",
    "    if not hasattr(reaction_list[z], 'family') or reaction_list[z].family != family:\n",
    "        continue\n",
    "    source = database.kinetics.families[family].extract_source_from_comments(reaction_list[z])\n",
    "    if source[0]:\n",
    "        continue  # exact match\n",
    "    if source[1][1]['node'] == node:\n",
    "        # plot this reaction\n",
    "        rxn = reaction_list[z]\n",
    "        k = np.zeros(len(T))\n",
    "        for j in range(0, len(T)):\n",
    "            assert type(rxn.kinetics) == rmgpy.kinetics.arrhenius.Arrhenius\n",
    "            k[j] = rxn.get_rate_coefficient(T[j])\n",
    "        plt.plot(1000.0 / T, k, label=z, color='black', alpha=0.1)\n",
    "                \n",
    "#                 break\n",
    "#                 print(z)\n",
    "print(f'Reactions Estimated with node: {len(reaction_indices)}')            \n",
    "    \n",
    "plt.yscale('log')\n",
    "\n",
    "# plt.legend()\n",
    "plt.show()\n",
    "\n",
    "\n",
    "\n"
   ]
  },
  {
   "cell_type": "code",
   "execution_count": 38,
   "id": "ce3863cd",
   "metadata": {},
   "outputs": [
    {
     "name": "stdout",
     "output_type": "stream",
     "text": [
      "62.1324 kJ/mol\t\t0\n",
      "0 kJ/mol\t\t0\n",
      "0 kJ/mol\t\t0\n",
      "0 kJ/mol\t\t0\n",
      "56.6932 kJ/mol\t\t0\n",
      "25.104 kJ/mol\t\t0\n",
      "0 kJ/mol\t\t0\n",
      "0 kJ/mol\t\t0\n",
      "0 kJ/mol\t\t0\n",
      "0 kJ/mol\t\t0\n",
      "0 kJ/mol\t\t0\n",
      "0 kJ/mol\t\t0\n"
     ]
    }
   ],
   "source": [
    "# Try getting a different fit:\n",
    "\n",
    "node = 'Root_Ext-1R!H-R_4R->O'\n",
    "rxns = auto_gen_families['Disproportionation_rxn_map'][node]\n",
    "\n",
    "\n",
    "[print(f'{rxn.kinetics.Ea}\\t\\t{rxn.kinetics.n}') for rxn in rxns] \n",
    "\n",
    "recipe = database.kinetics.families['Disproportionation'].forward_recipe\n",
    "kin = rmgpy.kinetics.arrhenius.ArrheniusBM().fit_to_reactions(rxns, recipe=recipe.actions)\n"
   ]
  },
  {
   "cell_type": "code",
   "execution_count": 39,
   "id": "34b742b0",
   "metadata": {},
   "outputs": [
    {
     "data": {
      "text/plain": [
       "ArrheniusBM(A=(6.66628e+17,'m^3/(mol*s)'), n=-3.63731, w0=(563000,'J/mol'), E0=(85735.5,'J/mol'), Tmin=(300,'K'), Tmax=(2000,'K'), comment=\"\"\"Fitted to 12 reactions at temperatures: [300.0, 500.0, 600.0, 700.0, 800.0, 900.0, 1000.0, 1100.0, 1200.0, 1500.0, 2000.0]\"\"\")"
      ]
     },
     "execution_count": 39,
     "metadata": {},
     "output_type": "execute_result"
    }
   ],
   "source": [
    "kin"
   ]
  },
  {
   "cell_type": "code",
   "execution_count": 40,
   "id": "8588bc65",
   "metadata": {},
   "outputs": [],
   "source": [
    "kin2 = rmgpy.kinetics.arrhenius.ArrheniusBM().fit_to_reactions(rxns, recipe=recipe.actions, b0=0.0)"
   ]
  },
  {
   "cell_type": "code",
   "execution_count": 41,
   "id": "90a01465",
   "metadata": {},
   "outputs": [
    {
     "data": {
      "text/plain": [
       "ArrheniusBM(A=(6.66628e+17,'m^3/(mol*s)'), n=-3.63731, w0=(563000,'J/mol'), E0=(85735.5,'J/mol'), Tmin=(300,'K'), Tmax=(2000,'K'), comment=\"\"\"Fitted to 12 reactions at temperatures: [300.0, 500.0, 600.0, 700.0, 800.0, 900.0, 1000.0, 1100.0, 1200.0, 1500.0, 2000.0]\"\"\")"
      ]
     },
     "execution_count": 41,
     "metadata": {},
     "output_type": "execute_result"
    }
   ],
   "source": [
    "kin2"
   ]
  },
  {
   "cell_type": "code",
   "execution_count": null,
   "id": "6659db3a",
   "metadata": {},
   "outputs": [],
   "source": []
  },
  {
   "cell_type": "code",
   "execution_count": null,
   "id": "067a30b6",
   "metadata": {},
   "outputs": [],
   "source": [
    "# plot the leave one out version"
   ]
  },
  {
   "cell_type": "code",
   "execution_count": 61,
   "id": "319bc9d6",
   "metadata": {},
   "outputs": [
    {
     "data": {
      "image/png": "[encoded data removed]",
      "text/plain": [
       "<Figure size 640x480 with 1 Axes>"
      ]
     },
     "metadata": {},
     "output_type": "display_data"
    }
   ],
   "source": [
    "# Given a node, I want to plot all the kinetics, the average kinetics, and the std_dev\n",
    "family = 'Disproportionation'\n",
    "colors = plt.rcParams['axes.prop_cycle'].by_key()['color']\n",
    "node = 'Root_Ext-1R!H-R_4R->O'\n",
    "\n",
    "left_out_index = 11\n",
    "\n",
    "Tref = 1000.0\n",
    "T = np.linspace(300, 3000, 1001)\n",
    "for z in range(len(auto_gen_families[f'{family}_rxn_map'][node])):\n",
    "    rxn = auto_gen_families[f'{family}_rxn_map'][node][z]\n",
    "    k = np.zeros(len(T))\n",
    "    for j in range(0, len(T)):\n",
    "        assert type(rxn.kinetics) == rmgpy.kinetics.arrhenius.Arrhenius\n",
    "        k[j] = rxn.get_rate_coefficient(T[j])\n",
    "    if z == left_out_index:\n",
    "        plt.plot(1000.0 / T, k, color='black', label='Original Left Out')\n",
    "    elif z == (left_out_index + 1) % len(auto_gen_families[f'{family}_rxn_map'][node]):\n",
    "        plt.plot(1000.0 / T, k, label='Training Reactions', color=colors[0], alpha=0.5)\n",
    "    else:\n",
    "        plt.plot(1000.0 / T, k, label='_nolegend_', color=colors[0], alpha=0.5)\n",
    "#     print(f'{rxn.kinetics.Ea}\\t\\t{rxn.kinetics.n}')\n",
    "     \n",
    "plt.yscale('log')\n",
    "\n",
    "\n",
    "# Estimate the kinetics leaving out that reaction\n",
    "rxns = np.array(rxns)\n",
    "recipe = database.kinetics.families['Disproportionation'].forward_recipe\n",
    "left_out_kin_BM = rmgpy.kinetics.arrhenius.ArrheniusBM().fit_to_reactions(rxns[list(set(range(len(rxns))) - {left_out_index})], recipe=recipe.actions)\n",
    "\n",
    "left_out_kin = left_out_kin_BM.to_arrhenius(rxns[left_out_index].get_enthalpy_of_reaction(Tref))\n",
    "\n",
    "k = np.zeros(len(T))\n",
    "for j in range(0, len(T)):\n",
    "    k[j] = left_out_kin.get_rate_coefficient(T[j])\n",
    "plt.plot(1000.0 / T, k, label='Left out Estimated', color=colors[1])\n",
    "\n",
    "plt.legend()\n",
    "plt.show()"
   ]
  },
  {
   "cell_type": "code",
   "execution_count": 48,
   "id": "90cb9d03",
   "metadata": {},
   "outputs": [
    {
     "data": {
      "text/plain": [
       "ArrheniusBM(A=(3.93449e+18,'m^3/(mol*s)'), n=-3.89708, w0=(563000,'J/mol'), E0=(84001,'J/mol'), Tmin=(300,'K'), Tmax=(2000,'K'), comment=\"\"\"Fitted to 11 reactions at temperatures: [300.0, 500.0, 600.0, 700.0, 800.0, 900.0, 1000.0, 1100.0, 1200.0, 1500.0, 2000.0]\"\"\")"
      ]
     },
     "execution_count": 48,
     "metadata": {},
     "output_type": "execute_result"
    }
   ],
   "source": [
    "left_out_kin.to_arrhenius()"
   ]
  },
  {
   "cell_type": "code",
   "execution_count": null,
   "id": "0482798b",
   "metadata": {},
   "outputs": [],
   "source": [
    "rxn.get_enthalpy_of_reaction(Tref)"
   ]
  }
 ],
 "metadata": {
  "kernelspec": {
   "display_name": "Python 3 (ipykernel)",
   "language": "python",
   "name": "python3"
  },
  "language_info": {
   "codemirror_mode": {
    "name": "ipython",
    "version": 3
   },
   "file_extension": ".py",
   "mimetype": "text/x-python",
   "name": "python",
   "nbconvert_exporter": "python",
   "pygments_lexer": "ipython3",
   "version": "3.7.12"
  }
 },
 "nbformat": 4,
 "nbformat_minor": 5
}
