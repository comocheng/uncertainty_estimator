{
 "cells": [
  {
   "cell_type": "code",
   "execution_count": 1,
   "id": "3e7a56c2",
   "metadata": {},
   "outputs": [],
   "source": [
    "# simplest example available"
   ]
  },
  {
   "cell_type": "code",
   "execution_count": 2,
   "id": "9798bc9e",
   "metadata": {},
   "outputs": [],
   "source": [
    "import rmgpy.chemkin\n",
    "import os\n",
    "\n",
    "import cantera as ct\n",
    "import numpy as np\n",
    "import logging\n",
    "\n",
    "import rmgpy.solver  # import SimpleReactor, TerminationTime, SurfaceReactor\n",
    "import rmgpy.quantity  #import Quantity\n",
    "import rmgpy.rmg.listener # import SimulationProfileWriter, SimulationProfilePlotter\n",
    "import rmgpy.rmg.settings  #import ModelSettings, SimulatorSettings\n",
    "\n",
    "import matplotlib\n",
    "import matplotlib.pyplot as plt\n",
    "%matplotlib inline\n",
    "\n",
    "# logging.basicConfig(level=logging.DEBUG)\n",
    "import rmgpy.constants as constants\n",
    "from rmgpy.kinetics import SurfaceArrhenius, StickingCoefficient\n",
    "from rmgpy.molecule import Molecule\n",
    "from rmgpy.reaction import Reaction\n",
    "# from rmgpy.solver.surface import SurfaceReactor\n",
    "from rmgpy.species import Species\n",
    "from rmgpy.thermo import ThermoData, NASA, NASAPolynomial\n"
   ]
  },
  {
   "cell_type": "code",
   "execution_count": 3,
   "id": "9dea4ed8",
   "metadata": {},
   "outputs": [],
   "source": [
    "# CH3 + X <=>  CH3X\n",
    "\n",
    "\n",
    "ch3 = Species(\n",
    "            molecule=[Molecule().from_smiles(\"[CH3]\")],\n",
    "            thermo=NASA(\n",
    "                polynomials=[\n",
    "                    NASAPolynomial(\n",
    "                        coeffs=[\n",
    "                            3.91547,\n",
    "                            0.00184155,\n",
    "                            3.48741e-06,\n",
    "                            -3.32746e-09,\n",
    "                            8.49953e-13,\n",
    "                            16285.6,\n",
    "                            0.351743,\n",
    "                        ],\n",
    "                        Tmin=(100, \"K\"),\n",
    "                        Tmax=(1337.63, \"K\"),\n",
    "                    ),\n",
    "                    NASAPolynomial(\n",
    "                        coeffs=[\n",
    "                            3.54146,\n",
    "                            0.00476786,\n",
    "                            -1.82148e-06,\n",
    "                            3.28876e-10,\n",
    "                            -2.22545e-14,\n",
    "                            16224,\n",
    "                            1.66032,\n",
    "                        ],\n",
    "                        Tmin=(1337.63, \"K\"),\n",
    "                        Tmax=(5000, \"K\"),\n",
    "                    ),\n",
    "                ],\n",
    "                Tmin=(100, \"K\"),\n",
    "                Tmax=(5000, \"K\"),\n",
    "                E0=(135.382, \"kJ/mol\"),\n",
    "                comment=\"\"\"Thermo library: primaryThermoLibrary + radical(CH3)\"\"\",\n",
    "            ),\n",
    "            molecular_weight=(15.0345, \"amu\"),\n",
    "        )\n",
    "\n",
    "x = Species(\n",
    "    molecule=[Molecule().from_adjacency_list(\"1 X u0 p0\")],\n",
    "    thermo=NASA(\n",
    "        polynomials=[\n",
    "            NASAPolynomial(coeffs=[0, 0, 0, 0, 0, 0, 0], Tmin=(298, \"K\"), Tmax=(1000, \"K\")),\n",
    "            NASAPolynomial(coeffs=[0, 0, 0, 0, 0, 0, 0], Tmin=(1000, \"K\"), Tmax=(2000, \"K\")),\n",
    "        ],\n",
    "        Tmin=(298, \"K\"),\n",
    "        Tmax=(2000, \"K\"),\n",
    "        E0=(-6.19426, \"kJ/mol\"),\n",
    "        comment=\"\"\"Thermo library: surfaceThermo\"\"\",\n",
    "    ),\n",
    ")\n",
    "\n",
    "ch3x = Species(\n",
    "    molecule=[\n",
    "        Molecule().from_adjacency_list(\n",
    "            \"\"\"1 C u0 p0 c0 {2,S} {3,S} {4,S} {5,S}\n",
    "2 H u0 p0 c0 {1,S}\n",
    "3 H u0 p0 c0 {1,S}\n",
    "4 H u0 p0 c0 {1,S}\n",
    "5 X u0 p0 c0 {1,S}\"\"\"\n",
    "        )\n",
    "    ],\n",
    "    thermo=NASA(\n",
    "        polynomials=[\n",
    "            NASAPolynomial(\n",
    "                coeffs=[\n",
    "                    -0.552219,\n",
    "                    0.026442,\n",
    "                    -3.55617e-05,\n",
    "                    2.60044e-08,\n",
    "                    -7.52707e-12,\n",
    "                    -4433.47,\n",
    "                    0.692144,\n",
    "                ],\n",
    "                Tmin=(298, \"K\"),\n",
    "                Tmax=(1000, \"K\"),\n",
    "            ),\n",
    "            NASAPolynomial(\n",
    "                coeffs=[\n",
    "                    3.62557,\n",
    "                    0.00739512,\n",
    "                    -2.43797e-06,\n",
    "                    1.86159e-10,\n",
    "                    3.6485e-14,\n",
    "                    -5187.22,\n",
    "                    -18.9668,\n",
    "                ],\n",
    "                Tmin=(1000, \"K\"),\n",
    "                Tmax=(2000, \"K\"),\n",
    "            ),\n",
    "        ],\n",
    "        Tmin=(298, \"K\"),\n",
    "        Tmax=(2000, \"K\"),\n",
    "        E0=(-39.1285, \"kJ/mol\"),\n",
    "        comment=\"\"\"Thermo library: surfaceThermoNi111\"\"\",\n",
    "    ),\n",
    ")\n",
    "\n",
    "rxn1 = Reaction(\n",
    "            reactants=[ch3, x],\n",
    "            products=[ch3x],\n",
    "            kinetics=StickingCoefficient(\n",
    "                A=0.1,\n",
    "                n=0,\n",
    "                Ea=(0, \"kcal/mol\"),\n",
    "                T0=(1, \"K\"),\n",
    "                Tmin=(200, \"K\"),\n",
    "                Tmax=(3000, \"K\"),\n",
    "                comment=\"\"\"Exact match found for rate rule (Adsorbate;VacantSite)\"\"\",\n",
    "            )\n",
    "            # kinetics=SurfaceArrhenius(A=(2.7e10, 'cm^3/(mol*s)'),\n",
    "            #                           n=0.5,\n",
    "            #                           Ea=(5.0, 'kJ/mol'),\n",
    "            #                           T0=(1.0, 'K'))\n",
    "        )\n",
    "        "
   ]
  },
  {
   "cell_type": "code",
   "execution_count": 4,
   "id": "f0f99433",
   "metadata": {},
   "outputs": [],
   "source": [
    "core_species = [ch3, x, ch3x]\n",
    "edge_species = []\n",
    "core_reactions = [rxn1]\n",
    "edge_reactions = []\n",
    "\n",
    "T = 800.0\n",
    "P_initial = 1.0e5\n",
    "rxn_system = rmgpy.solver.SurfaceReactor(\n",
    "    T,\n",
    "    P_initial,\n",
    "    n_sims=1,\n",
    "    initial_gas_mole_fractions={ch3: 1.0},\n",
    "    initial_surface_coverages={x: 1.0},\n",
    "    surface_volume_ratio=(1.0, \"m^-1\"),\n",
    "    surface_site_density=(2.72e-9, \"mol/cm^2\"),\n",
    "    termination=[],\n",
    ")\n",
    "# in chemkin, the sites are mostly occupied in about 1e-8 seconds."
   ]
  },
  {
   "cell_type": "code",
   "execution_count": 5,
   "id": "9b7bdff2",
   "metadata": {},
   "outputs": [],
   "source": [
    "rxn_system.initialize_model(core_species, core_reactions, edge_species, edge_reactions)\n",
    "tlist = np.logspace(-13, -6, 81, dtype=float)\n"
   ]
  },
  {
   "cell_type": "code",
   "execution_count": 6,
   "id": "94cfb7ea",
   "metadata": {},
   "outputs": [
    {
     "name": "stdout",
     "output_type": "stream",
     "text": [
      "time:  [0.0]\n",
      "moles: [array([1.00000000e+00, 1.80922911e-06, 0.00000000e+00])]\n",
      "reaction rates: [array([398.93602176])]\n",
      "species rates: [array([-398.93602176, -398.93602176,  398.93602176])]\n"
     ]
    }
   ],
   "source": [
    "# Integrate to get the solution at each time point\n",
    "t = []\n",
    "y = []\n",
    "ys_rmg = []\n",
    "reaction_rates = []\n",
    "species_rates = []\n",
    "ys_rmg.append(rxn_system.core_species_concentrations)\n",
    "t.append(rxn_system.t)\n",
    "# You must make a copy of y because it is overwritten by DASSL at\n",
    "# each call to advance()\n",
    "y.append(rxn_system.y.copy())\n",
    "reaction_rates.append(rxn_system.core_reaction_rates.copy())\n",
    "species_rates.append(rxn_system.core_species_rates.copy())\n",
    "print(\"time: \", t)\n",
    "print(\"moles:\", y)\n",
    "print(\"reaction rates:\", reaction_rates)\n",
    "print(\"species rates:\", species_rates)\n",
    "for t1 in tlist:\n",
    "    rxn_system.advance(t1)\n",
    "    t.append(rxn_system.t)\n",
    "    # You must make a copy of y because it is overwritten by DASSL at\n",
    "    # each call to advance()\n",
    "    y.append(rxn_system.y.copy())\n",
    "    reaction_rates.append(rxn_system.core_reaction_rates.copy())\n",
    "    species_rates.append(rxn_system.core_species_rates.copy())\n",
    "    ys_rmg.append(rxn_system.core_species_concentrations)\n",
    "# # Convert the solution vectors to np arrays\n",
    "# t = np.array(t, float)\n",
    "# y = np.array(y, float)\n",
    "# reaction_rates = np.array(reaction_rates, float)\n",
    "# species_rates = np.array(species_rates, float)\n",
    "# V = constants.R * rxn_system.T.value_si * np.sum(y) / rxn_system.P_initial.value_si"
   ]
  },
  {
   "cell_type": "code",
   "execution_count": null,
   "id": "f826c870",
   "metadata": {},
   "outputs": [],
   "source": []
  },
  {
   "cell_type": "code",
   "execution_count": 7,
   "id": "3d180976",
   "metadata": {},
   "outputs": [
    {
     "data": {
      "image/png": "[encoded data removed]",
      "text/plain": [
       "<Figure size 640x480 with 1 Axes>"
      ]
     },
     "metadata": {},
     "output_type": "display_data"
    },
    {
     "data": {
      "image/png": "[encoded data removed]",
      "text/plain": [
       "<Figure size 640x480 with 1 Axes>"
      ]
     },
     "metadata": {},
     "output_type": "display_data"
    }
   ],
   "source": [
    "\n",
    "# plot results\n",
    "for i in range(len(y[0])):\n",
    "    if core_species[i].contains_surface_site():\n",
    "        continue\n",
    "    y_hs = [x[i] for x in y]\n",
    "    plt.plot(t, y_hs, label=str(core_species[i]))\n",
    "plt.xlabel('time (s)')\n",
    "plt.ylabel('concentration')\n",
    "plt.legend(bbox_to_anchor=(1.1, 1.05))\n",
    "plt.show()\n",
    "\n",
    "for i in range(len(y[0])):\n",
    "    if not core_species[i].contains_surface_site():\n",
    "        continue\n",
    "    y_hs = [x[i] for x in y]\n",
    "#     y_hs = [x[i] for x in ys_rmg]\n",
    "    plt.plot(t, y_hs, label=str(core_species[i]))\n",
    "plt.xlabel('time (s)')\n",
    "plt.ylabel('concentration')\n",
    "# plt.yscale('log')\n",
    "plt.legend(bbox_to_anchor=(1.1, 1.05))\n",
    "plt.show()\n"
   ]
  },
  {
   "cell_type": "code",
   "execution_count": 8,
   "id": "743b6ad0",
   "metadata": {},
   "outputs": [],
   "source": [
    "# save as Cantera mech\n",
    "\n",
    "core_species = [ch3, x, ch3x]\n",
    "edge_species = []\n",
    "core_reactions = [rxn1]\n",
    "edge_reactions = []\n",
    "\n",
    "# rmgpy.chemkin.save_species_dictionary('te')\n",
    "rmgpy.chemkin.save_chemkin_file('test-gas.inp', [ch3], [])\n",
    "rmgpy.chemkin.save_chemkin_surface_file('test-surface.inp', [x, ch3x], [rxn1])"
   ]
  },
  {
   "cell_type": "code",
   "execution_count": 9,
   "id": "617ea0aa",
   "metadata": {},
   "outputs": [
    {
     "ename": "NameError",
     "evalue": "name 'surf' is not defined",
     "output_type": "error",
     "traceback": [
      "\u001b[0;31m---------------------------------------------------------------------------\u001b[0m",
      "\u001b[0;31mNameError\u001b[0m                                 Traceback (most recent call last)",
      "\u001b[0;32m/tmp/ipykernel_11948/214645816.py\u001b[0m in \u001b[0;36m<module>\u001b[0;34m\u001b[0m\n\u001b[0;32m----> 1\u001b[0;31m \u001b[0msurf\u001b[0m\u001b[0;34m.\u001b[0m\u001b[0mspecies_names\u001b[0m\u001b[0;34m\u001b[0m\u001b[0;34m\u001b[0m\u001b[0m\n\u001b[0m",
      "\u001b[0;31mNameError\u001b[0m: name 'surf' is not defined"
     ]
    }
   ],
   "source": [
    "surf.species_names"
   ]
  },
  {
   "cell_type": "code",
   "execution_count": 42,
   "id": "5cdae43c",
   "metadata": {},
   "outputs": [
    {
     "data": {
      "text/plain": [
       "2.7200000000000002e-08"
      ]
     },
     "execution_count": 42,
     "metadata": {},
     "output_type": "execute_result"
    }
   ],
   "source": [
    "surf.site_density"
   ]
  },
  {
   "cell_type": "code",
   "execution_count": 18,
   "id": "c20c589b",
   "metadata": {},
   "outputs": [
    {
     "ename": "ValueError",
     "evalue": "No such species 1.",
     "output_type": "error",
     "traceback": [
      "\u001b[0;31m---------------------------------------------------------------------------\u001b[0m",
      "\u001b[0;31mValueError\u001b[0m                                Traceback (most recent call last)",
      "\u001b[0;32m/tmp/ipykernel_11948/2898342712.py\u001b[0m in \u001b[0;36m<module>\u001b[0;34m\u001b[0m\n\u001b[1;32m     33\u001b[0m \u001b[0;34m\u001b[0m\u001b[0m\n\u001b[1;32m     34\u001b[0m \u001b[0mgas_reactor\u001b[0m\u001b[0;34m.\u001b[0m\u001b[0madd_sensitivity_species_enthalpy\u001b[0m\u001b[0;34m(\u001b[0m\u001b[0;36m0\u001b[0m\u001b[0;34m)\u001b[0m\u001b[0;34m\u001b[0m\u001b[0;34m\u001b[0m\u001b[0m\n\u001b[0;32m---> 35\u001b[0;31m \u001b[0mgas_reactor\u001b[0m\u001b[0;34m.\u001b[0m\u001b[0madd_sensitivity_species_enthalpy\u001b[0m\u001b[0;34m(\u001b[0m\u001b[0;36m1\u001b[0m\u001b[0;34m)\u001b[0m\u001b[0;34m\u001b[0m\u001b[0;34m\u001b[0m\u001b[0m\n\u001b[0m\u001b[1;32m     36\u001b[0m \u001b[0;34m\u001b[0m\u001b[0m\n\u001b[1;32m     37\u001b[0m \u001b[0;31m# #########\u001b[0m\u001b[0;34m\u001b[0m\u001b[0;34m\u001b[0m\u001b[0;34m\u001b[0m\u001b[0m\n",
      "\u001b[0;32mbuild/python/cantera/reactor.pyx\u001b[0m in \u001b[0;36mcantera._cantera.Reactor.add_sensitivity_species_enthalpy\u001b[0;34m()\u001b[0m\n",
      "\u001b[0;32mbuild/python/cantera/thermo.pyx\u001b[0m in \u001b[0;36mcantera._cantera.ThermoPhase.species_index\u001b[0;34m()\u001b[0m\n",
      "\u001b[0;32mbuild/python/cantera/thermo.pyx\u001b[0m in \u001b[0;36mcantera._cantera.ThermoPhase.species_index\u001b[0;34m()\u001b[0m\n",
      "\u001b[0;31mValueError\u001b[0m: No such species 1."
     ]
    }
   ],
   "source": [
    "mech_yaml = 'test-gas.yaml'\n",
    "\n",
    "\n",
    "surf = ct.Interface(mech_yaml, 'surface1')\n",
    "gas = surf.adjacent['gas']\n",
    "\n",
    "T = 800.0\n",
    "P = 1e5\n",
    "\n",
    "initial_mole_fractions = '[CH3]: 1.0'  # test data\n",
    "initial_surface_coverages = '[Pt]:1.0'\n",
    "\n",
    "gas.TPY = T, P, initial_mole_fractions\n",
    "surf.TP = T, P\n",
    "surf.coverages = initial_surface_coverages\n",
    "\n",
    "catalyst_weight = 4.24e-3\n",
    "cat_site_per_wt = 5*61.67*1e-6*1e3 # [mol/kg] 1e-6mol/micromole, 1000g/kg\n",
    "site_density = (\n",
    "    surf.site_density * 1000\n",
    ")  # [mol/m^2]cantera uses kmol/m^2, convert to mol/m^2\n",
    "cat_area = (catalyst_weight * cat_site_per_wt) / site_density  # [m^3]\n",
    "\n",
    "# gas_reactor = ct.IdealGasReactor(gas, energy='off')\n",
    "# gas_reactor.volume = 6.0\n",
    "gas_reactor = ct.IdealGasConstPressureReactor(gas, energy='off')\n",
    "# opting not to set catalyst area here... we'll see how that goes\n",
    "\n",
    "\n",
    "surface_reactor = ct.ReactorSurface(surf, gas_reactor)\n",
    "\n",
    "net = ct.ReactorNet([gas_reactor])\n",
    "\n",
    "gas_reactor.add_sensitivity_species_enthalpy(0)\n",
    "gas_reactor.add_sensitivity_species_enthalpy(1)\n",
    "\n",
    "# #########\n",
    "\n",
    "\n",
    "# # upstream = ct.Reservoir(gas, name='upstream')\n",
    "\n",
    "# # # # create a reservoir for the reactor to exhaust into. The composition of\n",
    "# # # # this reservoir is irrelevant.\n",
    "# # downstream = ct.Reservoir(gas, name='downstream')\n",
    "\n",
    "# # V = 30 # velocity m/s (setting very high values allows for effectively fixed gas-phase composition)\n",
    "\n",
    "# # mass_flow_rate = V * gas.density * 1.0 * 1.0\n",
    "# # # # The mass flow rate into the reactor will be fixed by using a\n",
    "# # # # MassFlowController object.\n",
    "# # m = ct.MassFlowController(upstream, gas_reactor, mdot=mass_flow_rate)\n",
    "\n",
    "# # v = ct.PressureController(gas_reactor, downstream, master=m, K=1e-5)\n",
    "# ##############\n",
    "\n",
    "history = []\n",
    "gas_history = []\n",
    "\n",
    "ts_ct = [net.time]\n",
    "ys_ct = [gas.X]\n",
    "ys_surf = [surf.coverages]\n",
    "y_conc = [surf.concentrations]\n",
    "while net.time < 1e-6:\n",
    "    net.step()\n",
    "    ts_ct.append(net.time)\n",
    "    ys_ct.append(gas.X)\n",
    "    ys_surf.append(surf.coverages)\n",
    "    y_conc.append(surf.concentrations)\n",
    "# plot results\n",
    "for i in range(len(ys_ct[0])):\n",
    "    y_hs = [x[i] for x in ys_ct]\n",
    "    plt.plot(ts_ct, y_hs, label=gas.species_names[i])\n",
    "plt.xlabel('time (s)')\n",
    "plt.ylabel('concentration')\n",
    "plt.legend(bbox_to_anchor=(1.1, 1.05))\n",
    "plt.show()\n",
    "\n",
    "for i in range(len(ys_surf[0])):\n",
    "    y_hs = [x[i] for x in ys_surf]\n",
    "    plt.plot(ts_ct, y_hs, label=surf.species_names[i])\n",
    "plt.xlabel('time (s)')\n",
    "plt.ylabel('concentration')\n",
    "# plt.yscale('log')\n",
    "plt.legend(bbox_to_anchor=(1.1, 1.05))\n",
    "plt.show()\n"
   ]
  },
  {
   "cell_type": "code",
   "execution_count": 11,
   "id": "adce3862",
   "metadata": {},
   "outputs": [
    {
     "data": {
      "text/plain": [
       "<matplotlib.legend.Legend at 0x7fb6dc630050>"
      ]
     },
     "execution_count": 11,
     "metadata": {},
     "output_type": "execute_result"
    },
    {
     "data": {
      "image/png": "[encoded data removed]",
      "text/plain": [
       "<Figure size 640x480 with 1 Axes>"
      ]
     },
     "metadata": {},
     "output_type": "display_data"
    }
   ],
   "source": [
    "# Plot both together\n",
    "for i in range(len(y[0])):\n",
    "    if not core_species[i].contains_surface_site():\n",
    "        continue\n",
    "    y_hs = [x[i] for x in ys_rmg]\n",
    "    plt.plot(t, y_hs, label=str(core_species[i]))\n",
    "plt.xlabel('time (s)')\n",
    "plt.ylabel('concentration')\n",
    "\n",
    "plt.legend(bbox_to_anchor=(1.1, 1.05))\n",
    "\n",
    "\n",
    "for i in range(len(ys_surf[0])):\n",
    "    y_hs = [x[i] *1e3 for x in y_conc]\n",
    "    plt.plot(ts_ct, y_hs, label=surf.species_names[i], linestyle='dashed')\n",
    "plt.xlabel('time (s)')\n",
    "plt.ylabel('concentration')\n",
    "\n",
    "plt.legend(bbox_to_anchor=(1.1, 1.05))\n"
   ]
  },
  {
   "cell_type": "code",
   "execution_count": null,
   "id": "da9d7c95",
   "metadata": {},
   "outputs": [],
   "source": [
    "surface_reactor.add_sensitivity_reaction"
   ]
  },
  {
   "cell_type": "code",
   "execution_count": 12,
   "id": "2468aef3",
   "metadata": {},
   "outputs": [
    {
     "data": {
      "text/plain": [
       "array([5.08739497e-04, 9.99491261e-01])"
      ]
     },
     "execution_count": 12,
     "metadata": {},
     "output_type": "execute_result"
    }
   ],
   "source": [
    "surface_reactor.coverages"
   ]
  },
  {
   "cell_type": "code",
   "execution_count": 14,
   "id": "3b692091",
   "metadata": {},
   "outputs": [
    {
     "data": {
      "text/plain": [
       "1"
      ]
     },
     "execution_count": 14,
     "metadata": {},
     "output_type": "execute_result"
    }
   ],
   "source": [
    "gas_reactor.thermo.n_species"
   ]
  },
  {
   "cell_type": "code",
   "execution_count": 17,
   "id": "0bbfb67d",
   "metadata": {},
   "outputs": [
    {
     "ename": "CanteraError",
     "evalue": "\n*******************************************************************************\nCanteraError thrown by ReactorNet::registerSensitivityParameter:\nSensitivity parameters cannot be added after theintegrator has been initialized.\n*******************************************************************************\n",
     "output_type": "error",
     "traceback": [
      "\u001b[0;31m---------------------------------------------------------------------------\u001b[0m",
      "\u001b[0;31mCanteraError\u001b[0m                              Traceback (most recent call last)",
      "\u001b[0;32m/tmp/ipykernel_11948/2469928844.py\u001b[0m in \u001b[0;36m<module>\u001b[0;34m\u001b[0m\n\u001b[0;32m----> 1\u001b[0;31m \u001b[0mgas_reactor\u001b[0m\u001b[0;34m.\u001b[0m\u001b[0madd_sensitivity_species_enthalpy\u001b[0m\u001b[0;34m(\u001b[0m\u001b[0;36m0\u001b[0m\u001b[0;34m)\u001b[0m\u001b[0;34m\u001b[0m\u001b[0;34m\u001b[0m\u001b[0m\n\u001b[0m",
      "\u001b[0;32mbuild/python/cantera/reactor.pyx\u001b[0m in \u001b[0;36mcantera._cantera.Reactor.add_sensitivity_species_enthalpy\u001b[0;34m()\u001b[0m\n",
      "\u001b[0;31mCanteraError\u001b[0m: \n*******************************************************************************\nCanteraError thrown by ReactorNet::registerSensitivityParameter:\nSensitivity parameters cannot be added after theintegrator has been initialized.\n*******************************************************************************\n"
     ]
    }
   ],
   "source": [
    "gas_reactor.add_sensitivity_species_enthalpy(0)"
   ]
  },
  {
   "cell_type": "code",
   "execution_count": 15,
   "id": "2b5289d9",
   "metadata": {},
   "outputs": [
    {
     "data": {
      "text/plain": [
       "[<Species [CH3]>]"
      ]
     },
     "execution_count": 15,
     "metadata": {},
     "output_type": "execute_result"
    }
   ],
   "source": [
    "gas_reactor.thermo.species()"
   ]
  },
  {
   "cell_type": "code",
   "execution_count": null,
   "id": "3768b347",
   "metadata": {},
   "outputs": [],
   "source": [
    "gas_reactor.a"
   ]
  },
  {
   "cell_type": "code",
   "execution_count": null,
   "id": "4731fe55",
   "metadata": {},
   "outputs": [],
   "source": [
    "surface_reactor."
   ]
  }
 ],
 "metadata": {
  "kernelspec": {
   "display_name": "Python 3 (ipykernel)",
   "language": "python",
   "name": "python3"
  },
  "language_info": {
   "codemirror_mode": {
    "name": "ipython",
    "version": 3
   },
   "file_extension": ".py",
   "mimetype": "text/x-python",
   "name": "python",
   "nbconvert_exporter": "python",
   "pygments_lexer": "ipython3",
   "version": "3.7.12"
  }
 },
 "nbformat": 4,
 "nbformat_minor": 5
}
